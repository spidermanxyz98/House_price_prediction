{
 "cells": [
  {
   "cell_type": "code",
   "execution_count": 1,
   "metadata": {
    "collapsed": false
   },
   "outputs": [
    {
     "name": "stderr",
     "output_type": "stream",
     "text": [
      "/home/xinlin/anaconda3/lib/python3.5/site-packages/sklearn/cross_validation.py:44: DeprecationWarning: This module was deprecated in version 0.18 in favor of the model_selection module into which all the refactored classes and functions are moved. Also note that the interface of the new CV iterators are different from that of this module. This module will be removed in 0.20.\n",
      "  \"This module will be removed in 0.20.\", DeprecationWarning)\n"
     ]
    }
   ],
   "source": [
    "import pandas as pd\n",
    "from sklearn.model_selection import train_test_split\n",
    "from sklearn.metrics import mean_squared_error\n",
    "from sklearn.preprocessing import StandardScaler\n",
    "from sklearn.preprocessing import Imputer\n",
    "from sklearn.preprocessing import OneHotEncoder\n",
    "from sklearn.ensemble import RandomForestRegressor, ExtraTreesRegressor, GradientBoostingRegressor\n",
    "from sklearn.linear_model import Ridge, RidgeCV, LassoCV, Lasso, ElasticNet\n",
    "from sklearn.svm import SVR\n",
    "import xgboost as xgb\n",
    "from sklearn.model_selection import KFold\n",
    "import numpy as np\n",
    "import matplotlib.pyplot as plt\n",
    "import seaborn as sns\n",
    "%matplotlib inline\n"
   ]
  },
  {
   "cell_type": "markdown",
   "metadata": {},
   "source": [
    "# Read data and combine the training and test data"
   ]
  },
  {
   "cell_type": "code",
   "execution_count": 2,
   "metadata": {
    "collapsed": false
   },
   "outputs": [
    {
     "name": "stdout",
     "output_type": "stream",
     "text": [
      "The shape of data is: (2919, 79)\n"
     ]
    }
   ],
   "source": [
    "data=pd.read_csv(\"input/train.csv\", index_col=0)\n",
    "real_test=pd.read_csv(\"input/test.csv\", index_col=0)\n",
    "\n",
    "#combine the training and test data\n",
    "X=data.iloc[:, 0:-1]\n",
    "y=data.iloc[:, -1]\n",
    "y=y.apply(np.log)\n",
    "\n",
    "frames=[X, real_test]\n",
    "X=pd.concat(frames)\n",
    "print('The shape of data is:', X.shape)"
   ]
  },
  {
   "cell_type": "markdown",
   "metadata": {},
   "source": [
    "# Deal with NaN"
   ]
  },
  {
   "cell_type": "code",
   "execution_count": 3,
   "metadata": {
    "collapsed": true
   },
   "outputs": [],
   "source": [
    "def exploration(col):\n",
    "    return X[col].value_counts()\n",
    "\n",
    "def most_frequent(col):\n",
    "    series=exploration(col)\n",
    "    types=series.index.tolist()\n",
    "    counts=series.tolist()\n",
    "    \n",
    "    id_max=counts.index(max(counts))\n",
    "    return types[id_max]\n",
    "\n",
    "def imputation(col, value):\n",
    "    X.loc[X[col].isnull(), col]=value\n",
    "\n",
    "#return the feature names with missing values\n",
    "def show_missing():\n",
    "    missing=X.columns[X.isnull().any()].tolist()\n",
    "    return missing"
   ]
  },
  {
   "cell_type": "code",
   "execution_count": 4,
   "metadata": {
    "collapsed": false
   },
   "outputs": [
    {
     "name": "stdout",
     "output_type": "stream",
     "text": [
      "['MSZoning', 'Utilities', 'Exterior1st', 'Exterior2nd', 'BsmtFinSF1', 'BsmtFinSF2', 'BsmtUnfSF', 'TotalBsmtSF', 'Electrical', 'BsmtFullBath', 'BsmtHalfBath', 'KitchenQual', 'Functional', 'GarageCars', 'GarageArea', 'SaleType']\n"
     ]
    }
   ],
   "source": [
    "Nan=X[show_missing()].isnull().sum()\n",
    "#If the Nan appears less than 10 times, replace it with the most frequent value (categorical data) or the mean (numerical)\n",
    "Nan_feature_1=Nan[Nan<=10].index.tolist()\n",
    "print(Nan_feature_1)\n",
    "\n",
    "for f in Nan_feature_1:\n",
    "    if X[f].dtype==np.object:\n",
    "        imputation(f, 'None')\n",
    "    else:\n",
    "        imputation(f, X[f].mean())"
   ]
  },
  {
   "cell_type": "code",
   "execution_count": 5,
   "metadata": {
    "collapsed": false
   },
   "outputs": [
    {
     "name": "stderr",
     "output_type": "stream",
     "text": [
      "/home/xinlin/anaconda3/lib/python3.5/site-packages/ipykernel/__main__.py:4: SettingWithCopyWarning: \n",
      "A value is trying to be set on a copy of a slice from a DataFrame\n",
      "\n",
      "See the caveats in the documentation: http://pandas.pydata.org/pandas-docs/stable/indexing.html#indexing-view-versus-copy\n"
     ]
    }
   ],
   "source": [
    "#Fill the NaN of LotFrontage using the sqrt of LotArea\n",
    "X['SqrtLotArea']=np.sqrt(X['LotArea'])\n",
    "cond=X['LotFrontage'].isnull()\n",
    "X.LotFrontage[cond]=X.SqrtLotArea[cond]\n",
    "del X['SqrtLotArea']"
   ]
  },
  {
   "cell_type": "code",
   "execution_count": 6,
   "metadata": {
    "collapsed": false
   },
   "outputs": [
    {
     "name": "stderr",
     "output_type": "stream",
     "text": [
      "/home/xinlin/anaconda3/lib/python3.5/site-packages/ipykernel/__main__.py:7: SettingWithCopyWarning: \n",
      "A value is trying to be set on a copy of a slice from a DataFrame\n",
      "\n",
      "See the caveats in the documentation: http://pandas.pydata.org/pandas-docs/stable/indexing.html#indexing-view-versus-copy\n",
      "/home/xinlin/anaconda3/lib/python3.5/site-packages/ipykernel/__main__.py:8: SettingWithCopyWarning: \n",
      "A value is trying to be set on a copy of a slice from a DataFrame\n",
      "\n",
      "See the caveats in the documentation: http://pandas.pydata.org/pandas-docs/stable/indexing.html#indexing-view-versus-copy\n"
     ]
    }
   ],
   "source": [
    "#Alley: None represents there is no alley\n",
    "imputation('Alley', 'None')\n",
    "\n",
    "#MasVnAre and MasVnrType\n",
    "\n",
    "cond=X['MasVnrArea'].isnull()\n",
    "X['MasVnrArea'][cond]=0\n",
    "X['MasVnrType'][cond]='None'\n",
    "\n",
    "cond=X['MasVnrType'].isnull()\n",
    "X['MasVnrType']=most_frequent('MasVnrType')"
   ]
  },
  {
   "cell_type": "code",
   "execution_count": 7,
   "metadata": {
    "collapsed": false
   },
   "outputs": [],
   "source": [
    "#None means there is no such attribute for that house\n",
    "imputation('BsmtQual', 'None')\n",
    "imputation('BsmtCond', 'None')\n",
    "imputation('BsmtExposure', 'None')\n",
    "imputation('BsmtFinType1', 'None')\n",
    "imputation('BsmtFinType2', 'None')\n",
    "imputation('FireplaceQu', 'None')\n",
    "imputation('GarageType', 'None')\n",
    "imputation('GarageYrBlt', 0)\n",
    "imputation('GarageFinish', 'None')\n",
    "imputation('GarageQual', 'None')\n",
    "imputation('GarageCond', 'None')\n",
    "imputation('PoolQC', 'None')\n",
    "imputation('Fence', 'None')\n",
    "imputation('MiscFeature', 'None')"
   ]
  },
  {
   "cell_type": "code",
   "execution_count": 8,
   "metadata": {
    "collapsed": false
   },
   "outputs": [
    {
     "data": {
      "text/html": [
       "<div>\n",
       "<table border=\"1\" class=\"dataframe\">\n",
       "  <thead>\n",
       "    <tr style=\"text-align: right;\">\n",
       "      <th></th>\n",
       "      <th>MSSubClass</th>\n",
       "      <th>MSZoning</th>\n",
       "      <th>LotFrontage</th>\n",
       "      <th>LotArea</th>\n",
       "      <th>Street</th>\n",
       "      <th>Alley</th>\n",
       "      <th>LotShape</th>\n",
       "      <th>LandContour</th>\n",
       "      <th>Utilities</th>\n",
       "      <th>LotConfig</th>\n",
       "      <th>...</th>\n",
       "      <th>ScreenPorch</th>\n",
       "      <th>PoolArea</th>\n",
       "      <th>PoolQC</th>\n",
       "      <th>Fence</th>\n",
       "      <th>MiscFeature</th>\n",
       "      <th>MiscVal</th>\n",
       "      <th>MoSold</th>\n",
       "      <th>YrSold</th>\n",
       "      <th>SaleType</th>\n",
       "      <th>SaleCondition</th>\n",
       "    </tr>\n",
       "    <tr>\n",
       "      <th>Id</th>\n",
       "      <th></th>\n",
       "      <th></th>\n",
       "      <th></th>\n",
       "      <th></th>\n",
       "      <th></th>\n",
       "      <th></th>\n",
       "      <th></th>\n",
       "      <th></th>\n",
       "      <th></th>\n",
       "      <th></th>\n",
       "      <th></th>\n",
       "      <th></th>\n",
       "      <th></th>\n",
       "      <th></th>\n",
       "      <th></th>\n",
       "      <th></th>\n",
       "      <th></th>\n",
       "      <th></th>\n",
       "      <th></th>\n",
       "      <th></th>\n",
       "      <th></th>\n",
       "    </tr>\n",
       "  </thead>\n",
       "  <tbody>\n",
       "    <tr>\n",
       "      <th>1</th>\n",
       "      <td>60</td>\n",
       "      <td>RL</td>\n",
       "      <td>65</td>\n",
       "      <td>8450</td>\n",
       "      <td>Pave</td>\n",
       "      <td>None</td>\n",
       "      <td>Reg</td>\n",
       "      <td>Lvl</td>\n",
       "      <td>AllPub</td>\n",
       "      <td>Inside</td>\n",
       "      <td>...</td>\n",
       "      <td>0</td>\n",
       "      <td>0</td>\n",
       "      <td>None</td>\n",
       "      <td>None</td>\n",
       "      <td>None</td>\n",
       "      <td>0</td>\n",
       "      <td>2</td>\n",
       "      <td>2008</td>\n",
       "      <td>WD</td>\n",
       "      <td>Normal</td>\n",
       "    </tr>\n",
       "    <tr>\n",
       "      <th>2</th>\n",
       "      <td>20</td>\n",
       "      <td>RL</td>\n",
       "      <td>80</td>\n",
       "      <td>9600</td>\n",
       "      <td>Pave</td>\n",
       "      <td>None</td>\n",
       "      <td>Reg</td>\n",
       "      <td>Lvl</td>\n",
       "      <td>AllPub</td>\n",
       "      <td>FR2</td>\n",
       "      <td>...</td>\n",
       "      <td>0</td>\n",
       "      <td>0</td>\n",
       "      <td>None</td>\n",
       "      <td>None</td>\n",
       "      <td>None</td>\n",
       "      <td>0</td>\n",
       "      <td>5</td>\n",
       "      <td>2007</td>\n",
       "      <td>WD</td>\n",
       "      <td>Normal</td>\n",
       "    </tr>\n",
       "    <tr>\n",
       "      <th>3</th>\n",
       "      <td>60</td>\n",
       "      <td>RL</td>\n",
       "      <td>68</td>\n",
       "      <td>11250</td>\n",
       "      <td>Pave</td>\n",
       "      <td>None</td>\n",
       "      <td>IR1</td>\n",
       "      <td>Lvl</td>\n",
       "      <td>AllPub</td>\n",
       "      <td>Inside</td>\n",
       "      <td>...</td>\n",
       "      <td>0</td>\n",
       "      <td>0</td>\n",
       "      <td>None</td>\n",
       "      <td>None</td>\n",
       "      <td>None</td>\n",
       "      <td>0</td>\n",
       "      <td>9</td>\n",
       "      <td>2008</td>\n",
       "      <td>WD</td>\n",
       "      <td>Normal</td>\n",
       "    </tr>\n",
       "    <tr>\n",
       "      <th>4</th>\n",
       "      <td>70</td>\n",
       "      <td>RL</td>\n",
       "      <td>60</td>\n",
       "      <td>9550</td>\n",
       "      <td>Pave</td>\n",
       "      <td>None</td>\n",
       "      <td>IR1</td>\n",
       "      <td>Lvl</td>\n",
       "      <td>AllPub</td>\n",
       "      <td>Corner</td>\n",
       "      <td>...</td>\n",
       "      <td>0</td>\n",
       "      <td>0</td>\n",
       "      <td>None</td>\n",
       "      <td>None</td>\n",
       "      <td>None</td>\n",
       "      <td>0</td>\n",
       "      <td>2</td>\n",
       "      <td>2006</td>\n",
       "      <td>WD</td>\n",
       "      <td>Abnorml</td>\n",
       "    </tr>\n",
       "    <tr>\n",
       "      <th>5</th>\n",
       "      <td>60</td>\n",
       "      <td>RL</td>\n",
       "      <td>84</td>\n",
       "      <td>14260</td>\n",
       "      <td>Pave</td>\n",
       "      <td>None</td>\n",
       "      <td>IR1</td>\n",
       "      <td>Lvl</td>\n",
       "      <td>AllPub</td>\n",
       "      <td>FR2</td>\n",
       "      <td>...</td>\n",
       "      <td>0</td>\n",
       "      <td>0</td>\n",
       "      <td>None</td>\n",
       "      <td>None</td>\n",
       "      <td>None</td>\n",
       "      <td>0</td>\n",
       "      <td>12</td>\n",
       "      <td>2008</td>\n",
       "      <td>WD</td>\n",
       "      <td>Normal</td>\n",
       "    </tr>\n",
       "  </tbody>\n",
       "</table>\n",
       "<p>5 rows × 79 columns</p>\n",
       "</div>"
      ],
      "text/plain": [
       "    MSSubClass MSZoning  LotFrontage  LotArea Street Alley LotShape  \\\n",
       "Id                                                                    \n",
       "1           60       RL           65     8450   Pave  None      Reg   \n",
       "2           20       RL           80     9600   Pave  None      Reg   \n",
       "3           60       RL           68    11250   Pave  None      IR1   \n",
       "4           70       RL           60     9550   Pave  None      IR1   \n",
       "5           60       RL           84    14260   Pave  None      IR1   \n",
       "\n",
       "   LandContour Utilities LotConfig      ...       ScreenPorch PoolArea PoolQC  \\\n",
       "Id                                      ...                                     \n",
       "1          Lvl    AllPub    Inside      ...                 0        0   None   \n",
       "2          Lvl    AllPub       FR2      ...                 0        0   None   \n",
       "3          Lvl    AllPub    Inside      ...                 0        0   None   \n",
       "4          Lvl    AllPub    Corner      ...                 0        0   None   \n",
       "5          Lvl    AllPub       FR2      ...                 0        0   None   \n",
       "\n",
       "   Fence MiscFeature MiscVal  MoSold  YrSold  SaleType  SaleCondition  \n",
       "Id                                                                     \n",
       "1   None        None       0       2    2008        WD         Normal  \n",
       "2   None        None       0       5    2007        WD         Normal  \n",
       "3   None        None       0       9    2008        WD         Normal  \n",
       "4   None        None       0       2    2006        WD        Abnorml  \n",
       "5   None        None       0      12    2008        WD         Normal  \n",
       "\n",
       "[5 rows x 79 columns]"
      ]
     },
     "execution_count": 8,
     "metadata": {},
     "output_type": "execute_result"
    }
   ],
   "source": [
    "X.head()"
   ]
  },
  {
   "cell_type": "markdown",
   "metadata": {},
   "source": [
    "# Label the features"
   ]
  },
  {
   "cell_type": "code",
   "execution_count": 9,
   "metadata": {
    "collapsed": false
   },
   "outputs": [
    {
     "name": "stdout",
     "output_type": "stream",
     "text": [
      "number of numerical features: 35\n"
     ]
    },
    {
     "data": {
      "text/html": [
       "<div>\n",
       "<table border=\"1\" class=\"dataframe\">\n",
       "  <thead>\n",
       "    <tr style=\"text-align: right;\">\n",
       "      <th></th>\n",
       "      <th>LotFrontage</th>\n",
       "      <th>LotArea</th>\n",
       "      <th>OverallQual</th>\n",
       "      <th>OverallCond</th>\n",
       "      <th>YearBuilt</th>\n",
       "      <th>YearRemodAdd</th>\n",
       "      <th>MasVnrArea</th>\n",
       "      <th>BsmtFinSF1</th>\n",
       "      <th>BsmtFinSF2</th>\n",
       "      <th>BsmtUnfSF</th>\n",
       "      <th>...</th>\n",
       "      <th>WoodDeckSF</th>\n",
       "      <th>OpenPorchSF</th>\n",
       "      <th>EnclosedPorch</th>\n",
       "      <th>3SsnPorch</th>\n",
       "      <th>ScreenPorch</th>\n",
       "      <th>PoolArea</th>\n",
       "      <th>MiscVal</th>\n",
       "      <th>MoSold</th>\n",
       "      <th>YrSold</th>\n",
       "      <th>ID</th>\n",
       "    </tr>\n",
       "  </thead>\n",
       "  <tbody>\n",
       "    <tr>\n",
       "      <th>0</th>\n",
       "      <td>-0.358406</td>\n",
       "      <td>-0.217879</td>\n",
       "      <td>0.646183</td>\n",
       "      <td>-0.507284</td>\n",
       "      <td>1.046258</td>\n",
       "      <td>0.896833</td>\n",
       "      <td>0.529034</td>\n",
       "      <td>0.580907</td>\n",
       "      <td>-0.29313</td>\n",
       "      <td>-0.934863</td>\n",
       "      <td>...</td>\n",
       "      <td>-0.740760</td>\n",
       "      <td>0.200006</td>\n",
       "      <td>-0.359601</td>\n",
       "      <td>-0.103331</td>\n",
       "      <td>-0.285935</td>\n",
       "      <td>-0.06315</td>\n",
       "      <td>-0.089592</td>\n",
       "      <td>-1.552184</td>\n",
       "      <td>0.157646</td>\n",
       "      <td>1</td>\n",
       "    </tr>\n",
       "    <tr>\n",
       "      <th>1</th>\n",
       "      <td>0.159847</td>\n",
       "      <td>-0.072044</td>\n",
       "      <td>-0.063185</td>\n",
       "      <td>2.188279</td>\n",
       "      <td>0.154764</td>\n",
       "      <td>-0.395604</td>\n",
       "      <td>-0.567016</td>\n",
       "      <td>1.178112</td>\n",
       "      <td>-0.29313</td>\n",
       "      <td>-0.629896</td>\n",
       "      <td>...</td>\n",
       "      <td>1.614879</td>\n",
       "      <td>-0.702843</td>\n",
       "      <td>-0.359601</td>\n",
       "      <td>-0.103331</td>\n",
       "      <td>-0.285935</td>\n",
       "      <td>-0.06315</td>\n",
       "      <td>-0.089592</td>\n",
       "      <td>-0.446925</td>\n",
       "      <td>-0.602962</td>\n",
       "      <td>2</td>\n",
       "    </tr>\n",
       "    <tr>\n",
       "      <th>2</th>\n",
       "      <td>-0.254756</td>\n",
       "      <td>0.137197</td>\n",
       "      <td>0.646183</td>\n",
       "      <td>-0.507284</td>\n",
       "      <td>0.980221</td>\n",
       "      <td>0.848965</td>\n",
       "      <td>0.338903</td>\n",
       "      <td>0.097873</td>\n",
       "      <td>-0.29313</td>\n",
       "      <td>-0.288516</td>\n",
       "      <td>...</td>\n",
       "      <td>-0.740760</td>\n",
       "      <td>-0.081209</td>\n",
       "      <td>-0.359601</td>\n",
       "      <td>-0.103331</td>\n",
       "      <td>-0.285935</td>\n",
       "      <td>-0.06315</td>\n",
       "      <td>-0.089592</td>\n",
       "      <td>1.026753</td>\n",
       "      <td>0.157646</td>\n",
       "      <td>3</td>\n",
       "    </tr>\n",
       "    <tr>\n",
       "      <th>3</th>\n",
       "      <td>-0.531157</td>\n",
       "      <td>-0.078385</td>\n",
       "      <td>0.646183</td>\n",
       "      <td>-0.507284</td>\n",
       "      <td>-1.859351</td>\n",
       "      <td>-0.682812</td>\n",
       "      <td>-0.567016</td>\n",
       "      <td>-0.494941</td>\n",
       "      <td>-0.29313</td>\n",
       "      <td>-0.047275</td>\n",
       "      <td>...</td>\n",
       "      <td>-0.740760</td>\n",
       "      <td>-0.184815</td>\n",
       "      <td>3.874967</td>\n",
       "      <td>-0.103331</td>\n",
       "      <td>-0.285935</td>\n",
       "      <td>-0.06315</td>\n",
       "      <td>-0.089592</td>\n",
       "      <td>-1.552184</td>\n",
       "      <td>-1.363569</td>\n",
       "      <td>4</td>\n",
       "    </tr>\n",
       "    <tr>\n",
       "      <th>4</th>\n",
       "      <td>0.298048</td>\n",
       "      <td>0.518903</td>\n",
       "      <td>1.355551</td>\n",
       "      <td>-0.507284</td>\n",
       "      <td>0.947203</td>\n",
       "      <td>0.753229</td>\n",
       "      <td>1.390216</td>\n",
       "      <td>0.468931</td>\n",
       "      <td>-0.29313</td>\n",
       "      <td>-0.161068</td>\n",
       "      <td>...</td>\n",
       "      <td>0.776967</td>\n",
       "      <td>0.540424</td>\n",
       "      <td>-0.359601</td>\n",
       "      <td>-0.103331</td>\n",
       "      <td>-0.285935</td>\n",
       "      <td>-0.06315</td>\n",
       "      <td>-0.089592</td>\n",
       "      <td>2.132012</td>\n",
       "      <td>0.157646</td>\n",
       "      <td>5</td>\n",
       "    </tr>\n",
       "  </tbody>\n",
       "</table>\n",
       "<p>5 rows × 36 columns</p>\n",
       "</div>"
      ],
      "text/plain": [
       "   LotFrontage   LotArea  OverallQual  OverallCond  YearBuilt  YearRemodAdd  \\\n",
       "0    -0.358406 -0.217879     0.646183    -0.507284   1.046258      0.896833   \n",
       "1     0.159847 -0.072044    -0.063185     2.188279   0.154764     -0.395604   \n",
       "2    -0.254756  0.137197     0.646183    -0.507284   0.980221      0.848965   \n",
       "3    -0.531157 -0.078385     0.646183    -0.507284  -1.859351     -0.682812   \n",
       "4     0.298048  0.518903     1.355551    -0.507284   0.947203      0.753229   \n",
       "\n",
       "   MasVnrArea  BsmtFinSF1  BsmtFinSF2  BsmtUnfSF ...  WoodDeckSF  OpenPorchSF  \\\n",
       "0    0.529034    0.580907    -0.29313  -0.934863 ...   -0.740760     0.200006   \n",
       "1   -0.567016    1.178112    -0.29313  -0.629896 ...    1.614879    -0.702843   \n",
       "2    0.338903    0.097873    -0.29313  -0.288516 ...   -0.740760    -0.081209   \n",
       "3   -0.567016   -0.494941    -0.29313  -0.047275 ...   -0.740760    -0.184815   \n",
       "4    1.390216    0.468931    -0.29313  -0.161068 ...    0.776967     0.540424   \n",
       "\n",
       "   EnclosedPorch  3SsnPorch  ScreenPorch  PoolArea   MiscVal    MoSold  \\\n",
       "0      -0.359601  -0.103331    -0.285935  -0.06315 -0.089592 -1.552184   \n",
       "1      -0.359601  -0.103331    -0.285935  -0.06315 -0.089592 -0.446925   \n",
       "2      -0.359601  -0.103331    -0.285935  -0.06315 -0.089592  1.026753   \n",
       "3       3.874967  -0.103331    -0.285935  -0.06315 -0.089592 -1.552184   \n",
       "4      -0.359601  -0.103331    -0.285935  -0.06315 -0.089592  2.132012   \n",
       "\n",
       "     YrSold  ID  \n",
       "0  0.157646   1  \n",
       "1 -0.602962   2  \n",
       "2  0.157646   3  \n",
       "3 -1.363569   4  \n",
       "4  0.157646   5  \n",
       "\n",
       "[5 rows x 36 columns]"
      ]
     },
     "execution_count": 9,
     "metadata": {},
     "output_type": "execute_result"
    }
   ],
   "source": [
    "X['MSSubClass']=X['MSSubClass'].astype(str)\n",
    "X['GarageYrBlt']=X['GarageYrBlt'].astype(int)\n",
    "numerical_feature=X.columns[X.dtypes!='object']\n",
    "print('number of numerical features:',len(numerical_feature))\n",
    "\n",
    "#standarize numercical_features\n",
    "X_numerical=StandardScaler().fit_transform(X[numerical_feature])\n",
    "X_numerical=pd.DataFrame(X_numerical, columns=numerical_feature)\n",
    "X_numerical['ID']=list(np.arange(1,len(X_numerical)+1))\n",
    "X_numerical.head()"
   ]
  },
  {
   "cell_type": "markdown",
   "metadata": {},
   "source": [
    "# Determine ordinal features and non ordinal features"
   ]
  },
  {
   "cell_type": "code",
   "execution_count": 10,
   "metadata": {
    "collapsed": false
   },
   "outputs": [
    {
     "name": "stdout",
     "output_type": "stream",
     "text": [
      "number of non_ordinal_features 18\n",
      "number of ordinal_features 26\n"
     ]
    }
   ],
   "source": [
    "#determine ordinal features and non ordinal features\n",
    "\n",
    "non_ordinal_feature=['MSSubClass','MSZoning', 'Neighborhood', 'Condition1', 'Condition2', 'BldgType', \n",
    "                    'HouseStyle', 'RoofStyle', 'RoofMatl', 'Exterior1st', 'Exterior2nd',\n",
    "                   'MasVnrType', 'Foundation', 'Heating', 'MiscFeature', 'SaleType', 'SaleCondition', \n",
    "                     'LandSlope']\n",
    "print('number of non_ordinal_features', len(non_ordinal_feature))\n",
    "\n",
    "ordinal_feature=['ExterQual', 'ExterCond', 'BsmtQual', 'BsmtCond',\n",
    "                 'BsmtExposure', 'BsmtFinType1', 'BsmtFinType2',\n",
    "                 'HeatingQC', 'CentralAir', 'Electrical', 'KitchenQual',\n",
    "                 'Functional', 'FireplaceQu', 'GarageType','GarageFinish',\n",
    "                 'GarageQual','GarageCond', 'PavedDrive', 'PoolQC',\n",
    "                 'Fence', 'Street', 'Alley', 'LotShape', 'LandContour',\n",
    "               'Utilities', 'LotConfig']\n",
    "print('number of ordinal_features', len(ordinal_feature))"
   ]
  },
  {
   "cell_type": "markdown",
   "metadata": {},
   "source": [
    "# One hot encode the non ordinal features"
   ]
  },
  {
   "cell_type": "code",
   "execution_count": 11,
   "metadata": {
    "collapsed": false
   },
   "outputs": [
    {
     "name": "stdout",
     "output_type": "stream",
     "text": [
      "(2919, 161)\n"
     ]
    },
    {
     "data": {
      "text/html": [
       "<div>\n",
       "<table border=\"1\" class=\"dataframe\">\n",
       "  <thead>\n",
       "    <tr style=\"text-align: right;\">\n",
       "      <th></th>\n",
       "      <th>MSSubClass_120</th>\n",
       "      <th>MSSubClass_150</th>\n",
       "      <th>MSSubClass_160</th>\n",
       "      <th>MSSubClass_180</th>\n",
       "      <th>MSSubClass_190</th>\n",
       "      <th>MSSubClass_20</th>\n",
       "      <th>MSSubClass_30</th>\n",
       "      <th>MSSubClass_40</th>\n",
       "      <th>MSSubClass_45</th>\n",
       "      <th>MSSubClass_50</th>\n",
       "      <th>...</th>\n",
       "      <th>SaleCondition_Abnorml</th>\n",
       "      <th>SaleCondition_AdjLand</th>\n",
       "      <th>SaleCondition_Alloca</th>\n",
       "      <th>SaleCondition_Family</th>\n",
       "      <th>SaleCondition_Normal</th>\n",
       "      <th>SaleCondition_Partial</th>\n",
       "      <th>LandSlope_Gtl</th>\n",
       "      <th>LandSlope_Mod</th>\n",
       "      <th>LandSlope_Sev</th>\n",
       "      <th>ID</th>\n",
       "    </tr>\n",
       "    <tr>\n",
       "      <th>Id</th>\n",
       "      <th></th>\n",
       "      <th></th>\n",
       "      <th></th>\n",
       "      <th></th>\n",
       "      <th></th>\n",
       "      <th></th>\n",
       "      <th></th>\n",
       "      <th></th>\n",
       "      <th></th>\n",
       "      <th></th>\n",
       "      <th></th>\n",
       "      <th></th>\n",
       "      <th></th>\n",
       "      <th></th>\n",
       "      <th></th>\n",
       "      <th></th>\n",
       "      <th></th>\n",
       "      <th></th>\n",
       "      <th></th>\n",
       "      <th></th>\n",
       "      <th></th>\n",
       "    </tr>\n",
       "  </thead>\n",
       "  <tbody>\n",
       "    <tr>\n",
       "      <th>1</th>\n",
       "      <td>0</td>\n",
       "      <td>0</td>\n",
       "      <td>0</td>\n",
       "      <td>0</td>\n",
       "      <td>0</td>\n",
       "      <td>0</td>\n",
       "      <td>0</td>\n",
       "      <td>0</td>\n",
       "      <td>0</td>\n",
       "      <td>0</td>\n",
       "      <td>...</td>\n",
       "      <td>0</td>\n",
       "      <td>0</td>\n",
       "      <td>0</td>\n",
       "      <td>0</td>\n",
       "      <td>1</td>\n",
       "      <td>0</td>\n",
       "      <td>1</td>\n",
       "      <td>0</td>\n",
       "      <td>0</td>\n",
       "      <td>1</td>\n",
       "    </tr>\n",
       "    <tr>\n",
       "      <th>2</th>\n",
       "      <td>0</td>\n",
       "      <td>0</td>\n",
       "      <td>0</td>\n",
       "      <td>0</td>\n",
       "      <td>0</td>\n",
       "      <td>1</td>\n",
       "      <td>0</td>\n",
       "      <td>0</td>\n",
       "      <td>0</td>\n",
       "      <td>0</td>\n",
       "      <td>...</td>\n",
       "      <td>0</td>\n",
       "      <td>0</td>\n",
       "      <td>0</td>\n",
       "      <td>0</td>\n",
       "      <td>1</td>\n",
       "      <td>0</td>\n",
       "      <td>1</td>\n",
       "      <td>0</td>\n",
       "      <td>0</td>\n",
       "      <td>2</td>\n",
       "    </tr>\n",
       "    <tr>\n",
       "      <th>3</th>\n",
       "      <td>0</td>\n",
       "      <td>0</td>\n",
       "      <td>0</td>\n",
       "      <td>0</td>\n",
       "      <td>0</td>\n",
       "      <td>0</td>\n",
       "      <td>0</td>\n",
       "      <td>0</td>\n",
       "      <td>0</td>\n",
       "      <td>0</td>\n",
       "      <td>...</td>\n",
       "      <td>0</td>\n",
       "      <td>0</td>\n",
       "      <td>0</td>\n",
       "      <td>0</td>\n",
       "      <td>1</td>\n",
       "      <td>0</td>\n",
       "      <td>1</td>\n",
       "      <td>0</td>\n",
       "      <td>0</td>\n",
       "      <td>3</td>\n",
       "    </tr>\n",
       "    <tr>\n",
       "      <th>4</th>\n",
       "      <td>0</td>\n",
       "      <td>0</td>\n",
       "      <td>0</td>\n",
       "      <td>0</td>\n",
       "      <td>0</td>\n",
       "      <td>0</td>\n",
       "      <td>0</td>\n",
       "      <td>0</td>\n",
       "      <td>0</td>\n",
       "      <td>0</td>\n",
       "      <td>...</td>\n",
       "      <td>1</td>\n",
       "      <td>0</td>\n",
       "      <td>0</td>\n",
       "      <td>0</td>\n",
       "      <td>0</td>\n",
       "      <td>0</td>\n",
       "      <td>1</td>\n",
       "      <td>0</td>\n",
       "      <td>0</td>\n",
       "      <td>4</td>\n",
       "    </tr>\n",
       "    <tr>\n",
       "      <th>5</th>\n",
       "      <td>0</td>\n",
       "      <td>0</td>\n",
       "      <td>0</td>\n",
       "      <td>0</td>\n",
       "      <td>0</td>\n",
       "      <td>0</td>\n",
       "      <td>0</td>\n",
       "      <td>0</td>\n",
       "      <td>0</td>\n",
       "      <td>0</td>\n",
       "      <td>...</td>\n",
       "      <td>0</td>\n",
       "      <td>0</td>\n",
       "      <td>0</td>\n",
       "      <td>0</td>\n",
       "      <td>1</td>\n",
       "      <td>0</td>\n",
       "      <td>1</td>\n",
       "      <td>0</td>\n",
       "      <td>0</td>\n",
       "      <td>5</td>\n",
       "    </tr>\n",
       "  </tbody>\n",
       "</table>\n",
       "<p>5 rows × 162 columns</p>\n",
       "</div>"
      ],
      "text/plain": [
       "    MSSubClass_120  MSSubClass_150  MSSubClass_160  MSSubClass_180  \\\n",
       "Id                                                                   \n",
       "1                0               0               0               0   \n",
       "2                0               0               0               0   \n",
       "3                0               0               0               0   \n",
       "4                0               0               0               0   \n",
       "5                0               0               0               0   \n",
       "\n",
       "    MSSubClass_190  MSSubClass_20  MSSubClass_30  MSSubClass_40  \\\n",
       "Id                                                                \n",
       "1                0              0              0              0   \n",
       "2                0              1              0              0   \n",
       "3                0              0              0              0   \n",
       "4                0              0              0              0   \n",
       "5                0              0              0              0   \n",
       "\n",
       "    MSSubClass_45  MSSubClass_50 ...  SaleCondition_Abnorml  \\\n",
       "Id                               ...                          \n",
       "1               0              0 ...                      0   \n",
       "2               0              0 ...                      0   \n",
       "3               0              0 ...                      0   \n",
       "4               0              0 ...                      1   \n",
       "5               0              0 ...                      0   \n",
       "\n",
       "    SaleCondition_AdjLand  SaleCondition_Alloca  SaleCondition_Family  \\\n",
       "Id                                                                      \n",
       "1                       0                     0                     0   \n",
       "2                       0                     0                     0   \n",
       "3                       0                     0                     0   \n",
       "4                       0                     0                     0   \n",
       "5                       0                     0                     0   \n",
       "\n",
       "    SaleCondition_Normal  SaleCondition_Partial  LandSlope_Gtl  LandSlope_Mod  \\\n",
       "Id                                                                              \n",
       "1                      1                      0              1              0   \n",
       "2                      1                      0              1              0   \n",
       "3                      1                      0              1              0   \n",
       "4                      0                      0              1              0   \n",
       "5                      1                      0              1              0   \n",
       "\n",
       "    LandSlope_Sev  ID  \n",
       "Id                     \n",
       "1               0   1  \n",
       "2               0   2  \n",
       "3               0   3  \n",
       "4               0   4  \n",
       "5               0   5  \n",
       "\n",
       "[5 rows x 162 columns]"
      ]
     },
     "execution_count": 11,
     "metadata": {},
     "output_type": "execute_result"
    }
   ],
   "source": [
    "X_non_ordinal=pd.get_dummies(X[non_ordinal_feature])\n",
    "print(X_non_ordinal.shape)\n",
    "X_non_ordinal['ID']=np.arange(1, len(X_non_ordinal)+1)\n",
    "X_non_ordinal.head()"
   ]
  },
  {
   "cell_type": "markdown",
   "metadata": {},
   "source": [
    "# Mapping the ordinal features"
   ]
  },
  {
   "cell_type": "code",
   "execution_count": 12,
   "metadata": {
    "collapsed": false
   },
   "outputs": [
    {
     "data": {
      "text/plain": [
       "26"
      ]
     },
     "execution_count": 12,
     "metadata": {},
     "output_type": "execute_result"
    }
   ],
   "source": [
    "ordinal_values={}\n",
    "ordinal_values['Alley']=['None','Grvl','Pave']\n",
    "ordinal_values['BsmtCond']=['None','Po', 'Fa', 'TA', 'Gd', 'Ex']\n",
    "ordinal_values['BsmtExposure']=['None','No', 'Mn', 'Av', 'Gd']\n",
    "ordinal_values['BsmtFinType1']=['None','Unf', 'LwQ', 'Rec', 'BLQ',\n",
    "                              'ALQ', 'GLQ']\n",
    "ordinal_values['BsmtFinType2']=['None','Unf', 'LwQ', 'Rec', 'BLQ',\n",
    "                              'ALQ', 'GLQ']\n",
    "ordinal_values['BsmtQual']=['None','Fa', 'TA', 'Gd', 'Ex']\n",
    "ordinal_values['BsmtCond']=['None','Po', 'Fa', 'TA', 'Gd', 'Ex']\n",
    "ordinal_values['CentralAir']=['N', 'Y']\n",
    "ordinal_values['Electrical']=['None','Mix', 'FuseP', 'FuseF', 'FuseA',\n",
    "                            'SBrkr']\n",
    "ordinal_values['ExterCond']=['None','Po', 'Fa', 'TA', 'Gd', 'Ex']\n",
    "ordinal_values['ExterQual']=['None','Fa', 'TA', 'Gd', 'Ex']\n",
    "ordinal_values['Fence']=['None','MnWw', 'GdWo', 'MnPrv', 'GdPrv']\n",
    "ordinal_values['FireplaceQu']=['None','Po', 'Fa', 'TA', 'Gd', 'Ex']\n",
    "ordinal_values['Functional']=['None','Sev', 'Maj2', 'Maj1', 'Mod',\n",
    "                            'Min2', 'Min1', 'Typ']\n",
    "ordinal_values['GarageCond']=['None','Po', 'Fa', 'TA', 'Gd', 'Ex']\n",
    "ordinal_values['GarageFinish']=['None','Unf', 'RFn', 'Fin']\n",
    "ordinal_values['GarageQual']=['None','Po', 'Fa', 'TA', 'Gd', 'Ex']\n",
    "ordinal_values['GarageType']=['None','Detchd','CarPort', 'BuiltIn',\n",
    "                            'Basment', 'Attchd', '2Types']\n",
    "ordinal_values['HeatingQC']=['None','Po', 'Fa', 'TA', 'Gd', 'Ex']\n",
    "ordinal_values['KitchenQual']=['None','Fa', 'TA', 'Gd', 'Ex']\n",
    "ordinal_values['LandContour']=['None','Low', 'HLS', 'Bnk','Lvl']\n",
    "ordinal_values['LotConfig']=['None','FR3', 'FR2', 'CulDSac','Corner',\n",
    "                           'Inside']\n",
    "ordinal_values['LotShape']=['None','IR3', 'IR2', 'IR1', 'Reg']\n",
    "ordinal_values['PavedDrive']=['None','N', 'P', 'Y']\n",
    "ordinal_values['PoolQC']=['None','Fa', 'Gd', 'Ex']\n",
    "ordinal_values['Street']=['None','Grvl', 'Pave']\n",
    "ordinal_values['Utilities']=['None','NoSeWa', 'AllPub']\n",
    "len(ordinal_values)"
   ]
  },
  {
   "cell_type": "code",
   "execution_count": 13,
   "metadata": {
    "collapsed": true
   },
   "outputs": [],
   "source": [
    "#ordial mapping\n",
    "ordinal_mapping={}\n",
    "for f in ordinal_feature:\n",
    "    mapping={}\n",
    "    grades=ordinal_values[f]\n",
    "    n=len(ordinal_values[f])\n",
    "    \n",
    "    for i in range(n):\n",
    "        mapping[grades[i]]=i\n",
    "    \n",
    "    ordinal_mapping[f]=mapping"
   ]
  },
  {
   "cell_type": "code",
   "execution_count": 14,
   "metadata": {
    "collapsed": false
   },
   "outputs": [
    {
     "name": "stderr",
     "output_type": "stream",
     "text": [
      "/home/xinlin/anaconda3/lib/python3.5/site-packages/ipykernel/__main__.py:3: SettingWithCopyWarning: \n",
      "A value is trying to be set on a copy of a slice from a DataFrame.\n",
      "Try using .loc[row_indexer,col_indexer] = value instead\n",
      "\n",
      "See the caveats in the documentation: http://pandas.pydata.org/pandas-docs/stable/indexing.html#indexing-view-versus-copy\n",
      "  app.launch_new_instance()\n"
     ]
    }
   ],
   "source": [
    "X_ordinal=X[ordinal_feature]\n",
    "for f in ordinal_feature:\n",
    "    X_ordinal[f]=X_ordinal[f].map(ordinal_mapping[f])\n",
    "\n",
    "#standarize the number\n",
    "X_ordinal=StandardScaler().fit_transform(X_ordinal)\n",
    "X_ordinal=pd.DataFrame(X_ordinal, columns=ordinal_feature)\n",
    "X_ordinal['ID']=np.arange(1, len(X_ordinal)+1)"
   ]
  },
  {
   "cell_type": "code",
   "execution_count": 15,
   "metadata": {
    "collapsed": false
   },
   "outputs": [
    {
     "name": "stdout",
     "output_type": "stream",
     "text": [
      "numerical shape (2919, 36)\n",
      "non_ordinal shape (2919, 162)\n",
      "ordinal shape (2919, 27)\n"
     ]
    },
    {
     "data": {
      "text/plain": [
       "(2919, 222)"
      ]
     },
     "execution_count": 15,
     "metadata": {},
     "output_type": "execute_result"
    }
   ],
   "source": [
    "print('numerical shape', X_numerical.shape)\n",
    "print('non_ordinal shape', X_non_ordinal.shape)\n",
    "print('ordinal shape', X_ordinal.shape)\n",
    "\n",
    "X_clean=X_numerical\n",
    "X_clean=X_clean.merge(X_non_ordinal, left_on='ID', right_on='ID', how='inner')\n",
    "X_clean=X_clean.merge(X_ordinal, left_on='ID', right_on='ID', how='inner')\n",
    "\n",
    "\n",
    "del X_clean['ID']\n",
    "X_clean.shape"
   ]
  },
  {
   "cell_type": "markdown",
   "metadata": {},
   "source": [
    "# Seperate training and test"
   ]
  },
  {
   "cell_type": "code",
   "execution_count": 16,
   "metadata": {
    "collapsed": false
   },
   "outputs": [],
   "source": [
    "X_train=X_clean.iloc[0:1460,:]\n",
    "X_test=X_clean.iloc[1460:2920, :]\n",
    "\n",
    "ntrain=X_train.shape[0]\n",
    "ntest=X_test.shape[0]\n",
    "NFOLDS=4\n",
    "SEED=10\n",
    "\n",
    "kf=KFold(n_splits=NFOLDS, shuffle=True, random_state=SEED)"
   ]
  },
  {
   "cell_type": "markdown",
   "metadata": {},
   "source": [
    "# SKlearn Wrappers"
   ]
  },
  {
   "cell_type": "code",
   "execution_count": 17,
   "metadata": {
    "collapsed": true
   },
   "outputs": [],
   "source": [
    "class SklearnWrapper(object):\n",
    "    def __init__(self, clf, seed=0, params=None):\n",
    "        params['random_state']=seed\n",
    "        self.clf = clf(**params)\n",
    "        \n",
    "    def train(self, x_train, y_train):\n",
    "        self.clf.fit(x_train, y_train)\n",
    "        \n",
    "    def predict(self, x):\n",
    "        return self.clf.predict(x)\n",
    "\n",
    "class XgbWrapper(object):\n",
    "    def __init__(self, seed=0, params=None):\n",
    "        self.params=params\n",
    "        self.params['seed']=seed\n",
    "        self.nrounds=params.pop('nrounds', 250)\n",
    "        \n",
    "    def train(self, x_train, y_train):\n",
    "        dtrain=xgb.DMatrix(x_train, label=y_train)\n",
    "        self.gbdt=xgb.train(self.params, dtrain, self.nrounds)\n",
    "    \n",
    "    def predict(self, x):\n",
    "        return self.gbdt.predict(xgb.DMatrix(x))"
   ]
  },
  {
   "cell_type": "code",
   "execution_count": 18,
   "metadata": {
    "collapsed": false
   },
   "outputs": [],
   "source": [
    "def get_oof(clf):\n",
    "    oof_train=np.zeros((ntrain,))\n",
    "    oof_test=np.zeros((ntest,))\n",
    "    oof_test_skf=np.empty((NFOLDS, ntest))\n",
    "    \n",
    "    for i, (train_index, test_index) in enumerate(kf.split(X_train)):\n",
    "        X_tr = X_train.iloc[train_index,:]\n",
    "        y_tr = y.iloc[train_index]\n",
    "        X_te = X_train.iloc[test_index,:]\n",
    "        \n",
    "        clf.train(X_tr, y_tr)\n",
    "        \n",
    "        oof_train[test_index]=clf.predict(X_te)\n",
    "        oof_test_skf[i, :] = clf.predict(X_test)\n",
    "        \n",
    "    oof_test[:]=oof_test_skf.mean(axis=0)\n",
    "    return oof_train.reshape(-1,1), oof_test.reshape(-1,1)\n",
    "        "
   ]
  },
  {
   "cell_type": "code",
   "execution_count": 19,
   "metadata": {
    "collapsed": true
   },
   "outputs": [],
   "source": [
    "rf_params={\n",
    "    'n_estimators':800,\n",
    "    'max_features':0.3,\n",
    "    'max_depth':None,\n",
    "    'min_samples_leaf':2\n",
    "}\n",
    "\n",
    "rd_params={\n",
    "    'alpha':10\n",
    "}\n",
    "\n",
    "ls_params={\n",
    "    'alpha':0.00001\n",
    "}\n",
    "\n",
    "xgb1_params={\n",
    "    'n_estimators':1000,\n",
    "    'learning_rate':0.075,\n",
    "    'max_depth':4,\n",
    "    'seed':0,\n",
    "    'objective':'reg:linear'\n",
    "    \n",
    "}\n",
    "\n",
    "xgb2_params={\n",
    "    'n_estimators':500,\n",
    "    'learning_rate':0.1,\n",
    "    'max_depth':3,\n",
    "    'seed':0,\n",
    "    'objective':'reg:linear'\n",
    "    \n",
    "}\n",
    "\n",
    "et_params={\n",
    "    'n_jobs':16,\n",
    "    'n_estimators':100,\n",
    "    'max_features':0.5,\n",
    "    'max_depth':12,\n",
    "    'min_samples_leaf':2\n",
    "}\n",
    "\n",
    "gb1_params={\n",
    "    'n_estimators':500,\n",
    "    'learning_rate':0.05,\n",
    "    'min_samples_leaf': 2,\n",
    "    'max_depth': 4,\n",
    "}\n",
    "\n",
    "\n",
    "gb2_params={\n",
    "    'n_estimators':1000,\n",
    "    'learning_rate':0.03,\n",
    "    'min_samples_leaf': 1,\n",
    "    'max_depth': 5,\n",
    "}"
   ]
  },
  {
   "cell_type": "code",
   "execution_count": 20,
   "metadata": {
    "collapsed": false
   },
   "outputs": [],
   "source": [
    "rd=SklearnWrapper(clf=Ridge, seed=SEED, params=rd_params)\n",
    "ls=SklearnWrapper(clf=Lasso, seed=SEED, params=ls_params)\n",
    "rf=SklearnWrapper(clf=RandomForestRegressor, seed=SEED, params=rf_params)\n",
    "xg1=XgbWrapper(seed=SEED, params=xgb1_params)\n",
    "xg2=XgbWrapper(seed=SEED, params=xgb2_params)\n",
    "et=SklearnWrapper(clf=ExtraTreesRegressor, seed=SEED, params=et_params)\n",
    "gb1=SklearnWrapper(clf=GradientBoostingRegressor, seed=SEED, params=gb1_params)\n",
    "gb2=SklearnWrapper(clf=GradientBoostingRegressor, seed=SEED, params=gb2_params)"
   ]
  },
  {
   "cell_type": "code",
   "execution_count": 21,
   "metadata": {
    "collapsed": false
   },
   "outputs": [
    {
     "name": "stdout",
     "output_type": "stream",
     "text": [
      "RD-CV:0.14156751310916565\n"
     ]
    }
   ],
   "source": [
    "rd_oof_train, rd_oof_test = get_oof(rd)\n",
    "print(\"RD-CV:{}\".format(np.sqrt(mean_squared_error(y, rd_oof_train))))"
   ]
  },
  {
   "cell_type": "code",
   "execution_count": 22,
   "metadata": {
    "collapsed": false
   },
   "outputs": [
    {
     "name": "stdout",
     "output_type": "stream",
     "text": [
      "LS-CV:0.14525089514044706\n"
     ]
    }
   ],
   "source": [
    "ls_oof_train, ls_oof_test = get_oof(ls)\n",
    "print(\"LS-CV:{}\".format(np.sqrt(mean_squared_error(y, ls_oof_train))))"
   ]
  },
  {
   "cell_type": "code",
   "execution_count": 23,
   "metadata": {
    "collapsed": false
   },
   "outputs": [
    {
     "name": "stdout",
     "output_type": "stream",
     "text": [
      "RF-CV:0.1401533877252378\n"
     ]
    }
   ],
   "source": [
    "rf_oof_train, rf_oof_test = get_oof(rf)\n",
    "print(\"RF-CV:{}\".format(np.sqrt(mean_squared_error(y, rf_oof_train))))"
   ]
  },
  {
   "cell_type": "code",
   "execution_count": 24,
   "metadata": {
    "collapsed": false
   },
   "outputs": [
    {
     "name": "stdout",
     "output_type": "stream",
     "text": [
      "XGB1-CV:0.12816541581959198\n"
     ]
    }
   ],
   "source": [
    "xg1_oof_train, xg1_oof_test = get_oof(xg1)\n",
    "print(\"XGB1-CV:{}\".format(np.sqrt(mean_squared_error(y, xg1_oof_train))))"
   ]
  },
  {
   "cell_type": "code",
   "execution_count": 25,
   "metadata": {
    "collapsed": false
   },
   "outputs": [
    {
     "name": "stdout",
     "output_type": "stream",
     "text": [
      "XGB2-CV:0.1279290524569504\n"
     ]
    }
   ],
   "source": [
    "xg2_oof_train, xg2_oof_test = get_oof(xg2)\n",
    "print(\"XGB2-CV:{}\".format(np.sqrt(mean_squared_error(y, xg2_oof_train))))"
   ]
  },
  {
   "cell_type": "code",
   "execution_count": 26,
   "metadata": {
    "collapsed": false
   },
   "outputs": [
    {
     "name": "stdout",
     "output_type": "stream",
     "text": [
      "ET-CV:0.14080582399758046\n"
     ]
    }
   ],
   "source": [
    "et_oof_train, et_oof_test = get_oof(et)\n",
    "print(\"ET-CV:{}\".format(np.sqrt(mean_squared_error(y, et_oof_train))))"
   ]
  },
  {
   "cell_type": "code",
   "execution_count": 27,
   "metadata": {
    "collapsed": false
   },
   "outputs": [
    {
     "name": "stdout",
     "output_type": "stream",
     "text": [
      "GBR1-CV:0.12725946611393413\n"
     ]
    }
   ],
   "source": [
    "gb1_oof_train, gb1_oof_test = get_oof(gb1)\n",
    "print(\"GBR1-CV:{}\".format(np.sqrt(mean_squared_error(y, gb1_oof_train))))"
   ]
  },
  {
   "cell_type": "code",
   "execution_count": 28,
   "metadata": {
    "collapsed": false
   },
   "outputs": [
    {
     "name": "stdout",
     "output_type": "stream",
     "text": [
      "GBR2-CV:0.13012695979572436\n"
     ]
    }
   ],
   "source": [
    "gb2_oof_train, gb2_oof_test = get_oof(gb2)\n",
    "print(\"GBR2-CV:{}\".format(np.sqrt(mean_squared_error(y, gb2_oof_train))))"
   ]
  },
  {
   "cell_type": "code",
   "execution_count": 29,
   "metadata": {
    "collapsed": false
   },
   "outputs": [
    {
     "name": "stdout",
     "output_type": "stream",
     "text": [
      "(1460, 8), (1459, 8)\n"
     ]
    }
   ],
   "source": [
    "X_train_l2=np.concatenate((rd_oof_train, ls_oof_train, rf_oof_train, xg1_oof_train, \n",
    "                           xg2_oof_train, et_oof_train, gb1_oof_train, gb2_oof_train), axis=1)\n",
    "X_test_l2=np.concatenate((rd_oof_test, ls_oof_test, rf_oof_test, xg1_oof_test, \n",
    "                          xg2_oof_test, et_oof_test, gb1_oof_test, gb2_oof_test), axis=1)\n",
    "print(\"{}, {}\".format(X_train_l2.shape, X_test_l2.shape))"
   ]
  },
  {
   "cell_type": "code",
   "execution_count": 33,
   "metadata": {
    "collapsed": false
   },
   "outputs": [
    {
     "name": "stdout",
     "output_type": "stream",
     "text": [
      "[0]\ttrain-rmse:11.4159+0.00316624\ttest-rmse:11.4159+0.00963709\n",
      "[10]\ttrain-rmse:10.3267+0.0028241\ttest-rmse:10.3267+0.00989543\n",
      "[20]\ttrain-rmse:9.34165+0.00253001\ttest-rmse:9.34168+0.00999443\n",
      "[30]\ttrain-rmse:8.45069+0.00226978\ttest-rmse:8.45073+0.0101101\n",
      "[40]\ttrain-rmse:7.64483+0.00203225\ttest-rmse:7.64495+0.0100731\n",
      "[50]\ttrain-rmse:6.91593+0.001817\ttest-rmse:6.91609+0.0100841\n",
      "[60]\ttrain-rmse:6.25665+0.00162355\ttest-rmse:6.25681+0.00988492\n",
      "[70]\ttrain-rmse:5.66033+0.00144943\ttest-rmse:5.66049+0.00980944\n",
      "[80]\ttrain-rmse:5.12098+0.00129175\ttest-rmse:5.12114+0.00950897\n",
      "[90]\ttrain-rmse:4.63316+0.00114994\ttest-rmse:4.63334+0.00913126\n",
      "[100]\ttrain-rmse:4.19194+0.00102167\ttest-rmse:4.19207+0.00878895\n",
      "[110]\ttrain-rmse:3.79288+0.000906035\ttest-rmse:3.79302+0.00843386\n",
      "[120]\ttrain-rmse:3.43197+0.000803437\ttest-rmse:3.43208+0.0081116\n",
      "[130]\ttrain-rmse:3.10557+0.000713161\ttest-rmse:3.10561+0.00773612\n",
      "[140]\ttrain-rmse:2.81038+0.00063239\ttest-rmse:2.81041+0.00737193\n",
      "[150]\ttrain-rmse:2.54344+0.000559526\ttest-rmse:2.54352+0.00705205\n",
      "[160]\ttrain-rmse:2.30205+0.000494661\ttest-rmse:2.3021+0.00669733\n",
      "[170]\ttrain-rmse:2.08377+0.000438805\ttest-rmse:2.08397+0.00649127\n",
      "[180]\ttrain-rmse:1.88641+0.000393573\ttest-rmse:1.88663+0.00613531\n",
      "[190]\ttrain-rmse:1.70799+0.000360939\ttest-rmse:1.70836+0.00584965\n",
      "[200]\ttrain-rmse:1.54669+0.000342409\ttest-rmse:1.54713+0.00556608\n",
      "[210]\ttrain-rmse:1.40089+0.000337902\ttest-rmse:1.40145+0.00518115\n",
      "[220]\ttrain-rmse:1.26912+0.000346586\ttest-rmse:1.2698+0.00489333\n",
      "[230]\ttrain-rmse:1.15006+0.000367792\ttest-rmse:1.15085+0.00450779\n",
      "[240]\ttrain-rmse:1.0425+0.000398433\ttest-rmse:1.04341+0.00416073\n",
      "[250]\ttrain-rmse:0.945358+0.000437366\ttest-rmse:0.946389+0.00383844\n",
      "[260]\ttrain-rmse:0.857644+0.000482214\ttest-rmse:0.858878+0.00353541\n",
      "[270]\ttrain-rmse:0.778471+0.000531274\ttest-rmse:0.779846+0.00319094\n",
      "[280]\ttrain-rmse:0.707037+0.000583097\ttest-rmse:0.708573+0.00293462\n",
      "[290]\ttrain-rmse:0.642619+0.000637289\ttest-rmse:0.644389+0.00271085\n",
      "[300]\ttrain-rmse:0.584561+0.000692589\ttest-rmse:0.586579+0.00251758\n",
      "[310]\ttrain-rmse:0.532268+0.00074859\ttest-rmse:0.534599+0.00245182\n",
      "[320]\ttrain-rmse:0.485208+0.000803438\ttest-rmse:0.487896+0.00247571\n",
      "[330]\ttrain-rmse:0.442893+0.000857508\ttest-rmse:0.44594+0.00265745\n",
      "[340]\ttrain-rmse:0.404888+0.000911125\ttest-rmse:0.408349+0.00293958\n",
      "[350]\ttrain-rmse:0.370796+0.000963873\ttest-rmse:0.374663+0.00329718\n",
      "[360]\ttrain-rmse:0.340256+0.00101518\ttest-rmse:0.344537+0.00374916\n",
      "[370]\ttrain-rmse:0.312944+0.00106446\ttest-rmse:0.317703+0.00424265\n",
      "[380]\ttrain-rmse:0.288564+0.00111067\ttest-rmse:0.293781+0.00476456\n",
      "[390]\ttrain-rmse:0.266844+0.00115416\ttest-rmse:0.272597+0.00521387\n",
      "[400]\ttrain-rmse:0.247537+0.00119444\ttest-rmse:0.253835+0.00572777\n",
      "[410]\ttrain-rmse:0.230416+0.001231\ttest-rmse:0.237269+0.00624232\n",
      "[420]\ttrain-rmse:0.215273+0.00126216\ttest-rmse:0.222716+0.00670828\n",
      "[430]\ttrain-rmse:0.201914+0.00128804\ttest-rmse:0.2099+0.00718195\n",
      "[440]\ttrain-rmse:0.190162+0.00130883\ttest-rmse:0.198695+0.0076241\n",
      "[450]\ttrain-rmse:0.179852+0.00132414\ttest-rmse:0.188959+0.00799141\n",
      "[460]\ttrain-rmse:0.170829+0.0013333\ttest-rmse:0.180484+0.00834896\n",
      "[470]\ttrain-rmse:0.162954+0.00133667\ttest-rmse:0.173142+0.00867544\n",
      "[480]\ttrain-rmse:0.156094+0.00133537\ttest-rmse:0.166805+0.00897201\n",
      "[490]\ttrain-rmse:0.15013+0.00132989\ttest-rmse:0.161352+0.00923961\n",
      "[500]\ttrain-rmse:0.144952+0.00131993\ttest-rmse:0.156669+0.00942189\n",
      "[510]\ttrain-rmse:0.140461+0.00130677\ttest-rmse:0.152623+0.00960973\n",
      "[520]\ttrain-rmse:0.136566+0.00129181\ttest-rmse:0.149078+0.00966599\n",
      "[530]\ttrain-rmse:0.133187+0.00127544\ttest-rmse:0.1461+0.00977464\n",
      "[540]\ttrain-rmse:0.130255+0.00125842\ttest-rmse:0.143509+0.00982627\n",
      "[550]\ttrain-rmse:0.127707+0.00124115\ttest-rmse:0.14125+0.0098091\n",
      "[560]\ttrain-rmse:0.125488+0.00122479\ttest-rmse:0.139353+0.0097973\n",
      "[570]\ttrain-rmse:0.123551+0.00120883\ttest-rmse:0.137682+0.00974439\n",
      "[580]\ttrain-rmse:0.121856+0.0011947\ttest-rmse:0.13624+0.00969048\n",
      "[590]\ttrain-rmse:0.120367+0.00118099\ttest-rmse:0.135002+0.00963901\n",
      "[600]\ttrain-rmse:0.119055+0.00116966\ttest-rmse:0.133904+0.00954094\n",
      "[610]\ttrain-rmse:0.117894+0.00115957\ttest-rmse:0.132977+0.00947879\n",
      "[620]\ttrain-rmse:0.116864+0.00115157\ttest-rmse:0.132144+0.00936412\n",
      "[630]\ttrain-rmse:0.115945+0.00114492\ttest-rmse:0.131426+0.00925496\n",
      "[640]\ttrain-rmse:0.11512+0.00113969\ttest-rmse:0.130792+0.009135\n",
      "[650]\ttrain-rmse:0.114378+0.00113611\ttest-rmse:0.130241+0.0090237\n",
      "[660]\ttrain-rmse:0.113704+0.00113496\ttest-rmse:0.129797+0.00894553\n",
      "[670]\ttrain-rmse:0.113087+0.00113506\ttest-rmse:0.129404+0.00888959\n",
      "[680]\ttrain-rmse:0.11252+0.00113668\ttest-rmse:0.12903+0.008779\n",
      "[690]\ttrain-rmse:0.111996+0.00113908\ttest-rmse:0.128702+0.00867564\n",
      "[700]\ttrain-rmse:0.111511+0.00114237\ttest-rmse:0.1284+0.00858918\n",
      "[710]\ttrain-rmse:0.111058+0.00114598\ttest-rmse:0.128095+0.00847493\n",
      "[720]\ttrain-rmse:0.110635+0.00115014\ttest-rmse:0.127843+0.0083703\n",
      "[730]\ttrain-rmse:0.110239+0.00115477\ttest-rmse:0.127595+0.0082515\n",
      "[740]\ttrain-rmse:0.109866+0.00115914\ttest-rmse:0.127379+0.00815892\n",
      "[750]\ttrain-rmse:0.109515+0.00116398\ttest-rmse:0.127168+0.0080824\n",
      "[760]\ttrain-rmse:0.10918+0.0011668\ttest-rmse:0.126915+0.00809402\n",
      "[770]\ttrain-rmse:0.108862+0.00116686\ttest-rmse:0.126658+0.00808824\n",
      "[780]\ttrain-rmse:0.108557+0.00116529\ttest-rmse:0.126408+0.00807459\n",
      "[790]\ttrain-rmse:0.108266+0.00116248\ttest-rmse:0.1262+0.00805155\n",
      "[800]\ttrain-rmse:0.107986+0.00115695\ttest-rmse:0.125971+0.00804982\n",
      "[810]\ttrain-rmse:0.107717+0.00115024\ttest-rmse:0.125779+0.00807858\n",
      "[820]\ttrain-rmse:0.107459+0.00114203\ttest-rmse:0.125555+0.00804058\n",
      "[830]\ttrain-rmse:0.107211+0.00113304\ttest-rmse:0.125376+0.00803893\n",
      "[840]\ttrain-rmse:0.106971+0.00112253\ttest-rmse:0.125205+0.00803453\n",
      "[850]\ttrain-rmse:0.10674+0.0011114\ttest-rmse:0.125032+0.00797763\n",
      "[860]\ttrain-rmse:0.106517+0.0010992\ttest-rmse:0.124842+0.0079813\n",
      "[870]\ttrain-rmse:0.106301+0.00108674\ttest-rmse:0.124701+0.00795928\n",
      "[880]\ttrain-rmse:0.106091+0.00107535\ttest-rmse:0.124535+0.00792827\n",
      "[890]\ttrain-rmse:0.105887+0.00106454\ttest-rmse:0.124407+0.00794151\n",
      "[900]\ttrain-rmse:0.105689+0.001054\ttest-rmse:0.124272+0.00794187\n",
      "[910]\ttrain-rmse:0.105497+0.00104468\ttest-rmse:0.124138+0.00793681\n",
      "[920]\ttrain-rmse:0.10531+0.00103569\ttest-rmse:0.123972+0.00790472\n",
      "[930]\ttrain-rmse:0.105127+0.00102732\ttest-rmse:0.12386+0.00790827\n",
      "[940]\ttrain-rmse:0.10495+0.00101959\ttest-rmse:0.123729+0.00790103\n",
      "[950]\ttrain-rmse:0.104778+0.00101227\ttest-rmse:0.123618+0.0079055\n",
      "[960]\ttrain-rmse:0.10461+0.00100542\ttest-rmse:0.123489+0.00789872\n",
      "[970]\ttrain-rmse:0.104447+0.000999494\ttest-rmse:0.123381+0.00789723\n",
      "[980]\ttrain-rmse:0.104288+0.000993574\ttest-rmse:0.123266+0.0078966\n",
      "[990]\ttrain-rmse:0.104133+0.000988322\ttest-rmse:0.12318+0.00786569\n",
      "[1000]\ttrain-rmse:0.103982+0.000983493\ttest-rmse:0.123072+0.0078576\n",
      "[1010]\ttrain-rmse:0.103835+0.000979767\ttest-rmse:0.12297+0.00786752\n",
      "[1020]\ttrain-rmse:0.103692+0.000975752\ttest-rmse:0.122855+0.00785719\n",
      "[1030]\ttrain-rmse:0.103552+0.000972449\ttest-rmse:0.122774+0.00787055\n",
      "[1040]\ttrain-rmse:0.103416+0.000969339\ttest-rmse:0.122688+0.00787046\n",
      "[1050]\ttrain-rmse:0.103284+0.000966905\ttest-rmse:0.122599+0.00786985\n",
      "[1060]\ttrain-rmse:0.103155+0.00096451\ttest-rmse:0.122518+0.00787301\n",
      "[1070]\ttrain-rmse:0.103028+0.000963121\ttest-rmse:0.12245+0.007888\n",
      "[1080]\ttrain-rmse:0.102906+0.000961558\ttest-rmse:0.122373+0.00789519\n",
      "[1090]\ttrain-rmse:0.102786+0.000960777\ttest-rmse:0.122315+0.00789373\n",
      "[1100]\ttrain-rmse:0.102669+0.000959742\ttest-rmse:0.122256+0.00792137\n",
      "[1110]\ttrain-rmse:0.102555+0.000958979\ttest-rmse:0.122179+0.00789943\n",
      "[1120]\ttrain-rmse:0.102444+0.000958241\ttest-rmse:0.122125+0.00791369\n",
      "[1130]\ttrain-rmse:0.102335+0.000957544\ttest-rmse:0.122071+0.00792559\n",
      "[1140]\ttrain-rmse:0.102229+0.000957057\ttest-rmse:0.122023+0.00793589\n",
      "[1150]\ttrain-rmse:0.102126+0.00095678\ttest-rmse:0.121963+0.00794425\n",
      "[1160]\ttrain-rmse:0.102025+0.000955999\ttest-rmse:0.121918+0.00796273\n",
      "[1170]\ttrain-rmse:0.101927+0.000956039\ttest-rmse:0.121869+0.00797267\n",
      "[1180]\ttrain-rmse:0.101831+0.000955627\ttest-rmse:0.12182+0.00798552\n",
      "[1190]\ttrain-rmse:0.101737+0.000955544\ttest-rmse:0.121786+0.00799796\n",
      "[1200]\ttrain-rmse:0.101645+0.000954967\ttest-rmse:0.12174+0.00801168\n",
      "[1210]\ttrain-rmse:0.101556+0.000954818\ttest-rmse:0.121702+0.00802833\n",
      "[1220]\ttrain-rmse:0.101469+0.000954637\ttest-rmse:0.121669+0.00804852\n",
      "[1230]\ttrain-rmse:0.101384+0.000954235\ttest-rmse:0.121637+0.00804841\n",
      "[1240]\ttrain-rmse:0.101301+0.000954143\ttest-rmse:0.121594+0.00807787\n",
      "[1250]\ttrain-rmse:0.10122+0.000954008\ttest-rmse:0.121566+0.00808369\n",
      "[1260]\ttrain-rmse:0.101141+0.000954051\ttest-rmse:0.121537+0.00809512\n",
      "[1270]\ttrain-rmse:0.101064+0.000953739\ttest-rmse:0.121516+0.0081274\n",
      "[1280]\ttrain-rmse:0.100989+0.000953592\ttest-rmse:0.121497+0.00815048\n",
      "[1290]\ttrain-rmse:0.100915+0.000953398\ttest-rmse:0.12148+0.0081735\n",
      "[1300]\ttrain-rmse:0.100843+0.000953375\ttest-rmse:0.12146+0.00819251\n",
      "[1310]\ttrain-rmse:0.100773+0.000953162\ttest-rmse:0.121445+0.00820471\n",
      "[1320]\ttrain-rmse:0.100704+0.00095326\ttest-rmse:0.121425+0.00822328\n",
      "[1330]\ttrain-rmse:0.100637+0.000953578\ttest-rmse:0.121417+0.00825223\n",
      "[1340]\ttrain-rmse:0.100571+0.000953752\ttest-rmse:0.121411+0.00828245\n",
      "[1350]\ttrain-rmse:0.100507+0.000953823\ttest-rmse:0.121394+0.00829967\n",
      "[1360]\ttrain-rmse:0.100444+0.000954223\ttest-rmse:0.121395+0.00832687\n",
      "[1370]\ttrain-rmse:0.100383+0.000954582\ttest-rmse:0.121392+0.00835245\n",
      "[1380]\ttrain-rmse:0.100323+0.000955152\ttest-rmse:0.121395+0.00837634\n",
      "[1390]\ttrain-rmse:0.100264+0.000955413\ttest-rmse:0.121385+0.00839709\n",
      "[1400]\ttrain-rmse:0.100206+0.00095627\ttest-rmse:0.121383+0.00841826\n",
      "[1410]\ttrain-rmse:0.10015+0.000956988\ttest-rmse:0.121379+0.00843316\n",
      "[1420]\ttrain-rmse:0.100094+0.000957389\ttest-rmse:0.121382+0.00846194\n",
      "[1430]\ttrain-rmse:0.10004+0.000957836\ttest-rmse:0.121385+0.00847222\n",
      "Ensemble-CV:0.1213785+0.008434696452748023\n"
     ]
    }
   ],
   "source": [
    "dtrain=xgb.DMatrix(X_train_l2, label=y)\n",
    "dtest=xgb.DMatrix(X_test_l2)\n",
    "\n",
    "xgb_params={\n",
    "    'seed':0,\n",
    "    'learning_rate':0.01,\n",
    "    'objective': 'reg:linear',\n",
    "    'max_depth':1,\n",
    "    'num_parallel_tree':1,\n",
    "    'min_child_weight':1,\n",
    "    'eval_metric':'rmse'\n",
    "}\n",
    "\n",
    "res=xgb.cv(xgb_params, dtrain, num_boost_round=2000, nfold=4, seed=SEED, stratified=False,\n",
    "          early_stopping_rounds=25, verbose_eval=10, show_stdv=True)\n",
    "\n",
    "best_nrounds=res.shape[0]-1\n",
    "cv_mean=res.iloc[-1,0]\n",
    "cv_std=res.iloc[-1,1]\n",
    "\n",
    "print('Ensemble-CV:{0}+{1}'.format(cv_mean, cv_std))\n",
    "\n",
    "gbdt=xgb.train(xgb_params, dtrain, best_nrounds)\n",
    "y_pre=gbdt.predict(dtest)"
   ]
  },
  {
   "cell_type": "markdown",
   "metadata": {},
   "source": [
    "# Make submission file"
   ]
  },
  {
   "cell_type": "code",
   "execution_count": 35,
   "metadata": {
    "collapsed": false
   },
   "outputs": [
    {
     "data": {
      "text/plain": [
       "array([ 118530.5703125,  158262.09375  ,  172393.375    , ...,\n",
       "        164440.09375  ,  115878.046875 ,  220940.3125   ], dtype=float32)"
      ]
     },
     "execution_count": 35,
     "metadata": {},
     "output_type": "execute_result"
    }
   ],
   "source": [
    "y_submit=np.exp(y_pre)\n",
    "y_submit"
   ]
  },
  {
   "cell_type": "code",
   "execution_count": 36,
   "metadata": {
    "collapsed": false
   },
   "outputs": [
    {
     "data": {
      "text/html": [
       "<div>\n",
       "<table border=\"1\" class=\"dataframe\">\n",
       "  <thead>\n",
       "    <tr style=\"text-align: right;\">\n",
       "      <th></th>\n",
       "      <th>Id</th>\n",
       "      <th>SalePrice</th>\n",
       "    </tr>\n",
       "  </thead>\n",
       "  <tbody>\n",
       "    <tr>\n",
       "      <th>0</th>\n",
       "      <td>1461</td>\n",
       "      <td>118530.570312</td>\n",
       "    </tr>\n",
       "    <tr>\n",
       "      <th>1</th>\n",
       "      <td>1462</td>\n",
       "      <td>158262.093750</td>\n",
       "    </tr>\n",
       "    <tr>\n",
       "      <th>2</th>\n",
       "      <td>1463</td>\n",
       "      <td>172393.375000</td>\n",
       "    </tr>\n",
       "    <tr>\n",
       "      <th>3</th>\n",
       "      <td>1464</td>\n",
       "      <td>183098.359375</td>\n",
       "    </tr>\n",
       "    <tr>\n",
       "      <th>4</th>\n",
       "      <td>1465</td>\n",
       "      <td>190103.687500</td>\n",
       "    </tr>\n",
       "  </tbody>\n",
       "</table>\n",
       "</div>"
      ],
      "text/plain": [
       "     Id      SalePrice\n",
       "0  1461  118530.570312\n",
       "1  1462  158262.093750\n",
       "2  1463  172393.375000\n",
       "3  1464  183098.359375\n",
       "4  1465  190103.687500"
      ]
     },
     "execution_count": 36,
     "metadata": {},
     "output_type": "execute_result"
    }
   ],
   "source": [
    "submission=pd.DataFrame(np.arange(1461, 2920), columns=['Id'])\n",
    "submission['SalePrice']=pd.Series(y_submit)\n",
    "submission.to_csv(path_or_buf= \n",
    "                  'submission_stacking_8_models.csv',index=False)\n",
    "submission.head()"
   ]
  },
  {
   "cell_type": "code",
   "execution_count": null,
   "metadata": {
    "collapsed": true
   },
   "outputs": [],
   "source": []
  }
 ],
 "metadata": {
  "anaconda-cloud": {},
  "kernelspec": {
   "display_name": "Python [Root]",
   "language": "python",
   "name": "Python [Root]"
  },
  "language_info": {
   "codemirror_mode": {
    "name": "ipython",
    "version": 3
   },
   "file_extension": ".py",
   "mimetype": "text/x-python",
   "name": "python",
   "nbconvert_exporter": "python",
   "pygments_lexer": "ipython3",
   "version": "3.5.2"
  }
 },
 "nbformat": 4,
 "nbformat_minor": 0
}
