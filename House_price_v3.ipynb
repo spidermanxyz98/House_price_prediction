{
 "cells": [
  {
   "cell_type": "code",
   "execution_count": 1,
   "metadata": {
    "collapsed": true
   },
   "outputs": [],
   "source": [
    "import pandas as pd\n",
    "from sklearn.model_selection import train_test_split\n",
    "from sklearn.metrics import mean_squared_error\n",
    "from sklearn.preprocessing import StandardScaler\n",
    "from sklearn.preprocessing import Imputer\n",
    "from sklearn.preprocessing import OneHotEncoder\n",
    "from sklearn.ensemble import RandomForestRegressor\n",
    "import numpy as np\n",
    "import matplotlib.pyplot as plt\n",
    "import seaborn as sns\n",
    "%matplotlib inline\n"
   ]
  },
  {
   "cell_type": "markdown",
   "metadata": {},
   "source": [
    "# Read data and combine the training and test data"
   ]
  },
  {
   "cell_type": "code",
   "execution_count": 2,
   "metadata": {
    "collapsed": false
   },
   "outputs": [
    {
     "name": "stdout",
     "output_type": "stream",
     "text": [
      "The shape of data is: (2919, 79)\n"
     ]
    }
   ],
   "source": [
    "data=pd.read_csv(\"input/train.csv\", index_col=0)\n",
    "real_test=pd.read_csv(\"input/test.csv\", index_col=0)\n",
    "\n",
    "#combine the training and test data\n",
    "X=data.iloc[:, 0:-1]\n",
    "y=data.iloc[:, -1]\n",
    "y=y.apply(np.log)\n",
    "\n",
    "frames=[X, real_test]\n",
    "X=pd.concat(frames)\n",
    "print('The shape of data is:', X.shape)"
   ]
  },
  {
   "cell_type": "markdown",
   "metadata": {},
   "source": [
    "# Deal with NaN"
   ]
  },
  {
   "cell_type": "code",
   "execution_count": 3,
   "metadata": {
    "collapsed": true
   },
   "outputs": [],
   "source": [
    "def exploration(col):\n",
    "    return X[col].value_counts()\n",
    "\n",
    "def most_frequent(col):\n",
    "    series=exploration(col)\n",
    "    types=series.index.tolist()\n",
    "    counts=series.tolist()\n",
    "    \n",
    "    id_max=counts.index(max(counts))\n",
    "    return types[id_max]\n",
    "\n",
    "def imputation(col, value):\n",
    "    X.loc[X[col].isnull(), col]=value\n",
    "\n",
    "#return the feature names with missing values\n",
    "def show_missing():\n",
    "    missing=X.columns[X.isnull().any()].tolist()\n",
    "    return missing"
   ]
  },
  {
   "cell_type": "code",
   "execution_count": 4,
   "metadata": {
    "collapsed": false
   },
   "outputs": [
    {
     "name": "stdout",
     "output_type": "stream",
     "text": [
      "['MSZoning', 'Utilities', 'Exterior1st', 'Exterior2nd', 'BsmtFinSF1', 'BsmtFinSF2', 'BsmtUnfSF', 'TotalBsmtSF', 'Electrical', 'BsmtFullBath', 'BsmtHalfBath', 'KitchenQual', 'Functional', 'GarageCars', 'GarageArea', 'SaleType']\n"
     ]
    }
   ],
   "source": [
    "Nan=X[show_missing()].isnull().sum()\n",
    "#If the Nan appears less than 10 times, replace it with the most frequent value (categorical data) or the mean (numerical)\n",
    "Nan_feature_1=Nan[Nan<=10].index.tolist()\n",
    "print(Nan_feature_1)\n",
    "\n",
    "for f in Nan_feature_1:\n",
    "    if X[f].dtype==np.object:\n",
    "        imputation(f, 'None')\n",
    "    else:\n",
    "        imputation(f, X[f].mean())"
   ]
  },
  {
   "cell_type": "code",
   "execution_count": 5,
   "metadata": {
    "collapsed": false
   },
   "outputs": [
    {
     "name": "stderr",
     "output_type": "stream",
     "text": [
      "/home/xinlin/anaconda3/lib/python3.5/site-packages/ipykernel/__main__.py:4: SettingWithCopyWarning: \n",
      "A value is trying to be set on a copy of a slice from a DataFrame\n",
      "\n",
      "See the caveats in the documentation: http://pandas.pydata.org/pandas-docs/stable/indexing.html#indexing-view-versus-copy\n"
     ]
    }
   ],
   "source": [
    "#Fill the NaN of LotFrontage using the sqrt of LotArea\n",
    "X['SqrtLotArea']=np.sqrt(X['LotArea'])\n",
    "cond=X['LotFrontage'].isnull()\n",
    "X.LotFrontage[cond]=X.SqrtLotArea[cond]\n",
    "del X['SqrtLotArea']"
   ]
  },
  {
   "cell_type": "code",
   "execution_count": 6,
   "metadata": {
    "collapsed": false
   },
   "outputs": [
    {
     "name": "stderr",
     "output_type": "stream",
     "text": [
      "/home/xinlin/anaconda3/lib/python3.5/site-packages/ipykernel/__main__.py:7: SettingWithCopyWarning: \n",
      "A value is trying to be set on a copy of a slice from a DataFrame\n",
      "\n",
      "See the caveats in the documentation: http://pandas.pydata.org/pandas-docs/stable/indexing.html#indexing-view-versus-copy\n",
      "/home/xinlin/anaconda3/lib/python3.5/site-packages/ipykernel/__main__.py:8: SettingWithCopyWarning: \n",
      "A value is trying to be set on a copy of a slice from a DataFrame\n",
      "\n",
      "See the caveats in the documentation: http://pandas.pydata.org/pandas-docs/stable/indexing.html#indexing-view-versus-copy\n"
     ]
    }
   ],
   "source": [
    "#Alley: None represents there is no alley\n",
    "imputation('Alley', 'None')\n",
    "\n",
    "#MasVnAre and MasVnrType\n",
    "\n",
    "cond=X['MasVnrArea'].isnull()\n",
    "X['MasVnrArea'][cond]=0\n",
    "X['MasVnrType'][cond]='None'\n",
    "\n",
    "cond=X['MasVnrType'].isnull()\n",
    "X['MasVnrType']=most_frequent('MasVnrType')"
   ]
  },
  {
   "cell_type": "code",
   "execution_count": 7,
   "metadata": {
    "collapsed": false
   },
   "outputs": [],
   "source": [
    "#None means there is no such attribute for that house\n",
    "imputation('BsmtQual', 'None')\n",
    "imputation('BsmtCond', 'None')\n",
    "imputation('BsmtExposure', 'None')\n",
    "imputation('BsmtFinType1', 'None')\n",
    "imputation('BsmtFinType2', 'None')\n",
    "imputation('FireplaceQu', 'None')\n",
    "imputation('GarageType', 'None')\n",
    "imputation('GarageYrBlt', 0)\n",
    "imputation('GarageFinish', 'None')\n",
    "imputation('GarageQual', 'None')\n",
    "imputation('GarageCond', 'None')\n",
    "imputation('PoolQC', 'None')\n",
    "imputation('Fence', 'None')\n",
    "imputation('MiscFeature', 'None')"
   ]
  },
  {
   "cell_type": "code",
   "execution_count": 8,
   "metadata": {
    "collapsed": false
   },
   "outputs": [
    {
     "data": {
      "text/html": [
       "<div>\n",
       "<table border=\"1\" class=\"dataframe\">\n",
       "  <thead>\n",
       "    <tr style=\"text-align: right;\">\n",
       "      <th></th>\n",
       "      <th>MSSubClass</th>\n",
       "      <th>MSZoning</th>\n",
       "      <th>LotFrontage</th>\n",
       "      <th>LotArea</th>\n",
       "      <th>Street</th>\n",
       "      <th>Alley</th>\n",
       "      <th>LotShape</th>\n",
       "      <th>LandContour</th>\n",
       "      <th>Utilities</th>\n",
       "      <th>LotConfig</th>\n",
       "      <th>...</th>\n",
       "      <th>ScreenPorch</th>\n",
       "      <th>PoolArea</th>\n",
       "      <th>PoolQC</th>\n",
       "      <th>Fence</th>\n",
       "      <th>MiscFeature</th>\n",
       "      <th>MiscVal</th>\n",
       "      <th>MoSold</th>\n",
       "      <th>YrSold</th>\n",
       "      <th>SaleType</th>\n",
       "      <th>SaleCondition</th>\n",
       "    </tr>\n",
       "    <tr>\n",
       "      <th>Id</th>\n",
       "      <th></th>\n",
       "      <th></th>\n",
       "      <th></th>\n",
       "      <th></th>\n",
       "      <th></th>\n",
       "      <th></th>\n",
       "      <th></th>\n",
       "      <th></th>\n",
       "      <th></th>\n",
       "      <th></th>\n",
       "      <th></th>\n",
       "      <th></th>\n",
       "      <th></th>\n",
       "      <th></th>\n",
       "      <th></th>\n",
       "      <th></th>\n",
       "      <th></th>\n",
       "      <th></th>\n",
       "      <th></th>\n",
       "      <th></th>\n",
       "      <th></th>\n",
       "    </tr>\n",
       "  </thead>\n",
       "  <tbody>\n",
       "    <tr>\n",
       "      <th>1</th>\n",
       "      <td>60</td>\n",
       "      <td>RL</td>\n",
       "      <td>65</td>\n",
       "      <td>8450</td>\n",
       "      <td>Pave</td>\n",
       "      <td>None</td>\n",
       "      <td>Reg</td>\n",
       "      <td>Lvl</td>\n",
       "      <td>AllPub</td>\n",
       "      <td>Inside</td>\n",
       "      <td>...</td>\n",
       "      <td>0</td>\n",
       "      <td>0</td>\n",
       "      <td>None</td>\n",
       "      <td>None</td>\n",
       "      <td>None</td>\n",
       "      <td>0</td>\n",
       "      <td>2</td>\n",
       "      <td>2008</td>\n",
       "      <td>WD</td>\n",
       "      <td>Normal</td>\n",
       "    </tr>\n",
       "    <tr>\n",
       "      <th>2</th>\n",
       "      <td>20</td>\n",
       "      <td>RL</td>\n",
       "      <td>80</td>\n",
       "      <td>9600</td>\n",
       "      <td>Pave</td>\n",
       "      <td>None</td>\n",
       "      <td>Reg</td>\n",
       "      <td>Lvl</td>\n",
       "      <td>AllPub</td>\n",
       "      <td>FR2</td>\n",
       "      <td>...</td>\n",
       "      <td>0</td>\n",
       "      <td>0</td>\n",
       "      <td>None</td>\n",
       "      <td>None</td>\n",
       "      <td>None</td>\n",
       "      <td>0</td>\n",
       "      <td>5</td>\n",
       "      <td>2007</td>\n",
       "      <td>WD</td>\n",
       "      <td>Normal</td>\n",
       "    </tr>\n",
       "    <tr>\n",
       "      <th>3</th>\n",
       "      <td>60</td>\n",
       "      <td>RL</td>\n",
       "      <td>68</td>\n",
       "      <td>11250</td>\n",
       "      <td>Pave</td>\n",
       "      <td>None</td>\n",
       "      <td>IR1</td>\n",
       "      <td>Lvl</td>\n",
       "      <td>AllPub</td>\n",
       "      <td>Inside</td>\n",
       "      <td>...</td>\n",
       "      <td>0</td>\n",
       "      <td>0</td>\n",
       "      <td>None</td>\n",
       "      <td>None</td>\n",
       "      <td>None</td>\n",
       "      <td>0</td>\n",
       "      <td>9</td>\n",
       "      <td>2008</td>\n",
       "      <td>WD</td>\n",
       "      <td>Normal</td>\n",
       "    </tr>\n",
       "    <tr>\n",
       "      <th>4</th>\n",
       "      <td>70</td>\n",
       "      <td>RL</td>\n",
       "      <td>60</td>\n",
       "      <td>9550</td>\n",
       "      <td>Pave</td>\n",
       "      <td>None</td>\n",
       "      <td>IR1</td>\n",
       "      <td>Lvl</td>\n",
       "      <td>AllPub</td>\n",
       "      <td>Corner</td>\n",
       "      <td>...</td>\n",
       "      <td>0</td>\n",
       "      <td>0</td>\n",
       "      <td>None</td>\n",
       "      <td>None</td>\n",
       "      <td>None</td>\n",
       "      <td>0</td>\n",
       "      <td>2</td>\n",
       "      <td>2006</td>\n",
       "      <td>WD</td>\n",
       "      <td>Abnorml</td>\n",
       "    </tr>\n",
       "    <tr>\n",
       "      <th>5</th>\n",
       "      <td>60</td>\n",
       "      <td>RL</td>\n",
       "      <td>84</td>\n",
       "      <td>14260</td>\n",
       "      <td>Pave</td>\n",
       "      <td>None</td>\n",
       "      <td>IR1</td>\n",
       "      <td>Lvl</td>\n",
       "      <td>AllPub</td>\n",
       "      <td>FR2</td>\n",
       "      <td>...</td>\n",
       "      <td>0</td>\n",
       "      <td>0</td>\n",
       "      <td>None</td>\n",
       "      <td>None</td>\n",
       "      <td>None</td>\n",
       "      <td>0</td>\n",
       "      <td>12</td>\n",
       "      <td>2008</td>\n",
       "      <td>WD</td>\n",
       "      <td>Normal</td>\n",
       "    </tr>\n",
       "  </tbody>\n",
       "</table>\n",
       "<p>5 rows × 79 columns</p>\n",
       "</div>"
      ],
      "text/plain": [
       "    MSSubClass MSZoning  LotFrontage  LotArea Street Alley LotShape  \\\n",
       "Id                                                                    \n",
       "1           60       RL           65     8450   Pave  None      Reg   \n",
       "2           20       RL           80     9600   Pave  None      Reg   \n",
       "3           60       RL           68    11250   Pave  None      IR1   \n",
       "4           70       RL           60     9550   Pave  None      IR1   \n",
       "5           60       RL           84    14260   Pave  None      IR1   \n",
       "\n",
       "   LandContour Utilities LotConfig      ...       ScreenPorch PoolArea PoolQC  \\\n",
       "Id                                      ...                                     \n",
       "1          Lvl    AllPub    Inside      ...                 0        0   None   \n",
       "2          Lvl    AllPub       FR2      ...                 0        0   None   \n",
       "3          Lvl    AllPub    Inside      ...                 0        0   None   \n",
       "4          Lvl    AllPub    Corner      ...                 0        0   None   \n",
       "5          Lvl    AllPub       FR2      ...                 0        0   None   \n",
       "\n",
       "   Fence MiscFeature MiscVal  MoSold  YrSold  SaleType  SaleCondition  \n",
       "Id                                                                     \n",
       "1   None        None       0       2    2008        WD         Normal  \n",
       "2   None        None       0       5    2007        WD         Normal  \n",
       "3   None        None       0       9    2008        WD         Normal  \n",
       "4   None        None       0       2    2006        WD        Abnorml  \n",
       "5   None        None       0      12    2008        WD         Normal  \n",
       "\n",
       "[5 rows x 79 columns]"
      ]
     },
     "execution_count": 8,
     "metadata": {},
     "output_type": "execute_result"
    }
   ],
   "source": [
    "X.head()"
   ]
  },
  {
   "cell_type": "markdown",
   "metadata": {},
   "source": [
    "# Label the features"
   ]
  },
  {
   "cell_type": "code",
   "execution_count": 9,
   "metadata": {
    "collapsed": false
   },
   "outputs": [
    {
     "name": "stdout",
     "output_type": "stream",
     "text": [
      "number of numerical features: 35\n"
     ]
    },
    {
     "data": {
      "text/html": [
       "<div>\n",
       "<table border=\"1\" class=\"dataframe\">\n",
       "  <thead>\n",
       "    <tr style=\"text-align: right;\">\n",
       "      <th></th>\n",
       "      <th>LotFrontage</th>\n",
       "      <th>LotArea</th>\n",
       "      <th>OverallQual</th>\n",
       "      <th>OverallCond</th>\n",
       "      <th>YearBuilt</th>\n",
       "      <th>YearRemodAdd</th>\n",
       "      <th>MasVnrArea</th>\n",
       "      <th>BsmtFinSF1</th>\n",
       "      <th>BsmtFinSF2</th>\n",
       "      <th>BsmtUnfSF</th>\n",
       "      <th>...</th>\n",
       "      <th>WoodDeckSF</th>\n",
       "      <th>OpenPorchSF</th>\n",
       "      <th>EnclosedPorch</th>\n",
       "      <th>3SsnPorch</th>\n",
       "      <th>ScreenPorch</th>\n",
       "      <th>PoolArea</th>\n",
       "      <th>MiscVal</th>\n",
       "      <th>MoSold</th>\n",
       "      <th>YrSold</th>\n",
       "      <th>ID</th>\n",
       "    </tr>\n",
       "  </thead>\n",
       "  <tbody>\n",
       "    <tr>\n",
       "      <th>0</th>\n",
       "      <td>-0.358406</td>\n",
       "      <td>-0.217879</td>\n",
       "      <td>0.646183</td>\n",
       "      <td>-0.507284</td>\n",
       "      <td>1.046258</td>\n",
       "      <td>0.896833</td>\n",
       "      <td>0.529034</td>\n",
       "      <td>0.580907</td>\n",
       "      <td>-0.29313</td>\n",
       "      <td>-0.934863</td>\n",
       "      <td>...</td>\n",
       "      <td>-0.740760</td>\n",
       "      <td>0.200006</td>\n",
       "      <td>-0.359601</td>\n",
       "      <td>-0.103331</td>\n",
       "      <td>-0.285935</td>\n",
       "      <td>-0.06315</td>\n",
       "      <td>-0.089592</td>\n",
       "      <td>-1.552184</td>\n",
       "      <td>0.157646</td>\n",
       "      <td>1</td>\n",
       "    </tr>\n",
       "    <tr>\n",
       "      <th>1</th>\n",
       "      <td>0.159847</td>\n",
       "      <td>-0.072044</td>\n",
       "      <td>-0.063185</td>\n",
       "      <td>2.188279</td>\n",
       "      <td>0.154764</td>\n",
       "      <td>-0.395604</td>\n",
       "      <td>-0.567016</td>\n",
       "      <td>1.178112</td>\n",
       "      <td>-0.29313</td>\n",
       "      <td>-0.629896</td>\n",
       "      <td>...</td>\n",
       "      <td>1.614879</td>\n",
       "      <td>-0.702843</td>\n",
       "      <td>-0.359601</td>\n",
       "      <td>-0.103331</td>\n",
       "      <td>-0.285935</td>\n",
       "      <td>-0.06315</td>\n",
       "      <td>-0.089592</td>\n",
       "      <td>-0.446925</td>\n",
       "      <td>-0.602962</td>\n",
       "      <td>2</td>\n",
       "    </tr>\n",
       "    <tr>\n",
       "      <th>2</th>\n",
       "      <td>-0.254756</td>\n",
       "      <td>0.137197</td>\n",
       "      <td>0.646183</td>\n",
       "      <td>-0.507284</td>\n",
       "      <td>0.980221</td>\n",
       "      <td>0.848965</td>\n",
       "      <td>0.338903</td>\n",
       "      <td>0.097873</td>\n",
       "      <td>-0.29313</td>\n",
       "      <td>-0.288516</td>\n",
       "      <td>...</td>\n",
       "      <td>-0.740760</td>\n",
       "      <td>-0.081209</td>\n",
       "      <td>-0.359601</td>\n",
       "      <td>-0.103331</td>\n",
       "      <td>-0.285935</td>\n",
       "      <td>-0.06315</td>\n",
       "      <td>-0.089592</td>\n",
       "      <td>1.026753</td>\n",
       "      <td>0.157646</td>\n",
       "      <td>3</td>\n",
       "    </tr>\n",
       "    <tr>\n",
       "      <th>3</th>\n",
       "      <td>-0.531157</td>\n",
       "      <td>-0.078385</td>\n",
       "      <td>0.646183</td>\n",
       "      <td>-0.507284</td>\n",
       "      <td>-1.859351</td>\n",
       "      <td>-0.682812</td>\n",
       "      <td>-0.567016</td>\n",
       "      <td>-0.494941</td>\n",
       "      <td>-0.29313</td>\n",
       "      <td>-0.047275</td>\n",
       "      <td>...</td>\n",
       "      <td>-0.740760</td>\n",
       "      <td>-0.184815</td>\n",
       "      <td>3.874967</td>\n",
       "      <td>-0.103331</td>\n",
       "      <td>-0.285935</td>\n",
       "      <td>-0.06315</td>\n",
       "      <td>-0.089592</td>\n",
       "      <td>-1.552184</td>\n",
       "      <td>-1.363569</td>\n",
       "      <td>4</td>\n",
       "    </tr>\n",
       "    <tr>\n",
       "      <th>4</th>\n",
       "      <td>0.298048</td>\n",
       "      <td>0.518903</td>\n",
       "      <td>1.355551</td>\n",
       "      <td>-0.507284</td>\n",
       "      <td>0.947203</td>\n",
       "      <td>0.753229</td>\n",
       "      <td>1.390216</td>\n",
       "      <td>0.468931</td>\n",
       "      <td>-0.29313</td>\n",
       "      <td>-0.161068</td>\n",
       "      <td>...</td>\n",
       "      <td>0.776967</td>\n",
       "      <td>0.540424</td>\n",
       "      <td>-0.359601</td>\n",
       "      <td>-0.103331</td>\n",
       "      <td>-0.285935</td>\n",
       "      <td>-0.06315</td>\n",
       "      <td>-0.089592</td>\n",
       "      <td>2.132012</td>\n",
       "      <td>0.157646</td>\n",
       "      <td>5</td>\n",
       "    </tr>\n",
       "  </tbody>\n",
       "</table>\n",
       "<p>5 rows × 36 columns</p>\n",
       "</div>"
      ],
      "text/plain": [
       "   LotFrontage   LotArea  OverallQual  OverallCond  YearBuilt  YearRemodAdd  \\\n",
       "0    -0.358406 -0.217879     0.646183    -0.507284   1.046258      0.896833   \n",
       "1     0.159847 -0.072044    -0.063185     2.188279   0.154764     -0.395604   \n",
       "2    -0.254756  0.137197     0.646183    -0.507284   0.980221      0.848965   \n",
       "3    -0.531157 -0.078385     0.646183    -0.507284  -1.859351     -0.682812   \n",
       "4     0.298048  0.518903     1.355551    -0.507284   0.947203      0.753229   \n",
       "\n",
       "   MasVnrArea  BsmtFinSF1  BsmtFinSF2  BsmtUnfSF ...  WoodDeckSF  OpenPorchSF  \\\n",
       "0    0.529034    0.580907    -0.29313  -0.934863 ...   -0.740760     0.200006   \n",
       "1   -0.567016    1.178112    -0.29313  -0.629896 ...    1.614879    -0.702843   \n",
       "2    0.338903    0.097873    -0.29313  -0.288516 ...   -0.740760    -0.081209   \n",
       "3   -0.567016   -0.494941    -0.29313  -0.047275 ...   -0.740760    -0.184815   \n",
       "4    1.390216    0.468931    -0.29313  -0.161068 ...    0.776967     0.540424   \n",
       "\n",
       "   EnclosedPorch  3SsnPorch  ScreenPorch  PoolArea   MiscVal    MoSold  \\\n",
       "0      -0.359601  -0.103331    -0.285935  -0.06315 -0.089592 -1.552184   \n",
       "1      -0.359601  -0.103331    -0.285935  -0.06315 -0.089592 -0.446925   \n",
       "2      -0.359601  -0.103331    -0.285935  -0.06315 -0.089592  1.026753   \n",
       "3       3.874967  -0.103331    -0.285935  -0.06315 -0.089592 -1.552184   \n",
       "4      -0.359601  -0.103331    -0.285935  -0.06315 -0.089592  2.132012   \n",
       "\n",
       "     YrSold  ID  \n",
       "0  0.157646   1  \n",
       "1 -0.602962   2  \n",
       "2  0.157646   3  \n",
       "3 -1.363569   4  \n",
       "4  0.157646   5  \n",
       "\n",
       "[5 rows x 36 columns]"
      ]
     },
     "execution_count": 9,
     "metadata": {},
     "output_type": "execute_result"
    }
   ],
   "source": [
    "X['MSSubClass']=X['MSSubClass'].astype(str)\n",
    "X['GarageYrBlt']=X['GarageYrBlt'].astype(int)\n",
    "numerical_feature=X.columns[X.dtypes!='object']\n",
    "print('number of numerical features:',len(numerical_feature))\n",
    "\n",
    "#standarize numercical_features\n",
    "X_numerical=StandardScaler().fit_transform(X[numerical_feature])\n",
    "X_numerical=pd.DataFrame(X_numerical, columns=numerical_feature)\n",
    "X_numerical['ID']=list(np.arange(1,len(X_numerical)+1))\n",
    "X_numerical.head()"
   ]
  },
  {
   "cell_type": "markdown",
   "metadata": {},
   "source": [
    "# Determine ordinal features and non ordinal features"
   ]
  },
  {
   "cell_type": "code",
   "execution_count": 10,
   "metadata": {
    "collapsed": false
   },
   "outputs": [
    {
     "name": "stdout",
     "output_type": "stream",
     "text": [
      "number of non_ordinal_features 18\n",
      "number of ordinal_features 26\n"
     ]
    }
   ],
   "source": [
    "#determine ordinal features and non ordinal features\n",
    "\n",
    "non_ordinal_feature=['MSSubClass','MSZoning', 'Neighborhood', 'Condition1', 'Condition2', 'BldgType', \n",
    "                    'HouseStyle', 'RoofStyle', 'RoofMatl', 'Exterior1st', 'Exterior2nd',\n",
    "                   'MasVnrType', 'Foundation', 'Heating', 'MiscFeature', 'SaleType', 'SaleCondition', \n",
    "                     'LandSlope']\n",
    "print('number of non_ordinal_features', len(non_ordinal_feature))\n",
    "\n",
    "ordinal_feature=['ExterQual', 'ExterCond', 'BsmtQual', 'BsmtCond',\n",
    "                 'BsmtExposure', 'BsmtFinType1', 'BsmtFinType2',\n",
    "                 'HeatingQC', 'CentralAir', 'Electrical', 'KitchenQual',\n",
    "                 'Functional', 'FireplaceQu', 'GarageType','GarageFinish',\n",
    "                 'GarageQual','GarageCond', 'PavedDrive', 'PoolQC',\n",
    "                 'Fence', 'Street', 'Alley', 'LotShape', 'LandContour',\n",
    "               'Utilities', 'LotConfig']\n",
    "print('number of ordinal_features', len(ordinal_feature))"
   ]
  },
  {
   "cell_type": "markdown",
   "metadata": {},
   "source": [
    "# One hot encode the non ordinal features"
   ]
  },
  {
   "cell_type": "code",
   "execution_count": 11,
   "metadata": {
    "collapsed": false
   },
   "outputs": [
    {
     "name": "stdout",
     "output_type": "stream",
     "text": [
      "(2919, 161)\n"
     ]
    },
    {
     "data": {
      "text/html": [
       "<div>\n",
       "<table border=\"1\" class=\"dataframe\">\n",
       "  <thead>\n",
       "    <tr style=\"text-align: right;\">\n",
       "      <th></th>\n",
       "      <th>MSSubClass_120</th>\n",
       "      <th>MSSubClass_150</th>\n",
       "      <th>MSSubClass_160</th>\n",
       "      <th>MSSubClass_180</th>\n",
       "      <th>MSSubClass_190</th>\n",
       "      <th>MSSubClass_20</th>\n",
       "      <th>MSSubClass_30</th>\n",
       "      <th>MSSubClass_40</th>\n",
       "      <th>MSSubClass_45</th>\n",
       "      <th>MSSubClass_50</th>\n",
       "      <th>...</th>\n",
       "      <th>SaleCondition_Abnorml</th>\n",
       "      <th>SaleCondition_AdjLand</th>\n",
       "      <th>SaleCondition_Alloca</th>\n",
       "      <th>SaleCondition_Family</th>\n",
       "      <th>SaleCondition_Normal</th>\n",
       "      <th>SaleCondition_Partial</th>\n",
       "      <th>LandSlope_Gtl</th>\n",
       "      <th>LandSlope_Mod</th>\n",
       "      <th>LandSlope_Sev</th>\n",
       "      <th>ID</th>\n",
       "    </tr>\n",
       "    <tr>\n",
       "      <th>Id</th>\n",
       "      <th></th>\n",
       "      <th></th>\n",
       "      <th></th>\n",
       "      <th></th>\n",
       "      <th></th>\n",
       "      <th></th>\n",
       "      <th></th>\n",
       "      <th></th>\n",
       "      <th></th>\n",
       "      <th></th>\n",
       "      <th></th>\n",
       "      <th></th>\n",
       "      <th></th>\n",
       "      <th></th>\n",
       "      <th></th>\n",
       "      <th></th>\n",
       "      <th></th>\n",
       "      <th></th>\n",
       "      <th></th>\n",
       "      <th></th>\n",
       "      <th></th>\n",
       "    </tr>\n",
       "  </thead>\n",
       "  <tbody>\n",
       "    <tr>\n",
       "      <th>1</th>\n",
       "      <td>0</td>\n",
       "      <td>0</td>\n",
       "      <td>0</td>\n",
       "      <td>0</td>\n",
       "      <td>0</td>\n",
       "      <td>0</td>\n",
       "      <td>0</td>\n",
       "      <td>0</td>\n",
       "      <td>0</td>\n",
       "      <td>0</td>\n",
       "      <td>...</td>\n",
       "      <td>0</td>\n",
       "      <td>0</td>\n",
       "      <td>0</td>\n",
       "      <td>0</td>\n",
       "      <td>1</td>\n",
       "      <td>0</td>\n",
       "      <td>1</td>\n",
       "      <td>0</td>\n",
       "      <td>0</td>\n",
       "      <td>1</td>\n",
       "    </tr>\n",
       "    <tr>\n",
       "      <th>2</th>\n",
       "      <td>0</td>\n",
       "      <td>0</td>\n",
       "      <td>0</td>\n",
       "      <td>0</td>\n",
       "      <td>0</td>\n",
       "      <td>1</td>\n",
       "      <td>0</td>\n",
       "      <td>0</td>\n",
       "      <td>0</td>\n",
       "      <td>0</td>\n",
       "      <td>...</td>\n",
       "      <td>0</td>\n",
       "      <td>0</td>\n",
       "      <td>0</td>\n",
       "      <td>0</td>\n",
       "      <td>1</td>\n",
       "      <td>0</td>\n",
       "      <td>1</td>\n",
       "      <td>0</td>\n",
       "      <td>0</td>\n",
       "      <td>2</td>\n",
       "    </tr>\n",
       "    <tr>\n",
       "      <th>3</th>\n",
       "      <td>0</td>\n",
       "      <td>0</td>\n",
       "      <td>0</td>\n",
       "      <td>0</td>\n",
       "      <td>0</td>\n",
       "      <td>0</td>\n",
       "      <td>0</td>\n",
       "      <td>0</td>\n",
       "      <td>0</td>\n",
       "      <td>0</td>\n",
       "      <td>...</td>\n",
       "      <td>0</td>\n",
       "      <td>0</td>\n",
       "      <td>0</td>\n",
       "      <td>0</td>\n",
       "      <td>1</td>\n",
       "      <td>0</td>\n",
       "      <td>1</td>\n",
       "      <td>0</td>\n",
       "      <td>0</td>\n",
       "      <td>3</td>\n",
       "    </tr>\n",
       "    <tr>\n",
       "      <th>4</th>\n",
       "      <td>0</td>\n",
       "      <td>0</td>\n",
       "      <td>0</td>\n",
       "      <td>0</td>\n",
       "      <td>0</td>\n",
       "      <td>0</td>\n",
       "      <td>0</td>\n",
       "      <td>0</td>\n",
       "      <td>0</td>\n",
       "      <td>0</td>\n",
       "      <td>...</td>\n",
       "      <td>1</td>\n",
       "      <td>0</td>\n",
       "      <td>0</td>\n",
       "      <td>0</td>\n",
       "      <td>0</td>\n",
       "      <td>0</td>\n",
       "      <td>1</td>\n",
       "      <td>0</td>\n",
       "      <td>0</td>\n",
       "      <td>4</td>\n",
       "    </tr>\n",
       "    <tr>\n",
       "      <th>5</th>\n",
       "      <td>0</td>\n",
       "      <td>0</td>\n",
       "      <td>0</td>\n",
       "      <td>0</td>\n",
       "      <td>0</td>\n",
       "      <td>0</td>\n",
       "      <td>0</td>\n",
       "      <td>0</td>\n",
       "      <td>0</td>\n",
       "      <td>0</td>\n",
       "      <td>...</td>\n",
       "      <td>0</td>\n",
       "      <td>0</td>\n",
       "      <td>0</td>\n",
       "      <td>0</td>\n",
       "      <td>1</td>\n",
       "      <td>0</td>\n",
       "      <td>1</td>\n",
       "      <td>0</td>\n",
       "      <td>0</td>\n",
       "      <td>5</td>\n",
       "    </tr>\n",
       "  </tbody>\n",
       "</table>\n",
       "<p>5 rows × 162 columns</p>\n",
       "</div>"
      ],
      "text/plain": [
       "    MSSubClass_120  MSSubClass_150  MSSubClass_160  MSSubClass_180  \\\n",
       "Id                                                                   \n",
       "1                0               0               0               0   \n",
       "2                0               0               0               0   \n",
       "3                0               0               0               0   \n",
       "4                0               0               0               0   \n",
       "5                0               0               0               0   \n",
       "\n",
       "    MSSubClass_190  MSSubClass_20  MSSubClass_30  MSSubClass_40  \\\n",
       "Id                                                                \n",
       "1                0              0              0              0   \n",
       "2                0              1              0              0   \n",
       "3                0              0              0              0   \n",
       "4                0              0              0              0   \n",
       "5                0              0              0              0   \n",
       "\n",
       "    MSSubClass_45  MSSubClass_50 ...  SaleCondition_Abnorml  \\\n",
       "Id                               ...                          \n",
       "1               0              0 ...                      0   \n",
       "2               0              0 ...                      0   \n",
       "3               0              0 ...                      0   \n",
       "4               0              0 ...                      1   \n",
       "5               0              0 ...                      0   \n",
       "\n",
       "    SaleCondition_AdjLand  SaleCondition_Alloca  SaleCondition_Family  \\\n",
       "Id                                                                      \n",
       "1                       0                     0                     0   \n",
       "2                       0                     0                     0   \n",
       "3                       0                     0                     0   \n",
       "4                       0                     0                     0   \n",
       "5                       0                     0                     0   \n",
       "\n",
       "    SaleCondition_Normal  SaleCondition_Partial  LandSlope_Gtl  LandSlope_Mod  \\\n",
       "Id                                                                              \n",
       "1                      1                      0              1              0   \n",
       "2                      1                      0              1              0   \n",
       "3                      1                      0              1              0   \n",
       "4                      0                      0              1              0   \n",
       "5                      1                      0              1              0   \n",
       "\n",
       "    LandSlope_Sev  ID  \n",
       "Id                     \n",
       "1               0   1  \n",
       "2               0   2  \n",
       "3               0   3  \n",
       "4               0   4  \n",
       "5               0   5  \n",
       "\n",
       "[5 rows x 162 columns]"
      ]
     },
     "execution_count": 11,
     "metadata": {},
     "output_type": "execute_result"
    }
   ],
   "source": [
    "X_non_ordinal=pd.get_dummies(X[non_ordinal_feature])\n",
    "print(X_non_ordinal.shape)\n",
    "X_non_ordinal['ID']=np.arange(1, len(X_non_ordinal)+1)\n",
    "X_non_ordinal.head()"
   ]
  },
  {
   "cell_type": "markdown",
   "metadata": {},
   "source": [
    "# Mapping the ordinal features"
   ]
  },
  {
   "cell_type": "code",
   "execution_count": 12,
   "metadata": {
    "collapsed": false
   },
   "outputs": [
    {
     "data": {
      "text/plain": [
       "26"
      ]
     },
     "execution_count": 12,
     "metadata": {},
     "output_type": "execute_result"
    }
   ],
   "source": [
    "ordinal_values={}\n",
    "ordinal_values['Alley']=['None','Grvl','Pave']\n",
    "ordinal_values['BsmtCond']=['None','Po', 'Fa', 'TA', 'Gd', 'Ex']\n",
    "ordinal_values['BsmtExposure']=['None','No', 'Mn', 'Av', 'Gd']\n",
    "ordinal_values['BsmtFinType1']=['None','Unf', 'LwQ', 'Rec', 'BLQ',\n",
    "                              'ALQ', 'GLQ']\n",
    "ordinal_values['BsmtFinType2']=['None','Unf', 'LwQ', 'Rec', 'BLQ',\n",
    "                              'ALQ', 'GLQ']\n",
    "ordinal_values['BsmtQual']=['None','Fa', 'TA', 'Gd', 'Ex']\n",
    "ordinal_values['BsmtCond']=['None','Po', 'Fa', 'TA', 'Gd', 'Ex']\n",
    "ordinal_values['CentralAir']=['N', 'Y']\n",
    "ordinal_values['Electrical']=['None','Mix', 'FuseP', 'FuseF', 'FuseA',\n",
    "                            'SBrkr']\n",
    "ordinal_values['ExterCond']=['None','Po', 'Fa', 'TA', 'Gd', 'Ex']\n",
    "ordinal_values['ExterQual']=['None','Fa', 'TA', 'Gd', 'Ex']\n",
    "ordinal_values['Fence']=['None','MnWw', 'GdWo', 'MnPrv', 'GdPrv']\n",
    "ordinal_values['FireplaceQu']=['None','Po', 'Fa', 'TA', 'Gd', 'Ex']\n",
    "ordinal_values['Functional']=['None','Sev', 'Maj2', 'Maj1', 'Mod',\n",
    "                            'Min2', 'Min1', 'Typ']\n",
    "ordinal_values['GarageCond']=['None','Po', 'Fa', 'TA', 'Gd', 'Ex']\n",
    "ordinal_values['GarageFinish']=['None','Unf', 'RFn', 'Fin']\n",
    "ordinal_values['GarageQual']=['None','Po', 'Fa', 'TA', 'Gd', 'Ex']\n",
    "ordinal_values['GarageType']=['None','Detchd','CarPort', 'BuiltIn',\n",
    "                            'Basment', 'Attchd', '2Types']\n",
    "ordinal_values['HeatingQC']=['None','Po', 'Fa', 'TA', 'Gd', 'Ex']\n",
    "ordinal_values['KitchenQual']=['None','Fa', 'TA', 'Gd', 'Ex']\n",
    "ordinal_values['LandContour']=['None','Low', 'HLS', 'Bnk','Lvl']\n",
    "ordinal_values['LotConfig']=['None','FR3', 'FR2', 'CulDSac','Corner',\n",
    "                           'Inside']\n",
    "ordinal_values['LotShape']=['None','IR3', 'IR2', 'IR1', 'Reg']\n",
    "ordinal_values['PavedDrive']=['None','N', 'P', 'Y']\n",
    "ordinal_values['PoolQC']=['None','Fa', 'Gd', 'Ex']\n",
    "ordinal_values['Street']=['None','Grvl', 'Pave']\n",
    "ordinal_values['Utilities']=['None','NoSeWa', 'AllPub']\n",
    "len(ordinal_values)"
   ]
  },
  {
   "cell_type": "code",
   "execution_count": 13,
   "metadata": {
    "collapsed": true
   },
   "outputs": [],
   "source": [
    "#ordial mapping\n",
    "ordinal_mapping={}\n",
    "for f in ordinal_feature:\n",
    "    mapping={}\n",
    "    grades=ordinal_values[f]\n",
    "    n=len(ordinal_values[f])\n",
    "    \n",
    "    for i in range(n):\n",
    "        mapping[grades[i]]=i\n",
    "    \n",
    "    ordinal_mapping[f]=mapping"
   ]
  },
  {
   "cell_type": "code",
   "execution_count": 14,
   "metadata": {
    "collapsed": false
   },
   "outputs": [
    {
     "name": "stderr",
     "output_type": "stream",
     "text": [
      "/home/xinlin/anaconda3/lib/python3.5/site-packages/ipykernel/__main__.py:3: SettingWithCopyWarning: \n",
      "A value is trying to be set on a copy of a slice from a DataFrame.\n",
      "Try using .loc[row_indexer,col_indexer] = value instead\n",
      "\n",
      "See the caveats in the documentation: http://pandas.pydata.org/pandas-docs/stable/indexing.html#indexing-view-versus-copy\n",
      "  app.launch_new_instance()\n"
     ]
    }
   ],
   "source": [
    "X_ordinal=X[ordinal_feature]\n",
    "for f in ordinal_feature:\n",
    "    X_ordinal[f]=X_ordinal[f].map(ordinal_mapping[f])\n",
    "\n",
    "#standarize the number\n",
    "X_ordinal=StandardScaler().fit_transform(X_ordinal)\n",
    "X_ordinal=pd.DataFrame(X_ordinal, columns=ordinal_feature)\n",
    "X_ordinal['ID']=np.arange(1, len(X_ordinal)+1)"
   ]
  },
  {
   "cell_type": "code",
   "execution_count": 15,
   "metadata": {
    "collapsed": false
   },
   "outputs": [
    {
     "name": "stdout",
     "output_type": "stream",
     "text": [
      "numerical shape (2919, 36)\n",
      "non_ordinal shape (2919, 162)\n",
      "ordinal shape (2919, 27)\n"
     ]
    },
    {
     "data": {
      "text/plain": [
       "(2919, 222)"
      ]
     },
     "execution_count": 15,
     "metadata": {},
     "output_type": "execute_result"
    }
   ],
   "source": [
    "print('numerical shape', X_numerical.shape)\n",
    "print('non_ordinal shape', X_non_ordinal.shape)\n",
    "print('ordinal shape', X_ordinal.shape)\n",
    "\n",
    "X_clean=X_numerical\n",
    "X_clean=X_clean.merge(X_non_ordinal, left_on='ID', right_on='ID', how='inner')\n",
    "X_clean=X_clean.merge(X_ordinal, left_on='ID', right_on='ID', how='inner')\n",
    "\n",
    "\n",
    "del X_clean['ID']\n",
    "X_clean.shape"
   ]
  },
  {
   "cell_type": "markdown",
   "metadata": {},
   "source": [
    "# Seperate training and test"
   ]
  },
  {
   "cell_type": "code",
   "execution_count": 189,
   "metadata": {
    "collapsed": true
   },
   "outputs": [],
   "source": [
    "X_new=X_clean.iloc[0:1460,:]\n",
    "real_test_new=X_clean.iloc[1460:2920, :]\n",
    "X_train, X_test, y_train, y_test = train_test_split(X_new, y, test_size=0.05, random_state=8)"
   ]
  },
  {
   "cell_type": "code",
   "execution_count": 190,
   "metadata": {
    "collapsed": false
   },
   "outputs": [],
   "source": [
    "#X-test1, y_test1 is used for fitting the blending coeffient. X_test2 and y_test2 is used for test the blending\n",
    "X_train_blend, X_test_blend, y_train_blend, y_test_blend =train_test_split(X_test, y_test, test_size=0.5, random_state=9)"
   ]
  },
  {
   "cell_type": "markdown",
   "metadata": {},
   "source": [
    "# XGB "
   ]
  },
  {
   "cell_type": "code",
   "execution_count": 191,
   "metadata": {
    "collapsed": false
   },
   "outputs": [
    {
     "name": "stdout",
     "output_type": "stream",
     "text": [
      "Fitting 4 folds for each of 27 candidates, totalling 108 fits\n"
     ]
    },
    {
     "name": "stderr",
     "output_type": "stream",
     "text": [
      "[Parallel(n_jobs=1)]: Done 108 out of 108 | elapsed:  4.3min finished\n"
     ]
    },
    {
     "name": "stdout",
     "output_type": "stream",
     "text": [
      "log error of training: 0.0635839173376\n"
     ]
    }
   ],
   "source": [
    "from sklearn.model_selection import GridSearchCV\n",
    "from xgboost import XGBRegressor\n",
    "\n",
    "xgb=XGBRegressor()\n",
    "parameters={'max_depth':list(np.arange(3,6)), 'learning_rate': np.arange(0.01, 0.1, 0.01), 'n_estimators': [500]}\n",
    "clf_xgb=GridSearchCV(xgb, parameters, verbose=1, cv=4)\n",
    "clf_xgb.fit(X_train, y_train)\n",
    "\n",
    "print(\"log error of training:\", np.sqrt(mean_squared_error(y_train, np.asarray(clf_xgb.predict(X_train), dtype='float64'))))\n",
    "#print(\"log error of test:\", np.sqrt(mean_squared_error(y_test, np.asarray(clf_xgb.predict(X_test),dtype='float64'))))"
   ]
  },
  {
   "cell_type": "code",
   "execution_count": 192,
   "metadata": {
    "collapsed": false
   },
   "outputs": [
    {
     "data": {
      "text/plain": [
       "XGBRegressor(base_score=0.5, colsample_bylevel=1, colsample_bytree=1, gamma=0,\n",
       "       learning_rate=0.050000000000000003, max_delta_step=0, max_depth=3,\n",
       "       min_child_weight=1, missing=None, n_estimators=500, nthread=-1,\n",
       "       objective='reg:linear', reg_alpha=0, reg_lambda=1,\n",
       "       scale_pos_weight=1, seed=0, silent=True, subsample=1)"
      ]
     },
     "execution_count": 192,
     "metadata": {},
     "output_type": "execute_result"
    }
   ],
   "source": [
    "clf_xgb.best_estimator_"
   ]
  },
  {
   "cell_type": "code",
   "execution_count": 193,
   "metadata": {
    "collapsed": false
   },
   "outputs": [],
   "source": [
    "X_blend_train_xgb=clf_xgb.predict(X_train_blend)\n",
    "X_blend_test_xgb=clf_xgb.predict(X_test_blend)\n",
    "X_blend_submit_xgb=clf_xgb.predict(real_test_new)"
   ]
  },
  {
   "cell_type": "markdown",
   "metadata": {},
   "source": [
    "# XBG1"
   ]
  },
  {
   "cell_type": "code",
   "execution_count": 194,
   "metadata": {
    "collapsed": false
   },
   "outputs": [
    {
     "name": "stdout",
     "output_type": "stream",
     "text": [
      "Fitting 4 folds for each of 12 candidates, totalling 48 fits\n"
     ]
    },
    {
     "name": "stderr",
     "output_type": "stream",
     "text": [
      "[Parallel(n_jobs=1)]: Done  48 out of  48 | elapsed:  3.5min finished\n"
     ]
    },
    {
     "name": "stdout",
     "output_type": "stream",
     "text": [
      "log error of training: 0.0331310696686\n"
     ]
    }
   ],
   "source": [
    "xgb1=XGBRegressor()\n",
    "parameters={'max_depth':list(np.arange(3,6)), 'learning_rate': np.arange(0.01, 0.1, 0.03), 'n_estimators': [1000]}\n",
    "clf_xgb1=GridSearchCV(xgb, parameters, verbose=1, cv=4)\n",
    "clf_xgb1.fit(X_train, y_train)\n",
    "\n",
    "print(\"log error of training:\", np.sqrt(mean_squared_error(y_train, np.asarray(clf_xgb1.predict(X_train), dtype='float64'))))"
   ]
  },
  {
   "cell_type": "code",
   "execution_count": 195,
   "metadata": {
    "collapsed": false
   },
   "outputs": [
    {
     "data": {
      "text/plain": [
       "XGBRegressor(base_score=0.5, colsample_bylevel=1, colsample_bytree=1, gamma=0,\n",
       "       learning_rate=0.069999999999999993, max_delta_step=0, max_depth=3,\n",
       "       min_child_weight=1, missing=None, n_estimators=1000, nthread=-1,\n",
       "       objective='reg:linear', reg_alpha=0, reg_lambda=1,\n",
       "       scale_pos_weight=1, seed=0, silent=True, subsample=1)"
      ]
     },
     "execution_count": 195,
     "metadata": {},
     "output_type": "execute_result"
    }
   ],
   "source": [
    "clf_xgb1.best_estimator_"
   ]
  },
  {
   "cell_type": "code",
   "execution_count": 196,
   "metadata": {
    "collapsed": true
   },
   "outputs": [],
   "source": [
    "X_blend_train_xgb1=clf_xgb1.predict(X_train_blend)\n",
    "X_blend_test_xgb1=clf_xgb1.predict(X_test_blend)\n",
    "X_blend_submit_xgb1=clf_xgb1.predict(real_test_new)"
   ]
  },
  {
   "cell_type": "markdown",
   "metadata": {
    "collapsed": true
   },
   "source": [
    "# Random Forest"
   ]
  },
  {
   "cell_type": "code",
   "execution_count": 197,
   "metadata": {
    "collapsed": false
   },
   "outputs": [
    {
     "name": "stdout",
     "output_type": "stream",
     "text": [
      "Fitting 7 folds for each of 10 candidates, totalling 70 fits\n"
     ]
    },
    {
     "name": "stderr",
     "output_type": "stream",
     "text": [
      "[Parallel(n_jobs=1)]: Done  70 out of  70 | elapsed:  2.6min finished\n"
     ]
    },
    {
     "name": "stdout",
     "output_type": "stream",
     "text": [
      "log error of training: 0.0702452615174\n"
     ]
    }
   ],
   "source": [
    "parameters={'max_features':list(np.arange(20,40,2))}\n",
    "rf=RandomForestRegressor(n_estimators=200, min_samples_leaf=2)\n",
    "clf_rf=GridSearchCV(rf, parameters, verbose=1, cv=7)\n",
    "clf_rf.fit(X_train, y_train)\n",
    "\n",
    "print(\"log error of training:\", np.sqrt(mean_squared_error(y_train, np.asarray(clf_rf.predict(X_train), dtype='float64'))))\n",
    "#print(\"log error of test:\", np.sqrt(mean_squared_error(y_test, np.asarray(clf_rf.predict(X_test),dtype='float64'))))"
   ]
  },
  {
   "cell_type": "code",
   "execution_count": 198,
   "metadata": {
    "collapsed": false
   },
   "outputs": [
    {
     "data": {
      "text/plain": [
       "RandomForestRegressor(bootstrap=True, criterion='mse', max_depth=None,\n",
       "           max_features=36, max_leaf_nodes=None, min_impurity_split=1e-07,\n",
       "           min_samples_leaf=2, min_samples_split=2,\n",
       "           min_weight_fraction_leaf=0.0, n_estimators=200, n_jobs=1,\n",
       "           oob_score=False, random_state=None, verbose=0, warm_start=False)"
      ]
     },
     "execution_count": 198,
     "metadata": {},
     "output_type": "execute_result"
    }
   ],
   "source": [
    "clf_rf.best_estimator_"
   ]
  },
  {
   "cell_type": "code",
   "execution_count": 199,
   "metadata": {
    "collapsed": false
   },
   "outputs": [],
   "source": [
    "X_blend_train_rf=clf_rf.predict(X_train_blend)\n",
    "X_blend_test_rf=clf_rf.predict(X_test_blend)\n",
    "X_blend_submit_rf=clf_rf.predict(real_test_new)"
   ]
  },
  {
   "cell_type": "markdown",
   "metadata": {},
   "source": [
    "# Random Forest1"
   ]
  },
  {
   "cell_type": "code",
   "execution_count": 200,
   "metadata": {
    "collapsed": false
   },
   "outputs": [
    {
     "name": "stdout",
     "output_type": "stream",
     "text": [
      "Fitting 7 folds for each of 12 candidates, totalling 84 fits\n"
     ]
    },
    {
     "name": "stderr",
     "output_type": "stream",
     "text": [
      "[Parallel(n_jobs=1)]: Done  84 out of  84 | elapsed:  2.7min finished\n"
     ]
    },
    {
     "name": "stdout",
     "output_type": "stream",
     "text": [
      "log error of training: 0.051918208807\n"
     ]
    }
   ],
   "source": [
    "parameters={'max_features':list(np.arange(20,40,5)), 'min_samples_leaf': np.arange(1,4)}\n",
    "rf1=RandomForestRegressor(n_estimators=500)\n",
    "clf_rf1=GridSearchCV(rf, parameters, verbose=1, cv=7)\n",
    "clf_rf1.fit(X_train, y_train)\n",
    "\n",
    "print(\"log error of training:\", np.sqrt(mean_squared_error(y_train, np.asarray(clf_rf1.predict(X_train), dtype='float64'))))\n",
    "#print(\"log error of test:\", np.sqrt(mean_squared_error(y_test, np.asarray(clf_rf.predict(X_test),dtype='float64'))))"
   ]
  },
  {
   "cell_type": "code",
   "execution_count": 201,
   "metadata": {
    "collapsed": false
   },
   "outputs": [
    {
     "data": {
      "text/plain": [
       "RandomForestRegressor(bootstrap=True, criterion='mse', max_depth=None,\n",
       "           max_features=30, max_leaf_nodes=None, min_impurity_split=1e-07,\n",
       "           min_samples_leaf=1, min_samples_split=2,\n",
       "           min_weight_fraction_leaf=0.0, n_estimators=200, n_jobs=1,\n",
       "           oob_score=False, random_state=None, verbose=0, warm_start=False)"
      ]
     },
     "execution_count": 201,
     "metadata": {},
     "output_type": "execute_result"
    }
   ],
   "source": [
    "clf_rf1.best_estimator_"
   ]
  },
  {
   "cell_type": "code",
   "execution_count": 202,
   "metadata": {
    "collapsed": true
   },
   "outputs": [],
   "source": [
    "X_blend_train_rf1=clf_rf1.predict(X_train_blend)\n",
    "X_blend_test_rf1=clf_rf1.predict(X_test_blend)\n",
    "X_blend_submit_rf1=clf_rf1.predict(real_test_new)"
   ]
  },
  {
   "cell_type": "markdown",
   "metadata": {},
   "source": [
    "# Ridge linear regression"
   ]
  },
  {
   "cell_type": "code",
   "execution_count": 203,
   "metadata": {
    "collapsed": false
   },
   "outputs": [
    {
     "name": "stdout",
     "output_type": "stream",
     "text": [
      "Fitting 10 folds for each of 15 candidates, totalling 150 fits\n",
      "log error of training: 0.122536777171\n"
     ]
    },
    {
     "name": "stderr",
     "output_type": "stream",
     "text": [
      "[Parallel(n_jobs=1)]: Done 150 out of 150 | elapsed:    4.5s finished\n"
     ]
    }
   ],
   "source": [
    "from sklearn.linear_model import Ridge\n",
    "parameters={'alpha':np.arange(50, 200, 10)}\n",
    "rdg=Ridge()\n",
    "\n",
    "clf_rdg=GridSearchCV(rdg, parameters, verbose=1, cv=10)\n",
    "clf_rdg.fit(X_train, y_train)\n",
    "\n",
    "print(\"log error of training:\", np.sqrt(mean_squared_error(y_train, np.asarray(clf_rdg.predict(X_train), dtype='float64'))))\n",
    "#print(\"log error of test:\", np.sqrt(mean_squared_error(y_test, np.asarray(clf_rdg.predict(X_test),dtype='float64'))))"
   ]
  },
  {
   "cell_type": "code",
   "execution_count": 204,
   "metadata": {
    "collapsed": false
   },
   "outputs": [
    {
     "data": {
      "text/plain": [
       "Ridge(alpha=50, copy_X=True, fit_intercept=True, max_iter=None,\n",
       "   normalize=False, random_state=None, solver='auto', tol=0.001)"
      ]
     },
     "execution_count": 204,
     "metadata": {},
     "output_type": "execute_result"
    }
   ],
   "source": [
    "clf_rdg.best_estimator_"
   ]
  },
  {
   "cell_type": "code",
   "execution_count": 205,
   "metadata": {
    "collapsed": false
   },
   "outputs": [],
   "source": [
    "X_blend_train_rdg=clf_rdg.predict(X_train_blend)\n",
    "X_blend_test_rdg=clf_rdg.predict(X_test_blend)\n",
    "X_blend_submit_rdg=clf_rdg.predict(real_test_new)"
   ]
  },
  {
   "cell_type": "markdown",
   "metadata": {},
   "source": [
    "# Lasso"
   ]
  },
  {
   "cell_type": "code",
   "execution_count": 206,
   "metadata": {
    "collapsed": false
   },
   "outputs": [
    {
     "name": "stdout",
     "output_type": "stream",
     "text": [
      "Fitting 10 folds for each of 19 candidates, totalling 190 fits\n",
      "log error of training: 0.108482608911\n"
     ]
    },
    {
     "name": "stderr",
     "output_type": "stream",
     "text": [
      "[Parallel(n_jobs=1)]: Done 190 out of 190 | elapsed:   24.9s finished\n"
     ]
    }
   ],
   "source": [
    "from sklearn.linear_model import Lasso\n",
    "\n",
    "parameters={'alpha':np.arange(0.0001, 0.002, 0.0001)}\n",
    "las=Lasso()\n",
    "\n",
    "clf_las=GridSearchCV(las, parameters, verbose=1, cv=10)\n",
    "clf_las.fit(X_train, y_train)\n",
    "\n",
    "print(\"log error of training:\", np.sqrt(mean_squared_error(y_train, np.asarray(clf_las.predict(X_train), dtype='float64'))))\n",
    "#print(\"log error of test:\", np.sqrt(mean_squared_error(y_test, np.asarray(clf_las.predict(X_test),dtype='float64'))))"
   ]
  },
  {
   "cell_type": "code",
   "execution_count": 207,
   "metadata": {
    "collapsed": false
   },
   "outputs": [
    {
     "data": {
      "text/plain": [
       "Lasso(alpha=0.00050000000000000001, copy_X=True, fit_intercept=True,\n",
       "   max_iter=1000, normalize=False, positive=False, precompute=False,\n",
       "   random_state=None, selection='cyclic', tol=0.0001, warm_start=False)"
      ]
     },
     "execution_count": 207,
     "metadata": {},
     "output_type": "execute_result"
    }
   ],
   "source": [
    "clf_las.best_estimator_"
   ]
  },
  {
   "cell_type": "code",
   "execution_count": 208,
   "metadata": {
    "collapsed": true
   },
   "outputs": [],
   "source": [
    "X_blend_train_las=clf_las.predict(X_train_blend)\n",
    "X_blend_test_las=clf_las.predict(X_test_blend)\n",
    "X_blend_submit_las=clf_las.predict(real_test_new)"
   ]
  },
  {
   "cell_type": "markdown",
   "metadata": {},
   "source": [
    "# SVR"
   ]
  },
  {
   "cell_type": "code",
   "execution_count": 209,
   "metadata": {
    "collapsed": false
   },
   "outputs": [
    {
     "name": "stdout",
     "output_type": "stream",
     "text": [
      "Fitting 10 folds for each of 7 candidates, totalling 70 fits\n"
     ]
    },
    {
     "name": "stderr",
     "output_type": "stream",
     "text": [
      "[Parallel(n_jobs=1)]: Done  70 out of  70 | elapsed:  2.4min finished\n"
     ]
    },
    {
     "name": "stdout",
     "output_type": "stream",
     "text": [
      "log error of training: 0.143229040665\n"
     ]
    }
   ],
   "source": [
    "from sklearn.svm import SVR\n",
    "parameters={'C': [0.05], 'epsilon': np.arange(0.001, 0.02, 0.003)}\n",
    "svr=SVR()\n",
    "\n",
    "clf_svr=GridSearchCV(svr, parameters, verbose=1, cv=10)\n",
    "clf_svr.fit(X_train, y_train)\n",
    "\n",
    "print(\"log error of training:\", np.sqrt(mean_squared_error(y_train, np.asarray(clf_svr.predict(X_train), dtype='float64'))))\n",
    "#print(\"log error of test:\", np.sqrt(mean_squared_error(y_test, np.asarray(clf_svr.predict(X_test),dtype='float64'))))"
   ]
  },
  {
   "cell_type": "code",
   "execution_count": 210,
   "metadata": {
    "collapsed": false
   },
   "outputs": [
    {
     "data": {
      "text/plain": [
       "SVR(C=0.05, cache_size=200, coef0=0.0, degree=3, epsilon=0.001, gamma='auto',\n",
       "  kernel='rbf', max_iter=-1, shrinking=True, tol=0.001, verbose=False)"
      ]
     },
     "execution_count": 210,
     "metadata": {},
     "output_type": "execute_result"
    }
   ],
   "source": [
    "clf_svr.best_estimator_"
   ]
  },
  {
   "cell_type": "code",
   "execution_count": 211,
   "metadata": {
    "collapsed": true
   },
   "outputs": [],
   "source": [
    "X_blend_train_svr=clf_svr.predict(X_train_blend)\n",
    "X_blend_test_svr=clf_svr.predict(X_test_blend)\n",
    "X_blend_submit_svr=clf_svr.predict(real_test_new)"
   ]
  },
  {
   "cell_type": "markdown",
   "metadata": {},
   "source": [
    "# Use linear regression to determine the coeffients for different model"
   ]
  },
  {
   "cell_type": "code",
   "execution_count": 212,
   "metadata": {
    "collapsed": false
   },
   "outputs": [
    {
     "data": {
      "text/html": [
       "<div>\n",
       "<table border=\"1\" class=\"dataframe\">\n",
       "  <thead>\n",
       "    <tr style=\"text-align: right;\">\n",
       "      <th></th>\n",
       "      <th>Lasso</th>\n",
       "      <th>RDG</th>\n",
       "      <th>RF</th>\n",
       "      <th>RF1</th>\n",
       "      <th>SVR</th>\n",
       "      <th>XGB</th>\n",
       "      <th>XGB1</th>\n",
       "    </tr>\n",
       "  </thead>\n",
       "  <tbody>\n",
       "    <tr>\n",
       "      <th>0</th>\n",
       "      <td>12.293794</td>\n",
       "      <td>12.261365</td>\n",
       "      <td>12.300615</td>\n",
       "      <td>12.306431</td>\n",
       "      <td>12.238935</td>\n",
       "      <td>12.288285</td>\n",
       "      <td>12.312885</td>\n",
       "    </tr>\n",
       "    <tr>\n",
       "      <th>1</th>\n",
       "      <td>12.998961</td>\n",
       "      <td>12.966013</td>\n",
       "      <td>13.023180</td>\n",
       "      <td>13.029687</td>\n",
       "      <td>12.870547</td>\n",
       "      <td>13.039133</td>\n",
       "      <td>13.097574</td>\n",
       "    </tr>\n",
       "    <tr>\n",
       "      <th>2</th>\n",
       "      <td>12.308623</td>\n",
       "      <td>12.322766</td>\n",
       "      <td>12.392596</td>\n",
       "      <td>12.379972</td>\n",
       "      <td>12.335676</td>\n",
       "      <td>12.363158</td>\n",
       "      <td>12.349445</td>\n",
       "    </tr>\n",
       "    <tr>\n",
       "      <th>3</th>\n",
       "      <td>12.384645</td>\n",
       "      <td>12.363383</td>\n",
       "      <td>12.407085</td>\n",
       "      <td>12.416483</td>\n",
       "      <td>12.399013</td>\n",
       "      <td>12.369852</td>\n",
       "      <td>12.410550</td>\n",
       "    </tr>\n",
       "    <tr>\n",
       "      <th>4</th>\n",
       "      <td>12.301593</td>\n",
       "      <td>12.306081</td>\n",
       "      <td>12.338064</td>\n",
       "      <td>12.320493</td>\n",
       "      <td>12.325229</td>\n",
       "      <td>12.321815</td>\n",
       "      <td>12.306186</td>\n",
       "    </tr>\n",
       "  </tbody>\n",
       "</table>\n",
       "</div>"
      ],
      "text/plain": [
       "       Lasso        RDG         RF        RF1        SVR        XGB       XGB1\n",
       "0  12.293794  12.261365  12.300615  12.306431  12.238935  12.288285  12.312885\n",
       "1  12.998961  12.966013  13.023180  13.029687  12.870547  13.039133  13.097574\n",
       "2  12.308623  12.322766  12.392596  12.379972  12.335676  12.363158  12.349445\n",
       "3  12.384645  12.363383  12.407085  12.416483  12.399013  12.369852  12.410550\n",
       "4  12.301593  12.306081  12.338064  12.320493  12.325229  12.321815  12.306186"
      ]
     },
     "execution_count": 212,
     "metadata": {},
     "output_type": "execute_result"
    }
   ],
   "source": [
    "X_blend_train=pd.DataFrame({\"XGB\":X_blend_train_xgb, \"XGB1\":X_blend_train_xgb1,\n",
    "                            \"RF\": X_blend_train_rf, \"RF1\": X_blend_train_rf1,\n",
    "                            \"RDG\": X_blend_train_rdg,\n",
    "                           \"Lasso\":X_blend_train_las, \"SVR\": X_blend_train_svr})\n",
    "X_blend_train.head()"
   ]
  },
  {
   "cell_type": "code",
   "execution_count": 213,
   "metadata": {
    "collapsed": false
   },
   "outputs": [
    {
     "data": {
      "text/html": [
       "<div>\n",
       "<table border=\"1\" class=\"dataframe\">\n",
       "  <thead>\n",
       "    <tr style=\"text-align: right;\">\n",
       "      <th></th>\n",
       "      <th>Lasso</th>\n",
       "      <th>RDG</th>\n",
       "      <th>RF</th>\n",
       "      <th>RF1</th>\n",
       "      <th>SVR</th>\n",
       "      <th>XGB</th>\n",
       "      <th>XGB1</th>\n",
       "    </tr>\n",
       "  </thead>\n",
       "  <tbody>\n",
       "    <tr>\n",
       "      <th>0</th>\n",
       "      <td>11.491108</td>\n",
       "      <td>11.482707</td>\n",
       "      <td>11.719749</td>\n",
       "      <td>11.696373</td>\n",
       "      <td>11.604429</td>\n",
       "      <td>11.604902</td>\n",
       "      <td>11.629565</td>\n",
       "    </tr>\n",
       "    <tr>\n",
       "      <th>1</th>\n",
       "      <td>12.045088</td>\n",
       "      <td>12.027388</td>\n",
       "      <td>12.019459</td>\n",
       "      <td>12.032869</td>\n",
       "      <td>12.039708</td>\n",
       "      <td>12.086980</td>\n",
       "      <td>12.108110</td>\n",
       "    </tr>\n",
       "    <tr>\n",
       "      <th>2</th>\n",
       "      <td>12.375225</td>\n",
       "      <td>12.377008</td>\n",
       "      <td>12.430079</td>\n",
       "      <td>12.363440</td>\n",
       "      <td>12.390176</td>\n",
       "      <td>12.367300</td>\n",
       "      <td>12.362450</td>\n",
       "    </tr>\n",
       "    <tr>\n",
       "      <th>3</th>\n",
       "      <td>11.594442</td>\n",
       "      <td>11.575864</td>\n",
       "      <td>11.719739</td>\n",
       "      <td>11.729391</td>\n",
       "      <td>11.692920</td>\n",
       "      <td>11.719992</td>\n",
       "      <td>11.807171</td>\n",
       "    </tr>\n",
       "    <tr>\n",
       "      <th>4</th>\n",
       "      <td>11.811501</td>\n",
       "      <td>11.821380</td>\n",
       "      <td>11.796000</td>\n",
       "      <td>11.799256</td>\n",
       "      <td>11.800161</td>\n",
       "      <td>11.793506</td>\n",
       "      <td>11.788229</td>\n",
       "    </tr>\n",
       "  </tbody>\n",
       "</table>\n",
       "</div>"
      ],
      "text/plain": [
       "       Lasso        RDG         RF        RF1        SVR        XGB       XGB1\n",
       "0  11.491108  11.482707  11.719749  11.696373  11.604429  11.604902  11.629565\n",
       "1  12.045088  12.027388  12.019459  12.032869  12.039708  12.086980  12.108110\n",
       "2  12.375225  12.377008  12.430079  12.363440  12.390176  12.367300  12.362450\n",
       "3  11.594442  11.575864  11.719739  11.729391  11.692920  11.719992  11.807171\n",
       "4  11.811501  11.821380  11.796000  11.799256  11.800161  11.793506  11.788229"
      ]
     },
     "execution_count": 213,
     "metadata": {},
     "output_type": "execute_result"
    }
   ],
   "source": [
    "X_blend_test=pd.DataFrame({\"XGB\":X_blend_test_xgb, \"XGB1\": X_blend_test_xgb1,\n",
    "                           \"RF\": X_blend_test_rf, \"RF1\": X_blend_test_rf1,\n",
    "                           \"RDG\": X_blend_test_rdg,\n",
    "                           \"Lasso\":X_blend_test_las, \"SVR\": X_blend_test_svr})\n",
    "X_blend_test.head()"
   ]
  },
  {
   "cell_type": "code",
   "execution_count": 214,
   "metadata": {
    "collapsed": false
   },
   "outputs": [
    {
     "data": {
      "text/html": [
       "<div>\n",
       "<table border=\"1\" class=\"dataframe\">\n",
       "  <thead>\n",
       "    <tr style=\"text-align: right;\">\n",
       "      <th></th>\n",
       "      <th>Lasso</th>\n",
       "      <th>RDG</th>\n",
       "      <th>RF</th>\n",
       "      <th>RF1</th>\n",
       "      <th>SVR</th>\n",
       "      <th>XGB</th>\n",
       "      <th>XGB1</th>\n",
       "    </tr>\n",
       "  </thead>\n",
       "  <tbody>\n",
       "    <tr>\n",
       "      <th>0</th>\n",
       "      <td>11.674802</td>\n",
       "      <td>11.631544</td>\n",
       "      <td>11.733291</td>\n",
       "      <td>11.742380</td>\n",
       "      <td>11.716517</td>\n",
       "      <td>11.710629</td>\n",
       "      <td>11.727242</td>\n",
       "    </tr>\n",
       "    <tr>\n",
       "      <th>1</th>\n",
       "      <td>11.940164</td>\n",
       "      <td>11.925399</td>\n",
       "      <td>11.917643</td>\n",
       "      <td>11.916975</td>\n",
       "      <td>12.042713</td>\n",
       "      <td>11.986144</td>\n",
       "      <td>11.985620</td>\n",
       "    </tr>\n",
       "    <tr>\n",
       "      <th>2</th>\n",
       "      <td>12.067333</td>\n",
       "      <td>12.047676</td>\n",
       "      <td>12.106546</td>\n",
       "      <td>12.109442</td>\n",
       "      <td>12.098948</td>\n",
       "      <td>12.146026</td>\n",
       "      <td>12.174750</td>\n",
       "    </tr>\n",
       "    <tr>\n",
       "      <th>3</th>\n",
       "      <td>12.193702</td>\n",
       "      <td>12.183549</td>\n",
       "      <td>12.115943</td>\n",
       "      <td>12.143606</td>\n",
       "      <td>12.181978</td>\n",
       "      <td>12.154918</td>\n",
       "      <td>12.201699</td>\n",
       "    </tr>\n",
       "    <tr>\n",
       "      <th>4</th>\n",
       "      <td>12.207430</td>\n",
       "      <td>12.151810</td>\n",
       "      <td>12.162423</td>\n",
       "      <td>12.161004</td>\n",
       "      <td>12.112021</td>\n",
       "      <td>12.170117</td>\n",
       "      <td>12.125201</td>\n",
       "    </tr>\n",
       "  </tbody>\n",
       "</table>\n",
       "</div>"
      ],
      "text/plain": [
       "       Lasso        RDG         RF        RF1        SVR        XGB       XGB1\n",
       "0  11.674802  11.631544  11.733291  11.742380  11.716517  11.710629  11.727242\n",
       "1  11.940164  11.925399  11.917643  11.916975  12.042713  11.986144  11.985620\n",
       "2  12.067333  12.047676  12.106546  12.109442  12.098948  12.146026  12.174750\n",
       "3  12.193702  12.183549  12.115943  12.143606  12.181978  12.154918  12.201699\n",
       "4  12.207430  12.151810  12.162423  12.161004  12.112021  12.170117  12.125201"
      ]
     },
     "execution_count": 214,
     "metadata": {},
     "output_type": "execute_result"
    }
   ],
   "source": [
    "X_submit=pd.DataFrame({\"XGB\":X_blend_submit_xgb,\"XGB1\":X_blend_submit_xgb1, \n",
    "                       \"RF\": X_blend_submit_rf, \"RF1\": X_blend_submit_rf1, \n",
    "                       \"RDG\": X_blend_submit_rdg, \"Lasso\":X_blend_submit_las, \"SVR\": X_blend_submit_svr})\n",
    "X_submit.head()"
   ]
  },
  {
   "cell_type": "code",
   "execution_count": 215,
   "metadata": {
    "collapsed": false
   },
   "outputs": [
    {
     "name": "stdout",
     "output_type": "stream",
     "text": [
      "log error of training: 0.061593730409\n",
      "log error of test: 0.105078945816\n"
     ]
    }
   ],
   "source": [
    "from sklearn.linear_model import LinearRegression\n",
    "clf_blend=LinearRegression()\n",
    "clf_blend.fit(X_blend_train, y_train_blend)\n",
    "\n",
    "print(\"log error of training:\", \n",
    "      np.sqrt(mean_squared_error(y_train_blend, np.asarray(clf_blend.predict(X_blend_train), dtype='float64'))))\n",
    "print(\"log error of test:\", \n",
    "      np.sqrt(mean_squared_error(y_test_blend, np.asarray(clf_blend.predict(X_blend_test), dtype='float64'))))\n",
    "\n",
    "y_submit=clf_blend.predict(X_submit)\n",
    "y_submit=np.exp(y_submit)"
   ]
  },
  {
   "cell_type": "markdown",
   "metadata": {},
   "source": [
    "# Use Lasso regression to do blending"
   ]
  },
  {
   "cell_type": "code",
   "execution_count": 184,
   "metadata": {
    "collapsed": false
   },
   "outputs": [
    {
     "name": "stdout",
     "output_type": "stream",
     "text": [
      "Fitting 10 folds for each of 6 candidates, totalling 60 fits\n",
      "log error of training: 0.083084373416\n",
      "log error of test: 0.0923325883747\n"
     ]
    },
    {
     "name": "stderr",
     "output_type": "stream",
     "text": [
      "[Parallel(n_jobs=1)]: Done  60 out of  60 | elapsed:    0.5s finished\n"
     ]
    }
   ],
   "source": [
    "clf_blend_las=Lasso(max_iter=5000)\n",
    "parameters={\"alpha\": np.arange(0.000001,0.00003, 0.000005)}\n",
    "clf_blend_las_cv=GridSearchCV(clf_blend_las, parameters, verbose=1, cv=10)\n",
    "clf_blend_las_cv.fit(X_blend_train, y_train_blend)\n",
    "\n",
    "print(\"log error of training:\", \n",
    "      np.sqrt(mean_squared_error(y_train_blend, np.asarray(clf_blend_las_cv.predict(X_blend_train), dtype='float64'))))\n",
    "print(\"log error of test:\", \n",
    "      np.sqrt(mean_squared_error(y_test_blend, np.asarray(clf_blend_las_cv.predict(X_blend_test), dtype='float64'))))\n",
    "\n",
    "y_submit_las=clf_blend_las_cv.predict(X_submit)\n",
    "y_submit_las=np.exp(y_submit_las)"
   ]
  },
  {
   "cell_type": "code",
   "execution_count": null,
   "metadata": {
    "collapsed": true
   },
   "outputs": [],
   "source": []
  },
  {
   "cell_type": "code",
   "execution_count": 185,
   "metadata": {
    "collapsed": false
   },
   "outputs": [
    {
     "data": {
      "text/plain": [
       "Ridge(alpha=1.0000000000000001e-05, copy_X=True, fit_intercept=True,\n",
       "   max_iter=None, normalize=False, random_state=None, solver='auto',\n",
       "   tol=0.001)"
      ]
     },
     "execution_count": 185,
     "metadata": {},
     "output_type": "execute_result"
    }
   ],
   "source": [
    "clf_blend_ridge_cv.best_estimator_"
   ]
  },
  {
   "cell_type": "markdown",
   "metadata": {},
   "source": [
    "# Use XGB to do blending"
   ]
  },
  {
   "cell_type": "code",
   "execution_count": 154,
   "metadata": {
    "collapsed": false
   },
   "outputs": [
    {
     "name": "stdout",
     "output_type": "stream",
     "text": [
      "Fitting 10 folds for each of 15 candidates, totalling 150 fits\n",
      "log error of training: 0.00592475247901\n",
      "log error of test: 0.135938540269\n"
     ]
    },
    {
     "name": "stderr",
     "output_type": "stream",
     "text": [
      "[Parallel(n_jobs=1)]: Done 150 out of 150 | elapsed:   16.3s finished\n"
     ]
    }
   ],
   "source": [
    "#XGB overfits the data too much! Probably because there are too few models.\n",
    "clf_blend_xgb=XGBRegressor()\n",
    "parameters={'max_depth':np.arange(3,6), 'learning_rate': np.arange(0.01, 0.1, 0.02), 'n_estimators': [500]}\n",
    "clf_blend_xgb_cv=GridSearchCV(clf_blend_xgb, parameters, verbose=1, cv=10)\n",
    "clf_blend_xgb_cv.fit(X_blend_train, y_train_blend)\n",
    "\n",
    "print(\"log error of training:\", \n",
    "      np.sqrt(mean_squared_error(y_train_blend, np.asarray(clf_blend_xgb_cv.predict(X_blend_train), dtype='float64'))))\n",
    "print(\"log error of test:\",\n",
    "      np.sqrt(mean_squared_error(y_test_blend, np.asarray(clf_blend_xgb_cv.predict(X_blend_test), dtype='float64'))))\n",
    "\n",
    "y_submit_xgb=clf_blend_xgb_cv.predict(X_submit)\n",
    "y_submit_xgb=np.exp(y_submit_xgb)"
   ]
  },
  {
   "cell_type": "code",
   "execution_count": 153,
   "metadata": {
    "collapsed": false
   },
   "outputs": [
    {
     "data": {
      "text/plain": [
       "XGBRegressor(base_score=0.5, colsample_bylevel=1, colsample_bytree=1, gamma=0,\n",
       "       learning_rate=0.069999999999999993, max_delta_step=0, max_depth=3,\n",
       "       min_child_weight=1, missing=None, n_estimators=500, nthread=-1,\n",
       "       objective='reg:linear', reg_alpha=0, reg_lambda=1,\n",
       "       scale_pos_weight=1, seed=0, silent=True, subsample=1)"
      ]
     },
     "execution_count": 153,
     "metadata": {},
     "output_type": "execute_result"
    }
   ],
   "source": [
    "clf_blend_xgb_cv.best_estimator_"
   ]
  },
  {
   "cell_type": "markdown",
   "metadata": {},
   "source": [
    "# Make submission file"
   ]
  },
  {
   "cell_type": "code",
   "execution_count": 216,
   "metadata": {
    "collapsed": false
   },
   "outputs": [],
   "source": [
    "submission=pd.DataFrame(np.arange(1461, 2920), columns=['Id'])\n",
    "submission['SalePrice']=pd.Series(y_submit_las)\n",
    "submission.to_csv(path_or_buf= \n",
    "                  'submission_average_2xgb_lasso_2rf_ridge_svr_linear_blending_all_features_0.95training_size.csv',index=False)"
   ]
  },
  {
   "cell_type": "code",
   "execution_count": 217,
   "metadata": {
    "collapsed": false
   },
   "outputs": [
    {
     "data": {
      "text/html": [
       "<div>\n",
       "<table border=\"1\" class=\"dataframe\">\n",
       "  <thead>\n",
       "    <tr style=\"text-align: right;\">\n",
       "      <th></th>\n",
       "      <th>Id</th>\n",
       "      <th>SalePrice</th>\n",
       "    </tr>\n",
       "  </thead>\n",
       "  <tbody>\n",
       "    <tr>\n",
       "      <th>0</th>\n",
       "      <td>1461</td>\n",
       "      <td>112285.588439</td>\n",
       "    </tr>\n",
       "    <tr>\n",
       "      <th>1</th>\n",
       "      <td>1462</td>\n",
       "      <td>140601.280532</td>\n",
       "    </tr>\n",
       "    <tr>\n",
       "      <th>2</th>\n",
       "      <td>1463</td>\n",
       "      <td>173966.343398</td>\n",
       "    </tr>\n",
       "    <tr>\n",
       "      <th>3</th>\n",
       "      <td>1464</td>\n",
       "      <td>187218.140046</td>\n",
       "    </tr>\n",
       "    <tr>\n",
       "      <th>4</th>\n",
       "      <td>1465</td>\n",
       "      <td>203852.364467</td>\n",
       "    </tr>\n",
       "  </tbody>\n",
       "</table>\n",
       "</div>"
      ],
      "text/plain": [
       "     Id      SalePrice\n",
       "0  1461  112285.588439\n",
       "1  1462  140601.280532\n",
       "2  1463  173966.343398\n",
       "3  1464  187218.140046\n",
       "4  1465  203852.364467"
      ]
     },
     "execution_count": 217,
     "metadata": {},
     "output_type": "execute_result"
    }
   ],
   "source": [
    "submission.head()"
   ]
  },
  {
   "cell_type": "code",
   "execution_count": null,
   "metadata": {
    "collapsed": true
   },
   "outputs": [],
   "source": []
  }
 ],
 "metadata": {
  "anaconda-cloud": {},
  "kernelspec": {
   "display_name": "Python [Root]",
   "language": "python",
   "name": "Python [Root]"
  },
  "language_info": {
   "codemirror_mode": {
    "name": "ipython",
    "version": 3
   },
   "file_extension": ".py",
   "mimetype": "text/x-python",
   "name": "python",
   "nbconvert_exporter": "python",
   "pygments_lexer": "ipython3",
   "version": "3.5.2"
  }
 },
 "nbformat": 4,
 "nbformat_minor": 0
}
