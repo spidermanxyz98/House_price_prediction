{
 "cells": [
  {
   "cell_type": "code",
   "execution_count": 112,
   "metadata": {
    "collapsed": false
   },
   "outputs": [],
   "source": [
    "import pandas as pd\n",
    "from sklearn.model_selection import train_test_split\n",
    "from sklearn.metrics import mean_squared_error\n",
    "from sklearn.preprocessing import StandardScaler\n",
    "from sklearn.preprocessing import Imputer\n",
    "from sklearn.preprocessing import OneHotEncoder\n",
    "from sklearn.ensemble import RandomForestRegressor\n",
    "import numpy as np\n",
    "import matplotlib.pyplot as plt\n",
    "import seaborn as sns\n",
    "%matplotlib inline"
   ]
  },
  {
   "cell_type": "markdown",
   "metadata": {},
   "source": [
    "# Read data and split the data to training and test set"
   ]
  },
  {
   "cell_type": "code",
   "execution_count": 113,
   "metadata": {
    "collapsed": false
   },
   "outputs": [
    {
     "name": "stdout",
     "output_type": "stream",
     "text": [
      "The shape of data is: (1460, 81)\n"
     ]
    },
    {
     "data": {
      "text/html": [
       "<div>\n",
       "<table border=\"1\" class=\"dataframe\">\n",
       "  <thead>\n",
       "    <tr style=\"text-align: right;\">\n",
       "      <th></th>\n",
       "      <th>Id</th>\n",
       "      <th>MSSubClass</th>\n",
       "      <th>MSZoning</th>\n",
       "      <th>LotFrontage</th>\n",
       "      <th>LotArea</th>\n",
       "      <th>Street</th>\n",
       "      <th>Alley</th>\n",
       "      <th>LotShape</th>\n",
       "      <th>LandContour</th>\n",
       "      <th>Utilities</th>\n",
       "      <th>...</th>\n",
       "      <th>PoolArea</th>\n",
       "      <th>PoolQC</th>\n",
       "      <th>Fence</th>\n",
       "      <th>MiscFeature</th>\n",
       "      <th>MiscVal</th>\n",
       "      <th>MoSold</th>\n",
       "      <th>YrSold</th>\n",
       "      <th>SaleType</th>\n",
       "      <th>SaleCondition</th>\n",
       "      <th>SalePrice</th>\n",
       "    </tr>\n",
       "  </thead>\n",
       "  <tbody>\n",
       "    <tr>\n",
       "      <th>0</th>\n",
       "      <td>1</td>\n",
       "      <td>60</td>\n",
       "      <td>RL</td>\n",
       "      <td>65</td>\n",
       "      <td>8450</td>\n",
       "      <td>Pave</td>\n",
       "      <td>NaN</td>\n",
       "      <td>Reg</td>\n",
       "      <td>Lvl</td>\n",
       "      <td>AllPub</td>\n",
       "      <td>...</td>\n",
       "      <td>0</td>\n",
       "      <td>NaN</td>\n",
       "      <td>NaN</td>\n",
       "      <td>NaN</td>\n",
       "      <td>0</td>\n",
       "      <td>2</td>\n",
       "      <td>2008</td>\n",
       "      <td>WD</td>\n",
       "      <td>Normal</td>\n",
       "      <td>208500</td>\n",
       "    </tr>\n",
       "    <tr>\n",
       "      <th>1</th>\n",
       "      <td>2</td>\n",
       "      <td>20</td>\n",
       "      <td>RL</td>\n",
       "      <td>80</td>\n",
       "      <td>9600</td>\n",
       "      <td>Pave</td>\n",
       "      <td>NaN</td>\n",
       "      <td>Reg</td>\n",
       "      <td>Lvl</td>\n",
       "      <td>AllPub</td>\n",
       "      <td>...</td>\n",
       "      <td>0</td>\n",
       "      <td>NaN</td>\n",
       "      <td>NaN</td>\n",
       "      <td>NaN</td>\n",
       "      <td>0</td>\n",
       "      <td>5</td>\n",
       "      <td>2007</td>\n",
       "      <td>WD</td>\n",
       "      <td>Normal</td>\n",
       "      <td>181500</td>\n",
       "    </tr>\n",
       "    <tr>\n",
       "      <th>2</th>\n",
       "      <td>3</td>\n",
       "      <td>60</td>\n",
       "      <td>RL</td>\n",
       "      <td>68</td>\n",
       "      <td>11250</td>\n",
       "      <td>Pave</td>\n",
       "      <td>NaN</td>\n",
       "      <td>IR1</td>\n",
       "      <td>Lvl</td>\n",
       "      <td>AllPub</td>\n",
       "      <td>...</td>\n",
       "      <td>0</td>\n",
       "      <td>NaN</td>\n",
       "      <td>NaN</td>\n",
       "      <td>NaN</td>\n",
       "      <td>0</td>\n",
       "      <td>9</td>\n",
       "      <td>2008</td>\n",
       "      <td>WD</td>\n",
       "      <td>Normal</td>\n",
       "      <td>223500</td>\n",
       "    </tr>\n",
       "    <tr>\n",
       "      <th>3</th>\n",
       "      <td>4</td>\n",
       "      <td>70</td>\n",
       "      <td>RL</td>\n",
       "      <td>60</td>\n",
       "      <td>9550</td>\n",
       "      <td>Pave</td>\n",
       "      <td>NaN</td>\n",
       "      <td>IR1</td>\n",
       "      <td>Lvl</td>\n",
       "      <td>AllPub</td>\n",
       "      <td>...</td>\n",
       "      <td>0</td>\n",
       "      <td>NaN</td>\n",
       "      <td>NaN</td>\n",
       "      <td>NaN</td>\n",
       "      <td>0</td>\n",
       "      <td>2</td>\n",
       "      <td>2006</td>\n",
       "      <td>WD</td>\n",
       "      <td>Abnorml</td>\n",
       "      <td>140000</td>\n",
       "    </tr>\n",
       "    <tr>\n",
       "      <th>4</th>\n",
       "      <td>5</td>\n",
       "      <td>60</td>\n",
       "      <td>RL</td>\n",
       "      <td>84</td>\n",
       "      <td>14260</td>\n",
       "      <td>Pave</td>\n",
       "      <td>NaN</td>\n",
       "      <td>IR1</td>\n",
       "      <td>Lvl</td>\n",
       "      <td>AllPub</td>\n",
       "      <td>...</td>\n",
       "      <td>0</td>\n",
       "      <td>NaN</td>\n",
       "      <td>NaN</td>\n",
       "      <td>NaN</td>\n",
       "      <td>0</td>\n",
       "      <td>12</td>\n",
       "      <td>2008</td>\n",
       "      <td>WD</td>\n",
       "      <td>Normal</td>\n",
       "      <td>250000</td>\n",
       "    </tr>\n",
       "  </tbody>\n",
       "</table>\n",
       "<p>5 rows × 81 columns</p>\n",
       "</div>"
      ],
      "text/plain": [
       "   Id  MSSubClass MSZoning  LotFrontage  LotArea Street Alley LotShape  \\\n",
       "0   1          60       RL           65     8450   Pave   NaN      Reg   \n",
       "1   2          20       RL           80     9600   Pave   NaN      Reg   \n",
       "2   3          60       RL           68    11250   Pave   NaN      IR1   \n",
       "3   4          70       RL           60     9550   Pave   NaN      IR1   \n",
       "4   5          60       RL           84    14260   Pave   NaN      IR1   \n",
       "\n",
       "  LandContour Utilities    ...     PoolArea PoolQC Fence MiscFeature MiscVal  \\\n",
       "0         Lvl    AllPub    ...            0    NaN   NaN         NaN       0   \n",
       "1         Lvl    AllPub    ...            0    NaN   NaN         NaN       0   \n",
       "2         Lvl    AllPub    ...            0    NaN   NaN         NaN       0   \n",
       "3         Lvl    AllPub    ...            0    NaN   NaN         NaN       0   \n",
       "4         Lvl    AllPub    ...            0    NaN   NaN         NaN       0   \n",
       "\n",
       "  MoSold YrSold  SaleType  SaleCondition  SalePrice  \n",
       "0      2   2008        WD         Normal     208500  \n",
       "1      5   2007        WD         Normal     181500  \n",
       "2      9   2008        WD         Normal     223500  \n",
       "3      2   2006        WD        Abnorml     140000  \n",
       "4     12   2008        WD         Normal     250000  \n",
       "\n",
       "[5 rows x 81 columns]"
      ]
     },
     "execution_count": 113,
     "metadata": {},
     "output_type": "execute_result"
    }
   ],
   "source": [
    "data=pd.read_csv(\"input/train.csv\")\n",
    "real_test=pd.read_csv(\"input/test.csv\")\n",
    "print('The shape of data is:', data.shape)\n",
    "data.head()"
   ]
  },
  {
   "cell_type": "code",
   "execution_count": 114,
   "metadata": {
    "collapsed": false
   },
   "outputs": [
    {
     "name": "stdout",
     "output_type": "stream",
     "text": [
      "shape of X: (2919, 80)\n",
      "shape of y: (1460,)\n",
      "Total number of features: 80\n",
      "number of int number features: 23\n",
      "number of string features: 43\n"
     ]
    }
   ],
   "source": [
    "X=data.iloc[:, 0:-1]\n",
    "y=data.iloc[:, -1]\n",
    "y=y.apply(np.log)\n",
    "\n",
    "frames=[X, real_test]\n",
    "X=pd.concat(frames)\n",
    "\n",
    "\n",
    "print(\"shape of X:\", X.shape)\n",
    "print(\"shape of y:\", y.shape)\n",
    "\n",
    "\n",
    "all_features=set(X.columns)\n",
    "print(\"Total number of features:\", len(all_features))\n",
    "\n",
    "#Seperate number features and string features\n",
    "g=X.columns.to_series().groupby(X.dtypes).groups\n",
    "fgroup={k.name: v for k, v in g.items()}\n",
    "\n",
    "int_feature=fgroup['int64']\n",
    "float_feature=fgroup['float64']\n",
    "int_feature.remove('Id')\n",
    "int_feature.remove('YrSold')\n",
    "int_feature.remove('MoSold')\n",
    "string_feature=fgroup['object']\n",
    "\n",
    "print('number of int number features:',len(int_feature))\n",
    "print('number of string features:', len(string_feature))\n",
    "\n",
    "\n",
    "imr=Imputer(missing_values='NaN', strategy='mean', axis=0)\n",
    "X_int=imr.fit_transform(X[int_feature])\n",
    "#print('int_features:',int_feature)\n",
    "#print('float_features:', float_feature)\n",
    "\n",
    "X_int=pd.DataFrame(X_int, columns=int_feature)\n",
    "X_int[['YearBuilt']]=2017-X_int[['YearBuilt']]\n",
    "X_int[['YearRemodAdd']]=2017-X_int[['YearRemodAdd']]"
   ]
  },
  {
   "cell_type": "code",
   "execution_count": 115,
   "metadata": {
    "collapsed": false
   },
   "outputs": [],
   "source": [
    "# Scale the features in int_feature\n",
    "scale_feature=['LotArea', 'YearBuilt', 'YearRemodAdd', '1stFlrSF', '2ndFlrSF', 'LowQualFinSF', \n",
    "               'GrLivArea', 'WoodDeckSF', 'OpenPorchSF', 'EnclosedPorch', '3SsnPorch', 'ScreenPorch',\n",
    "              'PoolArea', 'MiscVal']\n",
    "unscale_features=[item for item in int_feature if item not in scale_feature]\n",
    "unscale_features.remove('MSSubClass')\n",
    "\n",
    "X_scale=StandardScaler().fit_transform(X_int[scale_feature])\n",
    "X_scale=pd.DataFrame(X_scale, columns=scale_feature)"
   ]
  },
  {
   "cell_type": "code",
   "execution_count": 116,
   "metadata": {
    "collapsed": false
   },
   "outputs": [],
   "source": [
    "#Onehotencoder the class\n",
    "Mssclass=OneHotEncoder().fit_transform(X_int[['MSSubClass']]).toarray()\n",
    "Mssclass_col=['MSSubClass'+str(i) for i in range(16)]\n",
    "Mssclass=pd.DataFrame(Mssclass, columns=Mssclass_col)"
   ]
  },
  {
   "cell_type": "code",
   "execution_count": 117,
   "metadata": {
    "collapsed": false
   },
   "outputs": [
    {
     "data": {
      "text/plain": [
       "(2919, 38)"
      ]
     },
     "execution_count": 117,
     "metadata": {},
     "output_type": "execute_result"
    }
   ],
   "source": [
    "X_scale=X_scale.join(Mssclass)\n",
    "X_scale=X_scale.join(X_int[unscale_features])\n",
    "X_scale.shape"
   ]
  },
  {
   "cell_type": "markdown",
   "metadata": {},
   "source": [
    "# Deal with float data"
   ]
  },
  {
   "cell_type": "code",
   "execution_count": 118,
   "metadata": {
    "collapsed": false
   },
   "outputs": [
    {
     "data": {
      "text/plain": [
       "['LotFrontage',\n",
       " 'MasVnrArea',\n",
       " 'BsmtFinSF1',\n",
       " 'BsmtFinSF2',\n",
       " 'BsmtUnfSF',\n",
       " 'TotalBsmtSF',\n",
       " 'BsmtFullBath',\n",
       " 'BsmtHalfBath',\n",
       " 'GarageYrBlt',\n",
       " 'GarageCars',\n",
       " 'GarageArea']"
      ]
     },
     "execution_count": 118,
     "metadata": {},
     "output_type": "execute_result"
    }
   ],
   "source": [
    "float_feature"
   ]
  },
  {
   "cell_type": "code",
   "execution_count": 119,
   "metadata": {
    "collapsed": false
   },
   "outputs": [
    {
     "data": {
      "text/html": [
       "<div>\n",
       "<table border=\"1\" class=\"dataframe\">\n",
       "  <thead>\n",
       "    <tr style=\"text-align: right;\">\n",
       "      <th></th>\n",
       "      <th>LotFrontage</th>\n",
       "      <th>MasVnrArea</th>\n",
       "      <th>BsmtFinSF1</th>\n",
       "      <th>BsmtFinSF2</th>\n",
       "      <th>BsmtUnfSF</th>\n",
       "      <th>TotalBsmtSF</th>\n",
       "      <th>BsmtFullBath</th>\n",
       "      <th>BsmtHalfBath</th>\n",
       "      <th>GarageYrBlt</th>\n",
       "      <th>GarageCars</th>\n",
       "      <th>GarageArea</th>\n",
       "    </tr>\n",
       "  </thead>\n",
       "  <tbody>\n",
       "    <tr>\n",
       "      <th>0</th>\n",
       "      <td>-0.202068</td>\n",
       "      <td>0.525202</td>\n",
       "      <td>0.580907</td>\n",
       "      <td>-0.29313</td>\n",
       "      <td>-0.934863</td>\n",
       "      <td>-0.444328</td>\n",
       "      <td>1.087023</td>\n",
       "      <td>-0.249895</td>\n",
       "      <td>1.000929</td>\n",
       "      <td>0.306528</td>\n",
       "      <td>0.348900</td>\n",
       "    </tr>\n",
       "    <tr>\n",
       "      <th>1</th>\n",
       "      <td>0.501870</td>\n",
       "      <td>-0.572250</td>\n",
       "      <td>1.178112</td>\n",
       "      <td>-0.29313</td>\n",
       "      <td>-0.629896</td>\n",
       "      <td>0.477111</td>\n",
       "      <td>-0.819679</td>\n",
       "      <td>3.822419</td>\n",
       "      <td>-0.085000</td>\n",
       "      <td>0.306528</td>\n",
       "      <td>-0.059792</td>\n",
       "    </tr>\n",
       "    <tr>\n",
       "      <th>2</th>\n",
       "      <td>-0.061280</td>\n",
       "      <td>0.334828</td>\n",
       "      <td>0.097873</td>\n",
       "      <td>-0.29313</td>\n",
       "      <td>-0.288516</td>\n",
       "      <td>-0.299076</td>\n",
       "      <td>1.087023</td>\n",
       "      <td>-0.249895</td>\n",
       "      <td>0.920490</td>\n",
       "      <td>0.306528</td>\n",
       "      <td>0.627553</td>\n",
       "    </tr>\n",
       "    <tr>\n",
       "      <th>3</th>\n",
       "      <td>-0.436714</td>\n",
       "      <td>-0.572250</td>\n",
       "      <td>-0.494941</td>\n",
       "      <td>-0.29313</td>\n",
       "      <td>-0.047275</td>\n",
       "      <td>-0.671283</td>\n",
       "      <td>1.087023</td>\n",
       "      <td>-0.249895</td>\n",
       "      <td>0.799831</td>\n",
       "      <td>1.619961</td>\n",
       "      <td>0.785457</td>\n",
       "    </tr>\n",
       "    <tr>\n",
       "      <th>4</th>\n",
       "      <td>0.689587</td>\n",
       "      <td>1.387486</td>\n",
       "      <td>0.468931</td>\n",
       "      <td>-0.29313</td>\n",
       "      <td>-0.161068</td>\n",
       "      <td>0.211573</td>\n",
       "      <td>1.087023</td>\n",
       "      <td>-0.249895</td>\n",
       "      <td>0.880270</td>\n",
       "      <td>1.619961</td>\n",
       "      <td>1.686437</td>\n",
       "    </tr>\n",
       "  </tbody>\n",
       "</table>\n",
       "</div>"
      ],
      "text/plain": [
       "   LotFrontage  MasVnrArea  BsmtFinSF1  BsmtFinSF2  BsmtUnfSF  TotalBsmtSF  \\\n",
       "0    -0.202068    0.525202    0.580907    -0.29313  -0.934863    -0.444328   \n",
       "1     0.501870   -0.572250    1.178112    -0.29313  -0.629896     0.477111   \n",
       "2    -0.061280    0.334828    0.097873    -0.29313  -0.288516    -0.299076   \n",
       "3    -0.436714   -0.572250   -0.494941    -0.29313  -0.047275    -0.671283   \n",
       "4     0.689587    1.387486    0.468931    -0.29313  -0.161068     0.211573   \n",
       "\n",
       "   BsmtFullBath  BsmtHalfBath  GarageYrBlt  GarageCars  GarageArea  \n",
       "0      1.087023     -0.249895     1.000929    0.306528    0.348900  \n",
       "1     -0.819679      3.822419    -0.085000    0.306528   -0.059792  \n",
       "2      1.087023     -0.249895     0.920490    0.306528    0.627553  \n",
       "3      1.087023     -0.249895     0.799831    1.619961    0.785457  \n",
       "4      1.087023     -0.249895     0.880270    1.619961    1.686437  "
      ]
     },
     "execution_count": 119,
     "metadata": {},
     "output_type": "execute_result"
    }
   ],
   "source": [
    "#substitute NaN with mean\n",
    "imr=Imputer(missing_values='NaN', strategy='mean', axis=0)\n",
    "X_float=imr.fit_transform(X[float_feature])\n",
    "X_float=pd.DataFrame(X_float, columns=float_feature)\n",
    "#standardlize float feature data\n",
    "X_float=StandardScaler().fit_transform(X_float)\n",
    "X_float=pd.DataFrame(X_float, columns=float_feature)\n",
    "X_float.head()"
   ]
  },
  {
   "cell_type": "code",
   "execution_count": 120,
   "metadata": {
    "collapsed": false
   },
   "outputs": [
    {
     "data": {
      "text/plain": [
       "(2919, 49)"
      ]
     },
     "execution_count": 120,
     "metadata": {},
     "output_type": "execute_result"
    }
   ],
   "source": [
    "#combine the integer data and float data\n",
    "X_scale=X_scale.join(X_float)\n",
    "X_scale.shape"
   ]
  },
  {
   "cell_type": "code",
   "execution_count": 121,
   "metadata": {
    "collapsed": false
   },
   "outputs": [
    {
     "data": {
      "text/html": [
       "<div>\n",
       "<table border=\"1\" class=\"dataframe\">\n",
       "  <thead>\n",
       "    <tr style=\"text-align: right;\">\n",
       "      <th></th>\n",
       "      <th>LotArea</th>\n",
       "      <th>YearBuilt</th>\n",
       "      <th>YearRemodAdd</th>\n",
       "      <th>1stFlrSF</th>\n",
       "      <th>2ndFlrSF</th>\n",
       "      <th>LowQualFinSF</th>\n",
       "      <th>GrLivArea</th>\n",
       "      <th>WoodDeckSF</th>\n",
       "      <th>OpenPorchSF</th>\n",
       "      <th>EnclosedPorch</th>\n",
       "      <th>...</th>\n",
       "      <th>MasVnrArea</th>\n",
       "      <th>BsmtFinSF1</th>\n",
       "      <th>BsmtFinSF2</th>\n",
       "      <th>BsmtUnfSF</th>\n",
       "      <th>TotalBsmtSF</th>\n",
       "      <th>BsmtFullBath</th>\n",
       "      <th>BsmtHalfBath</th>\n",
       "      <th>GarageYrBlt</th>\n",
       "      <th>GarageCars</th>\n",
       "      <th>GarageArea</th>\n",
       "    </tr>\n",
       "  </thead>\n",
       "  <tbody>\n",
       "    <tr>\n",
       "      <th>0</th>\n",
       "      <td>-0.217879</td>\n",
       "      <td>-1.046258</td>\n",
       "      <td>-0.896833</td>\n",
       "      <td>-0.773861</td>\n",
       "      <td>1.207379</td>\n",
       "      <td>-0.101197</td>\n",
       "      <td>0.413547</td>\n",
       "      <td>-0.740760</td>\n",
       "      <td>0.200006</td>\n",
       "      <td>-0.359601</td>\n",
       "      <td>...</td>\n",
       "      <td>0.525202</td>\n",
       "      <td>0.580907</td>\n",
       "      <td>-0.29313</td>\n",
       "      <td>-0.934863</td>\n",
       "      <td>-0.444328</td>\n",
       "      <td>1.087023</td>\n",
       "      <td>-0.249895</td>\n",
       "      <td>1.000929</td>\n",
       "      <td>0.306528</td>\n",
       "      <td>0.348900</td>\n",
       "    </tr>\n",
       "    <tr>\n",
       "      <th>1</th>\n",
       "      <td>-0.072044</td>\n",
       "      <td>-0.154764</td>\n",
       "      <td>0.395604</td>\n",
       "      <td>0.261075</td>\n",
       "      <td>-0.785025</td>\n",
       "      <td>-0.101197</td>\n",
       "      <td>-0.471891</td>\n",
       "      <td>1.614879</td>\n",
       "      <td>-0.702843</td>\n",
       "      <td>-0.359601</td>\n",
       "      <td>...</td>\n",
       "      <td>-0.572250</td>\n",
       "      <td>1.178112</td>\n",
       "      <td>-0.29313</td>\n",
       "      <td>-0.629896</td>\n",
       "      <td>0.477111</td>\n",
       "      <td>-0.819679</td>\n",
       "      <td>3.822419</td>\n",
       "      <td>-0.085000</td>\n",
       "      <td>0.306528</td>\n",
       "      <td>-0.059792</td>\n",
       "    </tr>\n",
       "    <tr>\n",
       "      <th>2</th>\n",
       "      <td>0.137197</td>\n",
       "      <td>-0.980221</td>\n",
       "      <td>-0.848965</td>\n",
       "      <td>-0.610718</td>\n",
       "      <td>1.235375</td>\n",
       "      <td>-0.101197</td>\n",
       "      <td>0.563755</td>\n",
       "      <td>-0.740760</td>\n",
       "      <td>-0.081209</td>\n",
       "      <td>-0.359601</td>\n",
       "      <td>...</td>\n",
       "      <td>0.334828</td>\n",
       "      <td>0.097873</td>\n",
       "      <td>-0.29313</td>\n",
       "      <td>-0.288516</td>\n",
       "      <td>-0.299076</td>\n",
       "      <td>1.087023</td>\n",
       "      <td>-0.249895</td>\n",
       "      <td>0.920490</td>\n",
       "      <td>0.306528</td>\n",
       "      <td>0.627553</td>\n",
       "    </tr>\n",
       "    <tr>\n",
       "      <th>3</th>\n",
       "      <td>-0.078385</td>\n",
       "      <td>1.859351</td>\n",
       "      <td>0.682812</td>\n",
       "      <td>-0.506205</td>\n",
       "      <td>0.978742</td>\n",
       "      <td>-0.101197</td>\n",
       "      <td>0.427382</td>\n",
       "      <td>-0.740760</td>\n",
       "      <td>-0.184815</td>\n",
       "      <td>3.874967</td>\n",
       "      <td>...</td>\n",
       "      <td>-0.572250</td>\n",
       "      <td>-0.494941</td>\n",
       "      <td>-0.29313</td>\n",
       "      <td>-0.047275</td>\n",
       "      <td>-0.671283</td>\n",
       "      <td>1.087023</td>\n",
       "      <td>-0.249895</td>\n",
       "      <td>0.799831</td>\n",
       "      <td>1.619961</td>\n",
       "      <td>0.785457</td>\n",
       "    </tr>\n",
       "    <tr>\n",
       "      <th>4</th>\n",
       "      <td>0.518903</td>\n",
       "      <td>-0.947203</td>\n",
       "      <td>-0.753229</td>\n",
       "      <td>-0.037170</td>\n",
       "      <td>1.671651</td>\n",
       "      <td>-0.101197</td>\n",
       "      <td>1.378042</td>\n",
       "      <td>0.776967</td>\n",
       "      <td>0.540424</td>\n",
       "      <td>-0.359601</td>\n",
       "      <td>...</td>\n",
       "      <td>1.387486</td>\n",
       "      <td>0.468931</td>\n",
       "      <td>-0.29313</td>\n",
       "      <td>-0.161068</td>\n",
       "      <td>0.211573</td>\n",
       "      <td>1.087023</td>\n",
       "      <td>-0.249895</td>\n",
       "      <td>0.880270</td>\n",
       "      <td>1.619961</td>\n",
       "      <td>1.686437</td>\n",
       "    </tr>\n",
       "  </tbody>\n",
       "</table>\n",
       "<p>5 rows × 49 columns</p>\n",
       "</div>"
      ],
      "text/plain": [
       "    LotArea  YearBuilt  YearRemodAdd  1stFlrSF  2ndFlrSF  LowQualFinSF  \\\n",
       "0 -0.217879  -1.046258     -0.896833 -0.773861  1.207379     -0.101197   \n",
       "1 -0.072044  -0.154764      0.395604  0.261075 -0.785025     -0.101197   \n",
       "2  0.137197  -0.980221     -0.848965 -0.610718  1.235375     -0.101197   \n",
       "3 -0.078385   1.859351      0.682812 -0.506205  0.978742     -0.101197   \n",
       "4  0.518903  -0.947203     -0.753229 -0.037170  1.671651     -0.101197   \n",
       "\n",
       "   GrLivArea  WoodDeckSF  OpenPorchSF  EnclosedPorch     ...      MasVnrArea  \\\n",
       "0   0.413547   -0.740760     0.200006      -0.359601     ...        0.525202   \n",
       "1  -0.471891    1.614879    -0.702843      -0.359601     ...       -0.572250   \n",
       "2   0.563755   -0.740760    -0.081209      -0.359601     ...        0.334828   \n",
       "3   0.427382   -0.740760    -0.184815       3.874967     ...       -0.572250   \n",
       "4   1.378042    0.776967     0.540424      -0.359601     ...        1.387486   \n",
       "\n",
       "   BsmtFinSF1  BsmtFinSF2  BsmtUnfSF  TotalBsmtSF  BsmtFullBath  BsmtHalfBath  \\\n",
       "0    0.580907    -0.29313  -0.934863    -0.444328      1.087023     -0.249895   \n",
       "1    1.178112    -0.29313  -0.629896     0.477111     -0.819679      3.822419   \n",
       "2    0.097873    -0.29313  -0.288516    -0.299076      1.087023     -0.249895   \n",
       "3   -0.494941    -0.29313  -0.047275    -0.671283      1.087023     -0.249895   \n",
       "4    0.468931    -0.29313  -0.161068     0.211573      1.087023     -0.249895   \n",
       "\n",
       "   GarageYrBlt  GarageCars  GarageArea  \n",
       "0     1.000929    0.306528    0.348900  \n",
       "1    -0.085000    0.306528   -0.059792  \n",
       "2     0.920490    0.306528    0.627553  \n",
       "3     0.799831    1.619961    0.785457  \n",
       "4     0.880270    1.619961    1.686437  \n",
       "\n",
       "[5 rows x 49 columns]"
      ]
     },
     "execution_count": 121,
     "metadata": {},
     "output_type": "execute_result"
    }
   ],
   "source": [
    "X_scale.head()"
   ]
  },
  {
   "cell_type": "markdown",
   "metadata": {},
   "source": [
    "# Deal with string data"
   ]
  },
  {
   "cell_type": "code",
   "execution_count": 122,
   "metadata": {
    "collapsed": false
   },
   "outputs": [
    {
     "data": {
      "text/plain": [
       "MSZoning              RL\n",
       "Street              Pave\n",
       "Alley                NaN\n",
       "LotShape             Reg\n",
       "LandContour          Lvl\n",
       "Utilities         AllPub\n",
       "LotConfig            FR2\n",
       "LandSlope            Gtl\n",
       "Neighborhood     Veenker\n",
       "Condition1         Feedr\n",
       "Condition2          Norm\n",
       "BldgType            1Fam\n",
       "HouseStyle        1Story\n",
       "RoofStyle          Gable\n",
       "RoofMatl         CompShg\n",
       "Exterior1st      MetalSd\n",
       "Exterior2nd      MetalSd\n",
       "MasVnrType          None\n",
       "ExterQual             TA\n",
       "ExterCond             TA\n",
       "Foundation        CBlock\n",
       "BsmtQual              Gd\n",
       "BsmtCond              TA\n",
       "BsmtExposure          Gd\n",
       "BsmtFinType1         ALQ\n",
       "BsmtFinType2         Unf\n",
       "Heating             GasA\n",
       "HeatingQC             Ex\n",
       "CentralAir             Y\n",
       "Electrical         SBrkr\n",
       "KitchenQual           TA\n",
       "Functional           Typ\n",
       "FireplaceQu           TA\n",
       "GarageType        Attchd\n",
       "GarageFinish         RFn\n",
       "GarageQual            TA\n",
       "GarageCond            TA\n",
       "PavedDrive             Y\n",
       "PoolQC               NaN\n",
       "Fence                NaN\n",
       "MiscFeature          NaN\n",
       "SaleType              WD\n",
       "SaleCondition     Normal\n",
       "Name: 1, dtype: object"
      ]
     },
     "execution_count": 122,
     "metadata": {},
     "output_type": "execute_result"
    }
   ],
   "source": [
    "X[string_feature].iloc[1,:]"
   ]
  },
  {
   "cell_type": "code",
   "execution_count": 123,
   "metadata": {
    "collapsed": false
   },
   "outputs": [
    {
     "data": {
      "text/plain": [
       "17"
      ]
     },
     "execution_count": 123,
     "metadata": {},
     "output_type": "execute_result"
    }
   ],
   "source": [
    "non_ordial_feature=['MSZoning', 'Neighborhood', 'Condition1', 'Condition2', 'BldgType', \n",
    "                    'HouseStyle', 'RoofStyle', 'RoofMatl', 'Exterior1st', 'Exterior2nd',\n",
    "                   'MasVnrType', 'Foundation', 'Heating', 'MiscFeature', 'SaleType', 'SaleCondition', 'LandSlope']\n",
    "len(non_ordial_feature)\n"
   ]
  },
  {
   "cell_type": "code",
   "execution_count": 124,
   "metadata": {
    "collapsed": false
   },
   "outputs": [
    {
     "data": {
      "text/plain": [
       "26"
      ]
     },
     "execution_count": 124,
     "metadata": {},
     "output_type": "execute_result"
    }
   ],
   "source": [
    "ordial_feature=['ExterQual', 'ExterCond', 'BsmtQual', 'BsmtCond',\n",
    "                 'BsmtExposure', 'BsmtFinType1', 'BsmtFinType2',\n",
    "                 'HeatingQC', 'CentralAir', 'Electrical', 'KitchenQual',\n",
    "                 'Functional', 'FireplaceQu', 'GarageType','GarageFinish',\n",
    "                 'GarageQual','GarageCond', 'PavedDrive', 'PoolQC',\n",
    "                 'Fence', 'Street', 'Alley', 'LotShape', 'LandContour',\n",
    "               'Utilities', 'LotConfig']\n",
    "len(ordial_feature)"
   ]
  },
  {
   "cell_type": "code",
   "execution_count": 125,
   "metadata": {
    "collapsed": false
   },
   "outputs": [
    {
     "data": {
      "text/plain": [
       "43"
      ]
     },
     "execution_count": 125,
     "metadata": {},
     "output_type": "execute_result"
    }
   ],
   "source": [
    "len(string_feature)"
   ]
  },
  {
   "cell_type": "code",
   "execution_count": 126,
   "metadata": {
    "collapsed": false
   },
   "outputs": [
    {
     "name": "stdout",
     "output_type": "stream",
     "text": [
      "{'YrSold', 'Id', 'MoSold'}\n",
      "set()\n"
     ]
    }
   ],
   "source": [
    "#make sure we don't have any missing or duplicate features\n",
    "non_ordial_set=set(non_ordial_feature)\n",
    "ordial_set=set(ordial_feature)\n",
    "int_set=set(int_feature)\n",
    "float_set=set(float_feature)\n",
    "int_set.intersection(float_set)\n",
    "\n",
    "number_set=int_set.union(float_set)\n",
    "str_set=non_ordial_set.union(ordial_set)\n",
    "number_set.intersection(str_set)\n",
    "com=number_set.union(str_set)\n",
    "\n",
    "all_set=set(X.columns.values)\n",
    "print(all_set.difference(com))\n",
    "print(com.difference(all_set))"
   ]
  },
  {
   "cell_type": "code",
   "execution_count": 127,
   "metadata": {
    "collapsed": false
   },
   "outputs": [],
   "source": [
    "from sklearn.base import TransformerMixin\n",
    "\n",
    "class DataFrameImputer(TransformerMixin):\n",
    "\n",
    "    def __init__(self):\n",
    "        \"\"\"Impute missing values.\n",
    "\n",
    "        Columns of dtype object are imputed with the most frequent value \n",
    "        in column.\n",
    "\n",
    "        Columns of other types are imputed with mean of column.\n",
    "\n",
    "        \"\"\"\n",
    "    def fit(self, X, y=None):\n",
    "\n",
    "        self.fill = pd.Series([X[c].value_counts().index[0]\n",
    "            if X[c].dtype == np.dtype('O') else X[c].mean() for c in X],\n",
    "            index=X.columns)\n",
    "\n",
    "        return self\n",
    "\n",
    "    def transform(self, X, y=None):\n",
    "        return X.fillna(self.fill)"
   ]
  },
  {
   "cell_type": "code",
   "execution_count": 128,
   "metadata": {
    "collapsed": false
   },
   "outputs": [
    {
     "data": {
      "text/plain": [
       "MSZoning              RL\n",
       "Neighborhood     NridgHt\n",
       "Condition1          Norm\n",
       "Condition2          Norm\n",
       "BldgType            1Fam\n",
       "HouseStyle        2Story\n",
       "RoofStyle            Hip\n",
       "RoofMatl         CompShg\n",
       "Exterior1st      VinylSd\n",
       "Exterior2nd      VinylSd\n",
       "MasVnrType         Stone\n",
       "Foundation         PConc\n",
       "Heating             GasA\n",
       "MiscFeature         Shed\n",
       "SaleType             New\n",
       "SaleCondition    Partial\n",
       "LandSlope            Gtl\n",
       "Name: 840, dtype: object"
      ]
     },
     "execution_count": 128,
     "metadata": {},
     "output_type": "execute_result"
    }
   ],
   "source": [
    "#substitute NaN with most frequent\n",
    "X_non_ordial=DataFrameImputer().fit_transform(X[non_ordial_feature])\n",
    "X_non_ordial.iloc[2300,:]"
   ]
  },
  {
   "cell_type": "code",
   "execution_count": 129,
   "metadata": {
    "collapsed": false
   },
   "outputs": [
    {
     "data": {
      "text/plain": [
       "(2919, 17)"
      ]
     },
     "execution_count": 129,
     "metadata": {},
     "output_type": "execute_result"
    }
   ],
   "source": [
    "X_non_ordial.shape"
   ]
  },
  {
   "cell_type": "markdown",
   "metadata": {},
   "source": [
    "# Label non_ordial features"
   ]
  },
  {
   "cell_type": "code",
   "execution_count": 130,
   "metadata": {
    "collapsed": false
   },
   "outputs": [
    {
     "data": {
      "text/html": [
       "<div>\n",
       "<table border=\"1\" class=\"dataframe\">\n",
       "  <thead>\n",
       "    <tr style=\"text-align: right;\">\n",
       "      <th></th>\n",
       "      <th>MSZoning</th>\n",
       "      <th>Neighborhood</th>\n",
       "      <th>Condition1</th>\n",
       "      <th>Condition2</th>\n",
       "      <th>BldgType</th>\n",
       "      <th>HouseStyle</th>\n",
       "      <th>RoofStyle</th>\n",
       "      <th>RoofMatl</th>\n",
       "      <th>Exterior1st</th>\n",
       "      <th>Exterior2nd</th>\n",
       "      <th>MasVnrType</th>\n",
       "      <th>Foundation</th>\n",
       "      <th>Heating</th>\n",
       "      <th>MiscFeature</th>\n",
       "      <th>SaleType</th>\n",
       "      <th>SaleCondition</th>\n",
       "      <th>LandSlope</th>\n",
       "    </tr>\n",
       "  </thead>\n",
       "  <tbody>\n",
       "    <tr>\n",
       "      <th>0</th>\n",
       "      <td>-0.042157</td>\n",
       "      <td>-1.248476</td>\n",
       "      <td>-0.046258</td>\n",
       "      <td>-0.009816</td>\n",
       "      <td>-0.419174</td>\n",
       "      <td>1.031721</td>\n",
       "      <td>-0.482926</td>\n",
       "      <td>-0.116923</td>\n",
       "      <td>0.742788</td>\n",
       "      <td>0.750334</td>\n",
       "      <td>-1.267151</td>\n",
       "      <td>0.834618</td>\n",
       "      <td>-0.103206</td>\n",
       "      <td>0.048179</td>\n",
       "      <td>0.319311</td>\n",
       "      <td>0.204967</td>\n",
       "      <td>-0.21626</td>\n",
       "    </tr>\n",
       "    <tr>\n",
       "      <th>1</th>\n",
       "      <td>-0.042157</td>\n",
       "      <td>1.941064</td>\n",
       "      <td>-1.190557</td>\n",
       "      <td>-0.009816</td>\n",
       "      <td>-0.419174</td>\n",
       "      <td>-0.536817</td>\n",
       "      <td>-0.482926</td>\n",
       "      <td>-0.116923</td>\n",
       "      <td>-0.507795</td>\n",
       "      <td>-0.657990</td>\n",
       "      <td>0.384843</td>\n",
       "      <td>-0.541017</td>\n",
       "      <td>-0.103206</td>\n",
       "      <td>0.048179</td>\n",
       "      <td>0.319311</td>\n",
       "      <td>0.204967</td>\n",
       "      <td>-0.21626</td>\n",
       "    </tr>\n",
       "    <tr>\n",
       "      <th>2</th>\n",
       "      <td>-0.042157</td>\n",
       "      <td>-1.248476</td>\n",
       "      <td>-0.046258</td>\n",
       "      <td>-0.009816</td>\n",
       "      <td>-0.419174</td>\n",
       "      <td>1.031721</td>\n",
       "      <td>-0.482926</td>\n",
       "      <td>-0.116923</td>\n",
       "      <td>0.742788</td>\n",
       "      <td>0.750334</td>\n",
       "      <td>-1.267151</td>\n",
       "      <td>0.834618</td>\n",
       "      <td>-0.103206</td>\n",
       "      <td>0.048179</td>\n",
       "      <td>0.319311</td>\n",
       "      <td>0.204967</td>\n",
       "      <td>-0.21626</td>\n",
       "    </tr>\n",
       "    <tr>\n",
       "      <th>3</th>\n",
       "      <td>-0.042157</td>\n",
       "      <td>-1.080605</td>\n",
       "      <td>-0.046258</td>\n",
       "      <td>-0.009816</td>\n",
       "      <td>-0.419174</td>\n",
       "      <td>1.031721</td>\n",
       "      <td>-0.482926</td>\n",
       "      <td>-0.116923</td>\n",
       "      <td>1.055433</td>\n",
       "      <td>1.313664</td>\n",
       "      <td>0.384843</td>\n",
       "      <td>-1.916652</td>\n",
       "      <td>-0.103206</td>\n",
       "      <td>0.048179</td>\n",
       "      <td>0.319311</td>\n",
       "      <td>-3.505415</td>\n",
       "      <td>-0.21626</td>\n",
       "    </tr>\n",
       "    <tr>\n",
       "      <th>4</th>\n",
       "      <td>-0.042157</td>\n",
       "      <td>0.430229</td>\n",
       "      <td>-0.046258</td>\n",
       "      <td>-0.009816</td>\n",
       "      <td>-0.419174</td>\n",
       "      <td>1.031721</td>\n",
       "      <td>-0.482926</td>\n",
       "      <td>-0.116923</td>\n",
       "      <td>0.742788</td>\n",
       "      <td>0.750334</td>\n",
       "      <td>-1.267151</td>\n",
       "      <td>0.834618</td>\n",
       "      <td>-0.103206</td>\n",
       "      <td>0.048179</td>\n",
       "      <td>0.319311</td>\n",
       "      <td>0.204967</td>\n",
       "      <td>-0.21626</td>\n",
       "    </tr>\n",
       "  </tbody>\n",
       "</table>\n",
       "</div>"
      ],
      "text/plain": [
       "   MSZoning  Neighborhood  Condition1  Condition2  BldgType  HouseStyle  \\\n",
       "0 -0.042157     -1.248476   -0.046258   -0.009816 -0.419174    1.031721   \n",
       "1 -0.042157      1.941064   -1.190557   -0.009816 -0.419174   -0.536817   \n",
       "2 -0.042157     -1.248476   -0.046258   -0.009816 -0.419174    1.031721   \n",
       "3 -0.042157     -1.080605   -0.046258   -0.009816 -0.419174    1.031721   \n",
       "4 -0.042157      0.430229   -0.046258   -0.009816 -0.419174    1.031721   \n",
       "\n",
       "   RoofStyle  RoofMatl  Exterior1st  Exterior2nd  MasVnrType  Foundation  \\\n",
       "0  -0.482926 -0.116923     0.742788     0.750334   -1.267151    0.834618   \n",
       "1  -0.482926 -0.116923    -0.507795    -0.657990    0.384843   -0.541017   \n",
       "2  -0.482926 -0.116923     0.742788     0.750334   -1.267151    0.834618   \n",
       "3  -0.482926 -0.116923     1.055433     1.313664    0.384843   -1.916652   \n",
       "4  -0.482926 -0.116923     0.742788     0.750334   -1.267151    0.834618   \n",
       "\n",
       "    Heating  MiscFeature  SaleType  SaleCondition  LandSlope  \n",
       "0 -0.103206     0.048179  0.319311       0.204967   -0.21626  \n",
       "1 -0.103206     0.048179  0.319311       0.204967   -0.21626  \n",
       "2 -0.103206     0.048179  0.319311       0.204967   -0.21626  \n",
       "3 -0.103206     0.048179  0.319311      -3.505415   -0.21626  \n",
       "4 -0.103206     0.048179  0.319311       0.204967   -0.21626  "
      ]
     },
     "execution_count": 130,
     "metadata": {},
     "output_type": "execute_result"
    }
   ],
   "source": [
    "class_mapping_1=[]\n",
    "for f in non_ordial_feature:\n",
    "    mapping={label: idx for idx, label in enumerate(np.unique(X_non_ordial[f]))}\n",
    "    class_mapping_1.append(mapping)\n",
    "class_mapping_1\n",
    "\n",
    "for i, f in enumerate(non_ordial_feature):\n",
    "    X_non_ordial[f]=X_non_ordial[f].map(class_mapping_1[i])\n",
    "X_non_ordial.head()\n",
    "    \n",
    "#normalize the data\n",
    "X_non_ordial=StandardScaler().fit_transform(X_non_ordial)\n",
    "X_non_ordial=pd.DataFrame(X_non_ordial, columns=non_ordial_feature)\n",
    "X_non_ordial.head()"
   ]
  },
  {
   "cell_type": "code",
   "execution_count": 131,
   "metadata": {
    "collapsed": false
   },
   "outputs": [
    {
     "data": {
      "text/plain": [
       "(2919, 66)"
      ]
     },
     "execution_count": 131,
     "metadata": {},
     "output_type": "execute_result"
    }
   ],
   "source": [
    "X_scale=X_scale.join(X_non_ordial)\n",
    "X_scale.shape"
   ]
  },
  {
   "cell_type": "markdown",
   "metadata": {},
   "source": [
    "# Label ordial features "
   ]
  },
  {
   "cell_type": "code",
   "execution_count": 132,
   "metadata": {
    "collapsed": false
   },
   "outputs": [
    {
     "data": {
      "text/plain": [
       "{'Alley': ['Grvl', 'Pave'],\n",
       " 'BsmtCond': ['TA', 'Gd', 'Fa', 'Po'],\n",
       " 'BsmtExposure': ['No', 'Gd', 'Mn', 'Av'],\n",
       " 'BsmtFinType1': ['GLQ', 'ALQ', 'Unf', 'Rec', 'BLQ', 'LwQ'],\n",
       " 'BsmtFinType2': ['Unf', 'BLQ', 'ALQ', 'Rec', 'LwQ', 'GLQ'],\n",
       " 'BsmtQual': ['Gd', 'TA', 'Ex', 'Fa'],\n",
       " 'CentralAir': ['Y', 'N'],\n",
       " 'Electrical': ['SBrkr', 'FuseF', 'FuseA', 'FuseP', 'Mix'],\n",
       " 'ExterCond': ['TA', 'Gd', 'Fa', 'Po', 'Ex'],\n",
       " 'ExterQual': ['Gd', 'TA', 'Ex', 'Fa'],\n",
       " 'Fence': ['MnPrv', 'GdWo', 'GdPrv', 'MnWw'],\n",
       " 'FireplaceQu': ['Gd', 'TA', 'Fa', 'Ex', 'Po'],\n",
       " 'Functional': ['Typ', 'Min1', 'Maj1', 'Min2', 'Mod', 'Maj2', 'Sev'],\n",
       " 'GarageCond': ['TA', 'Fa', 'Gd', 'Po', 'Ex'],\n",
       " 'GarageFinish': ['RFn', 'Unf', 'Fin'],\n",
       " 'GarageQual': ['TA', 'Fa', 'Gd', 'Ex', 'Po'],\n",
       " 'GarageType': ['Attchd', 'Detchd', 'BuiltIn', 'CarPort', 'Basment', '2Types'],\n",
       " 'HeatingQC': ['Ex', 'Gd', 'TA', 'Fa', 'Po'],\n",
       " 'KitchenQual': ['Gd', 'TA', 'Ex', 'Fa'],\n",
       " 'LandContour': ['Lvl', 'Bnk', 'Low', 'HLS'],\n",
       " 'LotConfig': ['Inside', 'FR2', 'Corner', 'CulDSac', 'FR3'],\n",
       " 'LotShape': ['Reg', 'IR1', 'IR2', 'IR3'],\n",
       " 'PavedDrive': ['Y', 'N', 'P'],\n",
       " 'PoolQC': ['Gd', 'Ex', 'Fa'],\n",
       " 'Street': ['Pave', 'Grvl'],\n",
       " 'Utilities': ['AllPub', 'NoSeWa']}"
      ]
     },
     "execution_count": 132,
     "metadata": {},
     "output_type": "execute_result"
    }
   ],
   "source": [
    "X_ordial=DataFrameImputer().fit_transform(X[ordial_feature])\n",
    "ordial_values_1={}\n",
    "\n",
    "for f in ordial_feature:\n",
    "    ordial_values_1[f]=list(X_ordial[f].unique())\n",
    "ordial_values_1"
   ]
  },
  {
   "cell_type": "code",
   "execution_count": 133,
   "metadata": {
    "collapsed": false
   },
   "outputs": [],
   "source": [
    "ordial_values={}\n",
    "ordial_values['Alley']=['Grvl','Pave']\n",
    "ordial_values['BsmtCond']=['Po', 'Fa', 'TA', 'Gd', 'Ex']\n",
    "ordial_values['BsmtExposure']=['No', 'Mn', 'Av', 'Gd']\n",
    "ordial_values['BsmtFinType1']=['Unf', 'LwQ', 'Rec', 'BLQ',\n",
    "                              'ALQ', 'GLQ']\n",
    "ordial_values['BsmtFinType2']=['Unf', 'LwQ', 'Rec', 'BLQ',\n",
    "                              'ALQ', 'GLQ']\n",
    "ordial_values['BsmtQual']=['Fa', 'TA', 'Gd', 'Ex']\n",
    "ordial_values['BsmtCond']=['Po', 'Fa', 'TA', 'Gd', 'Ex']\n",
    "ordial_values['CentralAir']=['N', 'Y']\n",
    "ordial_values['Electrical']=['Mix', 'FuseP', 'FuseF', 'FuseA',\n",
    "                            'SBrkr']\n",
    "ordial_values['ExterCond']=['Po', 'Fa', 'TA', 'Gd', 'Ex']\n",
    "ordial_values['ExterQual']=['Fa', 'TA', 'Gd', 'Ex']\n",
    "ordial_values['Fence']=['MnWw', 'GdWo', 'MnPrv', 'GdPrv']\n",
    "ordial_values['FireplaceQu']=['Po', 'Fa', 'TA', 'Gd', 'Ex']\n",
    "ordial_values['Functional']=['Sev', 'Maj2', 'Maj1', 'Mod',\n",
    "                            'Min2', 'Min1', 'Typ']\n",
    "ordial_values['GarageCond']=['Po', 'Fa', 'TA', 'Gd', 'Ex']\n",
    "ordial_values['GarageFinish']=['Unf', 'RFn', 'Fin']\n",
    "ordial_values['GarageQual']=['Po', 'Fa', 'TA', 'Gd', 'Ex']\n",
    "ordial_values['GarageType']=['Detchd','CarPort', 'BuiltIn',\n",
    "                            'Basment', 'Attchd', '2Types']\n",
    "ordial_values['HeatingQC']=['Po', 'Fa', 'TA', 'Gd', 'Ex']\n",
    "ordial_values['KitchenQual']=['Fa', 'TA', 'Gd', 'Ex']\n",
    "ordial_values['LandContour']=['Low', 'HLS', 'Bnk','Lvl']\n",
    "ordial_values['LotConfig']=['FR3', 'FR2', 'CulDSac','Corner',\n",
    "                           'Inside']\n",
    "ordial_values['LotShape']=['IR3', 'IR2', 'IR1', 'Reg']\n",
    "ordial_values['PavedDrive']=['N', 'P', 'Y']\n",
    "ordial_values['PoolQC']=['Fa', 'Gd', 'Ex']\n",
    "ordial_values['Street']=['Grvl', 'Pave']\n",
    "ordial_values['Utilities']=['NoSeWa', 'AllPub']\n",
    "\n",
    "#ordial mapping\n",
    "ordial_mapping={}\n",
    "for f in ordial_feature:\n",
    "    mapping={}\n",
    "    grades=ordial_values[f]\n",
    "    n=len(ordial_values[f])\n",
    "    \n",
    "    for i in range(n):\n",
    "        mapping[grades[i]]=i\n",
    "    \n",
    "    ordial_mapping[f]=mapping"
   ]
  },
  {
   "cell_type": "code",
   "execution_count": 134,
   "metadata": {
    "collapsed": false
   },
   "outputs": [],
   "source": [
    "#map the ordial string features to numbers\n",
    "for f in ordial_feature:\n",
    "    X_ordial[f]=X_ordial[f].map(ordial_mapping[f])"
   ]
  },
  {
   "cell_type": "code",
   "execution_count": 135,
   "metadata": {
    "collapsed": false
   },
   "outputs": [
    {
     "data": {
      "text/html": [
       "<div>\n",
       "<table border=\"1\" class=\"dataframe\">\n",
       "  <thead>\n",
       "    <tr style=\"text-align: right;\">\n",
       "      <th></th>\n",
       "      <th>ExterQual</th>\n",
       "      <th>ExterCond</th>\n",
       "      <th>BsmtQual</th>\n",
       "      <th>BsmtCond</th>\n",
       "      <th>BsmtExposure</th>\n",
       "      <th>BsmtFinType1</th>\n",
       "      <th>BsmtFinType2</th>\n",
       "      <th>HeatingQC</th>\n",
       "      <th>CentralAir</th>\n",
       "      <th>Electrical</th>\n",
       "      <th>...</th>\n",
       "      <th>GarageCond</th>\n",
       "      <th>PavedDrive</th>\n",
       "      <th>PoolQC</th>\n",
       "      <th>Fence</th>\n",
       "      <th>Street</th>\n",
       "      <th>Alley</th>\n",
       "      <th>LotShape</th>\n",
       "      <th>LandContour</th>\n",
       "      <th>Utilities</th>\n",
       "      <th>LotConfig</th>\n",
       "    </tr>\n",
       "  </thead>\n",
       "  <tbody>\n",
       "    <tr>\n",
       "      <th>0</th>\n",
       "      <td>1.039805</td>\n",
       "      <td>-0.230047</td>\n",
       "      <td>0.631705</td>\n",
       "      <td>-0.009441</td>\n",
       "      <td>-0.627142</td>\n",
       "      <td>1.172283</td>\n",
       "      <td>-0.323051</td>\n",
       "      <td>0.885619</td>\n",
       "      <td>0.26829</td>\n",
       "      <td>0.278267</td>\n",
       "      <td>...</td>\n",
       "      <td>0.120517</td>\n",
       "      <td>0.31503</td>\n",
       "      <td>-0.015114</td>\n",
       "      <td>0.019986</td>\n",
       "      <td>0.064249</td>\n",
       "      <td>-0.165696</td>\n",
       "      <td>0.701900</td>\n",
       "      <td>0.308471</td>\n",
       "      <td>0.018512</td>\n",
       "      <td>0.522154</td>\n",
       "    </tr>\n",
       "    <tr>\n",
       "      <th>1</th>\n",
       "      <td>-0.683756</td>\n",
       "      <td>-0.230047</td>\n",
       "      <td>0.631705</td>\n",
       "      <td>-0.009441</td>\n",
       "      <td>2.258765</td>\n",
       "      <td>0.690122</td>\n",
       "      <td>-0.323051</td>\n",
       "      <td>0.885619</td>\n",
       "      <td>0.26829</td>\n",
       "      <td>0.278267</td>\n",
       "      <td>...</td>\n",
       "      <td>0.120517</td>\n",
       "      <td>0.31503</td>\n",
       "      <td>-0.015114</td>\n",
       "      <td>0.019986</td>\n",
       "      <td>0.064249</td>\n",
       "      <td>-0.165696</td>\n",
       "      <td>0.701900</td>\n",
       "      <td>0.308471</td>\n",
       "      <td>0.018512</td>\n",
       "      <td>-3.372655</td>\n",
       "    </tr>\n",
       "    <tr>\n",
       "      <th>2</th>\n",
       "      <td>1.039805</td>\n",
       "      <td>-0.230047</td>\n",
       "      <td>0.631705</td>\n",
       "      <td>-0.009441</td>\n",
       "      <td>0.334827</td>\n",
       "      <td>1.172283</td>\n",
       "      <td>-0.323051</td>\n",
       "      <td>0.885619</td>\n",
       "      <td>0.26829</td>\n",
       "      <td>0.278267</td>\n",
       "      <td>...</td>\n",
       "      <td>0.120517</td>\n",
       "      <td>0.31503</td>\n",
       "      <td>-0.015114</td>\n",
       "      <td>0.019986</td>\n",
       "      <td>0.064249</td>\n",
       "      <td>-0.165696</td>\n",
       "      <td>-1.052249</td>\n",
       "      <td>0.308471</td>\n",
       "      <td>0.018512</td>\n",
       "      <td>0.522154</td>\n",
       "    </tr>\n",
       "    <tr>\n",
       "      <th>3</th>\n",
       "      <td>-0.683756</td>\n",
       "      <td>-0.230047</td>\n",
       "      <td>-0.806631</td>\n",
       "      <td>3.435397</td>\n",
       "      <td>-0.627142</td>\n",
       "      <td>0.690122</td>\n",
       "      <td>-0.323051</td>\n",
       "      <td>-0.158453</td>\n",
       "      <td>0.26829</td>\n",
       "      <td>0.278267</td>\n",
       "      <td>...</td>\n",
       "      <td>0.120517</td>\n",
       "      <td>0.31503</td>\n",
       "      <td>-0.015114</td>\n",
       "      <td>0.019986</td>\n",
       "      <td>0.064249</td>\n",
       "      <td>-0.165696</td>\n",
       "      <td>-1.052249</td>\n",
       "      <td>0.308471</td>\n",
       "      <td>0.018512</td>\n",
       "      <td>-0.776115</td>\n",
       "    </tr>\n",
       "    <tr>\n",
       "      <th>4</th>\n",
       "      <td>1.039805</td>\n",
       "      <td>-0.230047</td>\n",
       "      <td>0.631705</td>\n",
       "      <td>-0.009441</td>\n",
       "      <td>1.296796</td>\n",
       "      <td>1.172283</td>\n",
       "      <td>-0.323051</td>\n",
       "      <td>0.885619</td>\n",
       "      <td>0.26829</td>\n",
       "      <td>0.278267</td>\n",
       "      <td>...</td>\n",
       "      <td>0.120517</td>\n",
       "      <td>0.31503</td>\n",
       "      <td>-0.015114</td>\n",
       "      <td>0.019986</td>\n",
       "      <td>0.064249</td>\n",
       "      <td>-0.165696</td>\n",
       "      <td>-1.052249</td>\n",
       "      <td>0.308471</td>\n",
       "      <td>0.018512</td>\n",
       "      <td>-3.372655</td>\n",
       "    </tr>\n",
       "  </tbody>\n",
       "</table>\n",
       "<p>5 rows × 26 columns</p>\n",
       "</div>"
      ],
      "text/plain": [
       "   ExterQual  ExterCond  BsmtQual  BsmtCond  BsmtExposure  BsmtFinType1  \\\n",
       "0   1.039805  -0.230047  0.631705 -0.009441     -0.627142      1.172283   \n",
       "1  -0.683756  -0.230047  0.631705 -0.009441      2.258765      0.690122   \n",
       "2   1.039805  -0.230047  0.631705 -0.009441      0.334827      1.172283   \n",
       "3  -0.683756  -0.230047 -0.806631  3.435397     -0.627142      0.690122   \n",
       "4   1.039805  -0.230047  0.631705 -0.009441      1.296796      1.172283   \n",
       "\n",
       "   BsmtFinType2  HeatingQC  CentralAir  Electrical    ...      GarageCond  \\\n",
       "0     -0.323051   0.885619     0.26829    0.278267    ...        0.120517   \n",
       "1     -0.323051   0.885619     0.26829    0.278267    ...        0.120517   \n",
       "2     -0.323051   0.885619     0.26829    0.278267    ...        0.120517   \n",
       "3     -0.323051  -0.158453     0.26829    0.278267    ...        0.120517   \n",
       "4     -0.323051   0.885619     0.26829    0.278267    ...        0.120517   \n",
       "\n",
       "   PavedDrive    PoolQC     Fence    Street     Alley  LotShape  LandContour  \\\n",
       "0     0.31503 -0.015114  0.019986  0.064249 -0.165696  0.701900     0.308471   \n",
       "1     0.31503 -0.015114  0.019986  0.064249 -0.165696  0.701900     0.308471   \n",
       "2     0.31503 -0.015114  0.019986  0.064249 -0.165696 -1.052249     0.308471   \n",
       "3     0.31503 -0.015114  0.019986  0.064249 -0.165696 -1.052249     0.308471   \n",
       "4     0.31503 -0.015114  0.019986  0.064249 -0.165696 -1.052249     0.308471   \n",
       "\n",
       "   Utilities  LotConfig  \n",
       "0   0.018512   0.522154  \n",
       "1   0.018512  -3.372655  \n",
       "2   0.018512   0.522154  \n",
       "3   0.018512  -0.776115  \n",
       "4   0.018512  -3.372655  \n",
       "\n",
       "[5 rows x 26 columns]"
      ]
     },
     "execution_count": 135,
     "metadata": {},
     "output_type": "execute_result"
    }
   ],
   "source": [
    "#standarize the number\n",
    "X_ordial=StandardScaler().fit_transform(X_ordial)\n",
    "X_ordial=pd.DataFrame(X_ordial, columns=ordial_feature)\n",
    "X_ordial.head()"
   ]
  },
  {
   "cell_type": "code",
   "execution_count": 136,
   "metadata": {
    "collapsed": false
   },
   "outputs": [
    {
     "data": {
      "text/plain": [
       "(2919, 92)"
      ]
     },
     "execution_count": 136,
     "metadata": {},
     "output_type": "execute_result"
    }
   ],
   "source": [
    "X_scale=X_scale.join(X_ordial)\n",
    "X_scale.shape"
   ]
  },
  {
   "cell_type": "markdown",
   "metadata": {},
   "source": [
    "# Seperate training and test"
   ]
  },
  {
   "cell_type": "code",
   "execution_count": 137,
   "metadata": {
    "collapsed": false
   },
   "outputs": [],
   "source": [
    "X_new=X_scale.iloc[0:1460,:]\n",
    "real_test_new=X_scale.iloc[1460:2920, :]"
   ]
  },
  {
   "cell_type": "code",
   "execution_count": 138,
   "metadata": {
    "collapsed": false
   },
   "outputs": [
    {
     "data": {
      "text/html": [
       "<div>\n",
       "<table border=\"1\" class=\"dataframe\">\n",
       "  <thead>\n",
       "    <tr style=\"text-align: right;\">\n",
       "      <th></th>\n",
       "      <th>LotArea</th>\n",
       "      <th>YearBuilt</th>\n",
       "      <th>YearRemodAdd</th>\n",
       "      <th>1stFlrSF</th>\n",
       "      <th>2ndFlrSF</th>\n",
       "      <th>LowQualFinSF</th>\n",
       "      <th>GrLivArea</th>\n",
       "      <th>WoodDeckSF</th>\n",
       "      <th>OpenPorchSF</th>\n",
       "      <th>EnclosedPorch</th>\n",
       "      <th>...</th>\n",
       "      <th>GarageCond</th>\n",
       "      <th>PavedDrive</th>\n",
       "      <th>PoolQC</th>\n",
       "      <th>Fence</th>\n",
       "      <th>Street</th>\n",
       "      <th>Alley</th>\n",
       "      <th>LotShape</th>\n",
       "      <th>LandContour</th>\n",
       "      <th>Utilities</th>\n",
       "      <th>LotConfig</th>\n",
       "    </tr>\n",
       "  </thead>\n",
       "  <tbody>\n",
       "    <tr>\n",
       "      <th>884</th>\n",
       "      <td>-0.382735</td>\n",
       "      <td>0.142401</td>\n",
       "      <td>0.826417</td>\n",
       "      <td>-0.682093</td>\n",
       "      <td>-0.785025</td>\n",
       "      <td>-0.101197</td>\n",
       "      <td>-1.203167</td>\n",
       "      <td>-0.740760</td>\n",
       "      <td>-0.702843</td>\n",
       "      <td>-0.359601</td>\n",
       "      <td>...</td>\n",
       "      <td>0.120517</td>\n",
       "      <td>0.31503</td>\n",
       "      <td>-0.015114</td>\n",
       "      <td>-3.221032</td>\n",
       "      <td>0.064249</td>\n",
       "      <td>-0.165696</td>\n",
       "      <td>0.701900</td>\n",
       "      <td>0.308471</td>\n",
       "      <td>0.018512</td>\n",
       "      <td>0.522154</td>\n",
       "    </tr>\n",
       "    <tr>\n",
       "      <th>641</th>\n",
       "      <td>-0.395416</td>\n",
       "      <td>-0.980221</td>\n",
       "      <td>-0.801097</td>\n",
       "      <td>-0.261491</td>\n",
       "      <td>1.249373</td>\n",
       "      <td>-0.101197</td>\n",
       "      <td>0.846384</td>\n",
       "      <td>-0.740760</td>\n",
       "      <td>2.775345</td>\n",
       "      <td>-0.359601</td>\n",
       "      <td>...</td>\n",
       "      <td>0.120517</td>\n",
       "      <td>0.31503</td>\n",
       "      <td>-0.015114</td>\n",
       "      <td>0.019986</td>\n",
       "      <td>0.064249</td>\n",
       "      <td>-0.165696</td>\n",
       "      <td>0.701900</td>\n",
       "      <td>0.308471</td>\n",
       "      <td>0.018512</td>\n",
       "      <td>0.522154</td>\n",
       "    </tr>\n",
       "    <tr>\n",
       "      <th>1357</th>\n",
       "      <td>0.300405</td>\n",
       "      <td>0.010327</td>\n",
       "      <td>-1.136173</td>\n",
       "      <td>-0.207960</td>\n",
       "      <td>-0.785025</td>\n",
       "      <td>-0.101197</td>\n",
       "      <td>-0.835553</td>\n",
       "      <td>-0.740760</td>\n",
       "      <td>-0.702843</td>\n",
       "      <td>-0.359601</td>\n",
       "      <td>...</td>\n",
       "      <td>0.120517</td>\n",
       "      <td>0.31503</td>\n",
       "      <td>-0.015114</td>\n",
       "      <td>0.019986</td>\n",
       "      <td>0.064249</td>\n",
       "      <td>-0.165696</td>\n",
       "      <td>-1.052249</td>\n",
       "      <td>0.308471</td>\n",
       "      <td>0.018512</td>\n",
       "      <td>-2.074385</td>\n",
       "    </tr>\n",
       "    <tr>\n",
       "      <th>469</th>\n",
       "      <td>-0.111229</td>\n",
       "      <td>-0.716075</td>\n",
       "      <td>-0.418153</td>\n",
       "      <td>-0.835039</td>\n",
       "      <td>1.263371</td>\n",
       "      <td>-0.101197</td>\n",
       "      <td>0.413547</td>\n",
       "      <td>0.397535</td>\n",
       "      <td>0.333213</td>\n",
       "      <td>-0.359601</td>\n",
       "      <td>...</td>\n",
       "      <td>0.120517</td>\n",
       "      <td>0.31503</td>\n",
       "      <td>-0.015114</td>\n",
       "      <td>0.019986</td>\n",
       "      <td>0.064249</td>\n",
       "      <td>-0.165696</td>\n",
       "      <td>-1.052249</td>\n",
       "      <td>0.308471</td>\n",
       "      <td>0.018512</td>\n",
       "      <td>-0.776115</td>\n",
       "    </tr>\n",
       "    <tr>\n",
       "      <th>222</th>\n",
       "      <td>0.165730</td>\n",
       "      <td>-0.121746</td>\n",
       "      <td>0.443472</td>\n",
       "      <td>-0.888571</td>\n",
       "      <td>0.943747</td>\n",
       "      <td>-0.101197</td>\n",
       "      <td>0.101272</td>\n",
       "      <td>0.911349</td>\n",
       "      <td>2.375724</td>\n",
       "      <td>-0.359601</td>\n",
       "      <td>...</td>\n",
       "      <td>0.120517</td>\n",
       "      <td>0.31503</td>\n",
       "      <td>-0.015114</td>\n",
       "      <td>0.019986</td>\n",
       "      <td>0.064249</td>\n",
       "      <td>-0.165696</td>\n",
       "      <td>0.701900</td>\n",
       "      <td>0.308471</td>\n",
       "      <td>0.018512</td>\n",
       "      <td>0.522154</td>\n",
       "    </tr>\n",
       "  </tbody>\n",
       "</table>\n",
       "<p>5 rows × 92 columns</p>\n",
       "</div>"
      ],
      "text/plain": [
       "       LotArea  YearBuilt  YearRemodAdd  1stFlrSF  2ndFlrSF  LowQualFinSF  \\\n",
       "884  -0.382735   0.142401      0.826417 -0.682093 -0.785025     -0.101197   \n",
       "641  -0.395416  -0.980221     -0.801097 -0.261491  1.249373     -0.101197   \n",
       "1357  0.300405   0.010327     -1.136173 -0.207960 -0.785025     -0.101197   \n",
       "469  -0.111229  -0.716075     -0.418153 -0.835039  1.263371     -0.101197   \n",
       "222   0.165730  -0.121746      0.443472 -0.888571  0.943747     -0.101197   \n",
       "\n",
       "      GrLivArea  WoodDeckSF  OpenPorchSF  EnclosedPorch    ...      \\\n",
       "884   -1.203167   -0.740760    -0.702843      -0.359601    ...       \n",
       "641    0.846384   -0.740760     2.775345      -0.359601    ...       \n",
       "1357  -0.835553   -0.740760    -0.702843      -0.359601    ...       \n",
       "469    0.413547    0.397535     0.333213      -0.359601    ...       \n",
       "222    0.101272    0.911349     2.375724      -0.359601    ...       \n",
       "\n",
       "      GarageCond  PavedDrive    PoolQC     Fence    Street     Alley  \\\n",
       "884     0.120517     0.31503 -0.015114 -3.221032  0.064249 -0.165696   \n",
       "641     0.120517     0.31503 -0.015114  0.019986  0.064249 -0.165696   \n",
       "1357    0.120517     0.31503 -0.015114  0.019986  0.064249 -0.165696   \n",
       "469     0.120517     0.31503 -0.015114  0.019986  0.064249 -0.165696   \n",
       "222     0.120517     0.31503 -0.015114  0.019986  0.064249 -0.165696   \n",
       "\n",
       "      LotShape  LandContour  Utilities  LotConfig  \n",
       "884   0.701900     0.308471   0.018512   0.522154  \n",
       "641   0.701900     0.308471   0.018512   0.522154  \n",
       "1357 -1.052249     0.308471   0.018512  -2.074385  \n",
       "469  -1.052249     0.308471   0.018512  -0.776115  \n",
       "222   0.701900     0.308471   0.018512   0.522154  \n",
       "\n",
       "[5 rows x 92 columns]"
      ]
     },
     "execution_count": 138,
     "metadata": {},
     "output_type": "execute_result"
    }
   ],
   "source": [
    "X_train, X_test, y_train, y_test = train_test_split(X_new, y, test_size=0.2, random_state=8)\n",
    "X_train.head()"
   ]
  },
  {
   "cell_type": "markdown",
   "metadata": {},
   "source": [
    "# Linear Regression"
   ]
  },
  {
   "cell_type": "code",
   "execution_count": 139,
   "metadata": {
    "collapsed": false
   },
   "outputs": [
    {
     "name": "stdout",
     "output_type": "stream",
     "text": [
      "log error of training: 0.130228463538\n",
      "log error of test: 0.146851633472\n"
     ]
    }
   ],
   "source": [
    "from sklearn.linear_model import LinearRegression\n",
    "lg=LinearRegression()\n",
    "lg.fit(X_train, y_train)\n",
    "print(\"log error of training:\", np.sqrt(mean_squared_error(y_train, lg.predict(X_train))))\n",
    "print(\"log error of test:\", np.sqrt(mean_squared_error(y_test, lg.predict(X_test))))"
   ]
  },
  {
   "cell_type": "code",
   "execution_count": 140,
   "metadata": {
    "collapsed": false
   },
   "outputs": [],
   "source": [
    "y_pre=lg.predict(real_test_new)\n",
    "y_pre=np.exp(y_pre)"
   ]
  },
  {
   "cell_type": "code",
   "execution_count": 25,
   "metadata": {
    "collapsed": false
   },
   "outputs": [],
   "source": [
    "submission=pd.DataFrame(real_test['Id'])\n",
    "submission['SalePrice']=y_pre\n",
    "submission.head()\n",
    "\n",
    "submission.to_csv(path_or_buf= 'submission_lg_except_ordial_data.csv',index=False)"
   ]
  },
  {
   "cell_type": "markdown",
   "metadata": {},
   "source": [
    "# Random Forest"
   ]
  },
  {
   "cell_type": "code",
   "execution_count": 141,
   "metadata": {
    "collapsed": false
   },
   "outputs": [
    {
     "name": "stdout",
     "output_type": "stream",
     "text": [
      "Fitting 7 folds for each of 8 candidates, totalling 56 fits\n"
     ]
    },
    {
     "name": "stderr",
     "output_type": "stream",
     "text": [
      "[Parallel(n_jobs=1)]: Done  56 out of  56 | elapsed:  1.3min finished\n"
     ]
    },
    {
     "name": "stdout",
     "output_type": "stream",
     "text": [
      "log error of training: 0.0664533233273\n",
      "log error of test: 0.128633131308\n"
     ]
    }
   ],
   "source": [
    "from sklearn.model_selection import GridSearchCV\n",
    "parameters={'max_features':list(np.arange(2,40,5))}\n",
    "rf=RandomForestRegressor(n_estimators=200, min_samples_leaf=2)\n",
    "clf=GridSearchCV(rf, parameters, verbose=1, cv=7)\n",
    "clf.fit(X_train, y_train)\n",
    "\n",
    "print(\"log error of training:\", np.sqrt(mean_squared_error(y_train, np.asarray(clf.predict(X_train), dtype='float64'))))\n",
    "print(\"log error of test:\", np.sqrt(mean_squared_error(y_test, np.asarray(clf.predict(X_test),dtype='float64'))))"
   ]
  },
  {
   "cell_type": "code",
   "execution_count": 142,
   "metadata": {
    "collapsed": false
   },
   "outputs": [
    {
     "data": {
      "text/plain": [
       "RandomForestRegressor(bootstrap=True, criterion='mse', max_depth=None,\n",
       "           max_features=37, max_leaf_nodes=None, min_impurity_split=1e-07,\n",
       "           min_samples_leaf=2, min_samples_split=2,\n",
       "           min_weight_fraction_leaf=0.0, n_estimators=200, n_jobs=1,\n",
       "           oob_score=False, random_state=None, verbose=0, warm_start=False)"
      ]
     },
     "execution_count": 142,
     "metadata": {},
     "output_type": "execute_result"
    }
   ],
   "source": [
    "clf.best_estimator_"
   ]
  },
  {
   "cell_type": "code",
   "execution_count": 143,
   "metadata": {
    "collapsed": false
   },
   "outputs": [],
   "source": [
    "y_pre=clf.predict(real_test_new)\n",
    "y_pre=np.exp(y_pre)\n",
    "\n",
    "submission=pd.DataFrame(real_test['Id'])\n",
    "submission['SalePrice']=y_pre\n",
    "submission.head()\n",
    "\n",
    "submission.to_csv(path_or_buf= 'submission_randomf_200est_37maxfeature_allfeatures.csv',index=False)"
   ]
  },
  {
   "cell_type": "markdown",
   "metadata": {},
   "source": [
    "# XGB"
   ]
  },
  {
   "cell_type": "code",
   "execution_count": 144,
   "metadata": {
    "collapsed": false
   },
   "outputs": [
    {
     "name": "stderr",
     "output_type": "stream",
     "text": [
      "/home/xinlin/anaconda3/lib/python3.5/site-packages/sklearn/cross_validation.py:44: DeprecationWarning: This module was deprecated in version 0.18 in favor of the model_selection module into which all the refactored classes and functions are moved. Also note that the interface of the new CV iterators are different from that of this module. This module will be removed in 0.20.\n",
      "  \"This module will be removed in 0.20.\", DeprecationWarning)\n"
     ]
    }
   ],
   "source": [
    "from xgboost import XGBRegressor"
   ]
  },
  {
   "cell_type": "code",
   "execution_count": 147,
   "metadata": {
    "collapsed": false
   },
   "outputs": [
    {
     "name": "stdout",
     "output_type": "stream",
     "text": [
      "Fitting 4 folds for each of 12 candidates, totalling 48 fits\n"
     ]
    },
    {
     "name": "stderr",
     "output_type": "stream",
     "text": [
      "[Parallel(n_jobs=1)]: Done  48 out of  48 | elapsed:  1.1min finished\n"
     ]
    },
    {
     "name": "stdout",
     "output_type": "stream",
     "text": [
      "log error of training: 0.0421631184221\n",
      "log error of test: 0.126978525179\n"
     ]
    }
   ],
   "source": [
    "xgb=XGBRegressor()\n",
    "parameters={'max_depth':list(np.arange(3,6)), 'learning_rate': [0.01,0.03, 0.05, 0.1], 'n_estimators': [500]}\n",
    "clf=GridSearchCV(xgb, parameters, verbose=1, cv=4)\n",
    "clf.fit(X_train, y_train)\n",
    "\n",
    "print(\"log error of training:\", np.sqrt(mean_squared_error(y_train, np.asarray(clf.predict(X_train), dtype='float64'))))\n",
    "print(\"log error of test:\", np.sqrt(mean_squared_error(y_test, np.asarray(clf.predict(X_test),dtype='float64'))))"
   ]
  },
  {
   "cell_type": "code",
   "execution_count": 148,
   "metadata": {
    "collapsed": false
   },
   "outputs": [
    {
     "data": {
      "text/plain": [
       "XGBRegressor(base_score=0.5, colsample_bylevel=1, colsample_bytree=1, gamma=0,\n",
       "       learning_rate=0.05, max_delta_step=0, max_depth=4,\n",
       "       min_child_weight=1, missing=None, n_estimators=500, nthread=-1,\n",
       "       objective='reg:linear', reg_alpha=0, reg_lambda=1,\n",
       "       scale_pos_weight=1, seed=0, silent=True, subsample=1)"
      ]
     },
     "execution_count": 148,
     "metadata": {},
     "output_type": "execute_result"
    }
   ],
   "source": [
    "clf.best_estimator_"
   ]
  },
  {
   "cell_type": "code",
   "execution_count": 149,
   "metadata": {
    "collapsed": true
   },
   "outputs": [],
   "source": [
    "y_pre=clf.predict(real_test_new)\n",
    "y_pre=np.exp(y_pre)\n",
    "\n",
    "submission=pd.DataFrame(real_test['Id'])\n",
    "submission['SalePrice']=y_pre\n",
    "submission.head()\n",
    "\n",
    "submission.to_csv(path_or_buf= 'submission_XGB_500est_0.05rate_4depth.csv',index=False)"
   ]
  },
  {
   "cell_type": "code",
   "execution_count": null,
   "metadata": {
    "collapsed": true
   },
   "outputs": [],
   "source": []
  }
 ],
 "metadata": {
  "anaconda-cloud": {},
  "kernelspec": {
   "display_name": "Python [Root]",
   "language": "python",
   "name": "Python [Root]"
  },
  "language_info": {
   "codemirror_mode": {
    "name": "ipython",
    "version": 3
   },
   "file_extension": ".py",
   "mimetype": "text/x-python",
   "name": "python",
   "nbconvert_exporter": "python",
   "pygments_lexer": "ipython3",
   "version": "3.5.2"
  }
 },
 "nbformat": 4,
 "nbformat_minor": 0
}
